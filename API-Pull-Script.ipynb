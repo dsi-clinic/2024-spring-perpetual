{
 "cells": [
  {
   "cell_type": "markdown",
   "id": "70b95fb1",
   "metadata": {},
   "source": [
    "### Here is a Python script that can pull large residential buildings for any U.S. city from RentCast given a GeoJSON file (like the ones in data/boundaries)."
   ]
  },
  {
   "cell_type": "code",
   "execution_count": 1,
   "id": "6856aea9",
   "metadata": {},
   "outputs": [],
   "source": [
    "import requests\n",
    "import geopandas as gpd\n",
    "\n",
    "def fetch_large_residential_buildings(geojson_path, api_key):\n",
    "    \"\"\"\n",
    "    Fetch large residential buildings for a city defined by a GeoJSON file.\n",
    "    \n",
    "    Parameters:\n",
    "    - geojson_path (str): Path to the GeoJSON file defining city boundaries.\n",
    "    - api_key (str): API key for accessing the RentCast API.\n",
    "    \n",
    "    Returns:\n",
    "    - list: A list of dictionaries, each representing a large residential building.\n",
    "    \"\"\"\n",
    "    # Load GeoJSON file\n",
    "    gdf = gpd.read_file(geojson_path)\n",
    "    city_center = gdf.unary_union.centroid\n",
    "    \n",
    "    # Initialize variables for API requests\n",
    "    url_template = \"https://api.rentcast.io/v1/properties?latitude={lat}&longitude={lng}&offset={offset}\"\n",
    "    headers = {\n",
    "        \"accept\": \"application/json\",\n",
    "        \"X-Api-Key\": api_key\n",
    "    }\n",
    "    offset = 0\n",
    "    large_buildings = []\n",
    "    max_entries_per_request = 500  # API's limit per request\n",
    "    \n",
    "    while True:\n",
    "        # Prepare URL with current offset\n",
    "        url = url_template.format(lat=city_center.y, lng=city_center.x, offset=offset)\n",
    "        \n",
    "        # Make the API request\n",
    "        response = requests.get(url, headers=headers)\n",
    "        response_data = response.json()\n",
    "        \n",
    "        # Assuming response_data is a list of properties\n",
    "        for property in response_data:\n",
    "            # Example criterion: unitCount > 40, but need to adjust it\n",
    "            if property.get('features', {}).get('unitCount', 0) > 40:\n",
    "                large_buildings.append(property)\n",
    "        \n",
    "        # Check if we've fetched all available entries\n",
    "        if len(response_data) < max_entries_per_request:\n",
    "            break  # Exit loop if fewer than max entries are returned, indicating we've reached the end\n",
    "        \n",
    "        offset += max_entries_per_request  # Increase offset for the next request\n",
    "    \n",
    "    return large_buildings"
   ]
  },
  {
   "cell_type": "code",
   "execution_count": null,
   "id": "2e182872",
   "metadata": {},
   "outputs": [],
   "source": [
    "# Example usage\n",
    "geojson_path = 'path_to_your_geojson_file/hilo.geojson'\n",
    "api_key = 'your_api_key_here'\n",
    "large_residential_buildings = fetch_large_residential_buildings(geojson_path, api_key)\n",
    "\n",
    "# For demonstration, print the number of fetched large buildings\n",
    "print(f\"Number of large residential buildings fetched: {len(large_residential_buildings)}\")"
   ]
  }
 ],
 "metadata": {
  "kernelspec": {
   "display_name": "Python 3 (ipykernel)",
   "language": "python",
   "name": "python3"
  },
  "language_info": {
   "codemirror_mode": {
    "name": "ipython",
    "version": 3
   },
   "file_extension": ".py",
   "mimetype": "text/x-python",
   "name": "python",
   "nbconvert_exporter": "python",
   "pygments_lexer": "ipython3",
   "version": "3.9.12"
  }
 },
 "nbformat": 4,
 "nbformat_minor": 5
}
