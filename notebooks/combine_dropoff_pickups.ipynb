{
 "cells": [
  {
   "cell_type": "code",
   "execution_count": 26,
   "id": "195cc71a-dff6-4246-a48d-9222f3daf8e0",
   "metadata": {},
   "outputs": [],
   "source": [
    "import pandas as pd"
   ]
  },
  {
   "cell_type": "code",
   "execution_count": 27,
   "id": "06ec4b7d-edfd-48d5-901e-92259afb86fb",
   "metadata": {},
   "outputs": [],
   "source": [
    "df = pd.read_csv(\"../data/toy_example.csv\")\n",
    "dists_df = pd.read_csv(\"../data/toy_example_dists.csv\")"
   ]
  },
  {
   "cell_type": "code",
   "execution_count": 28,
   "id": "fc492e84-036f-4d2d-a08c-248ad80511ed",
   "metadata": {},
   "outputs": [],
   "source": [
    "dists_df.columns = [i for i in range(len(dists_df.columns))]"
   ]
  },
  {
   "cell_type": "code",
   "execution_count": 29,
   "id": "601a8055-695f-40e5-a284-7b7e1532c5aa",
   "metadata": {},
   "outputs": [],
   "source": [
    "res_df, res_dists = df, dists_df\n",
    "\n",
    "capacities = list(df['Daily_Pickup_Totes'])\n",
    "for i, row in df.iterrows():\n",
    "    if row['Weekly_Dropoff_Totes'] != 0:\n",
    "        capacities.append(-1 * row['Weekly_Dropoff_Totes'])\n",
    "        row_copy = pd.DataFrame(row).T\n",
    "        res_df = pd.concat([res_df, row_copy])\n",
    "\n",
    "        dist_copy = pd.DataFrame(res_dists.iloc[i]).T\n",
    "        res_dists = pd.concat([res_dists, dist_copy])\n",
    "\n",
    "        res_dists[i+.1] = res_dists[i]\n",
    "res_df['Capacity'] = capacities\n",
    "res_dists.columns = res_dists.index"
   ]
  },
  {
   "cell_type": "code",
   "execution_count": 30,
   "id": "09f07f85-2f6d-4cef-9d49-50732dd4c64c",
   "metadata": {},
   "outputs": [
    {
     "data": {
      "text/plain": [
       "False"
      ]
     },
     "execution_count": 30,
     "metadata": {},
     "output_type": "execute_result"
    }
   ],
   "source": [
    "res_dists.isna().any().any()"
   ]
  },
  {
   "cell_type": "code",
   "execution_count": 31,
   "id": "f7d07501-8858-4a1f-a077-ec47d04a3ac3",
   "metadata": {},
   "outputs": [],
   "source": [
    "res_df.to_csv(\"../data/outputs/notebook_output_combined_dropoff_pickup_toy.csv\")\n",
    "res_dists.to_csv(\"../data/outputs/notebook_output_combined_dropoff_pickup_dists_toy.csv\")"
   ]
  },
  {
   "cell_type": "code",
   "execution_count": null,
   "id": "14b72e79-dc21-463a-ab2e-475947501e2b",
   "metadata": {},
   "outputs": [],
   "source": []
  }
 ],
 "metadata": {
  "kernelspec": {
   "display_name": "Python 3 (ipykernel)",
   "language": "python",
   "name": "python3"
  },
  "language_info": {
   "codemirror_mode": {
    "name": "ipython",
    "version": 3
   },
   "file_extension": ".py",
   "mimetype": "text/x-python",
   "name": "python",
   "nbconvert_exporter": "python",
   "pygments_lexer": "ipython3",
   "version": "3.11.6"
  }
 },
 "nbformat": 4,
 "nbformat_minor": 5
}
