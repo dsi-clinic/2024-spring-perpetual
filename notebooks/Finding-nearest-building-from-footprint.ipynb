{
 "cells": [
  {
   "cell_type": "markdown",
   "id": "87c5b347",
   "metadata": {},
   "source": [
    "### 1. Standardize and collapse the apartment API addresses.\n",
    "### 2. Join the collapsed API addresses with FEMA data.\n",
    "### 3. Find the nearest building footprint for each joined entry."
   ]
  },
  {
   "cell_type": "code",
   "execution_count": 65,
   "id": "0ddae561",
   "metadata": {},
   "outputs": [],
   "source": [
    "# Import all necessary libraries\n",
    "import pandas as pd\n",
    "import geopandas as gpd\n",
    "from shapely.geometry import Point\n",
    "import seaborn as sns\n",
    "%matplotlib inline\n",
    "from shapely.geometry import Polygon\n",
    "from shapely.geometry import Point,Polygon\n",
    "from pyproj import Proj, Transformer\n",
    "import matplotlib.pyplot as plt\n",
    "from geopy.geocoders import Nominatim\n",
    "from geopy.geocoders import GoogleV3\n",
    "import fiona\n",
    "import pyarrow as pa\n",
    "import pyarrow.parquet as pq\n",
    "import matplotlib.pyplot as plt\n",
    "import matplotlib.patches as mpatches\n",
    "import json\n",
    "import requests\n",
    "import pandas as pd\n",
    "import geopandas as gpd\n",
    "from geopy.geocoders import Nominatim\n",
    "from shapely.geometry import Point\n",
    "from shapely.ops import nearest_points\n",
    "from pyproj import CRS\n",
    "import geopandas as gpd\n",
    "from geopy.geocoders import Nominatim\n",
    "from shapely.geometry import Point\n",
    "from functools import lru_cache\n",
    "import concurrent.futures\n",
    "import pandas as pd\n",
    "import geopandas as gpd\n",
    "from shapely.geometry import Point, MultiPoint\n",
    "from sklearn.neighbors import BallTree\n",
    "import numpy as np\n",
    "\n",
    "\n",
    "#!pip install pyarrow\n",
    "#!pip install geopy\n",
    "#!pip install fiona"
   ]
  },
  {
   "cell_type": "code",
   "execution_count": 66,
   "id": "bd24df06",
   "metadata": {},
   "outputs": [],
   "source": [
    "# Load FEMA Data\n",
    "fema_data_path = '/Users/kd6801/Desktop/HI_map/HI_Structures.gdb'\n",
    "\n",
    "# List all layers in the File Geodatabase\n",
    "layers = fiona.listlayers(fema_data_path)\n",
    "\n",
    "# Read a specific layer into a GeoDataFrame\n",
    "fema_data = gpd.read_file(fema_data_path, layer=layers[0])\n"
   ]
  },
  {
   "cell_type": "code",
   "execution_count": 67,
   "id": "8139fd5f",
   "metadata": {},
   "outputs": [],
   "source": [
    "# Load API Data\n",
    "api_data = pd.read_json('/Users/kd6801/Desktop/Hilo_API/Hilo_apartment.json')"
   ]
  },
  {
   "cell_type": "code",
   "execution_count": 68,
   "id": "7c2734b6",
   "metadata": {},
   "outputs": [],
   "source": [
    "# Load building footprint data\n",
    "path_to_hilo_parquet = '/Users/kd6801/Desktop/foot-traffic/hilo_full_patterns.parquet'\n",
    "building_footprints =  pd.read_parquet(path_to_hilo_parquet, engine='pyarrow')"
   ]
  },
  {
   "cell_type": "code",
   "execution_count": 69,
   "id": "e9a8dbfb",
   "metadata": {},
   "outputs": [
    {
     "data": {
      "text/plain": [
       "id                                    98-Ponahawai-St,-Hilo,-HI-96720\n",
       "formattedAddress                      98 Ponahawai St, Hilo, HI 96720\n",
       "addressLine1                                          98 Ponahawai St\n",
       "addressLine2                                                     None\n",
       "city                                                             Hilo\n",
       "state                                                              HI\n",
       "zipCode                                                         96720\n",
       "county                                                         Hawaii\n",
       "latitude                                                    19.722039\n",
       "longitude                                                 -155.084752\n",
       "propertyType                                                Apartment\n",
       "squareFootage                                                  3942.0\n",
       "lotSize                                                        4574.0\n",
       "yearBuilt                                                      1919.0\n",
       "assessorID                                              3-2-3-009-007\n",
       "legalDescription    LOT 7 1,948 SF DES & LOT 8 2,664 SF DES RP 115...\n",
       "subdivision                                             BECKLEY TRACT\n",
       "zoning                                       3Z - RESORT-HOTEL,HEIGHT\n",
       "features            {'exteriorType': 'Wood', 'floorCount': 2, 'uni...\n",
       "taxAssessments      {'2020': {'value': 273900, 'land': 103300, 'im...\n",
       "propertyTaxes                               {'2020': {'total': 2931}}\n",
       "owner               {'names': ['GABRIEL P RAMIREZ'], 'mailingAddre...\n",
       "ownerOccupied                                                     0.0\n",
       "lastSaleDate                                 1998-09-29T00:00:00.000Z\n",
       "lastSalePrice                                                160000.0\n",
       "bathrooms                                                         NaN\n",
       "bedrooms                                                          NaN\n",
       "Name: 2, dtype: object"
      ]
     },
     "execution_count": 69,
     "metadata": {},
     "output_type": "execute_result"
    }
   ],
   "source": [
    "api_data.iloc[2]"
   ]
  },
  {
   "cell_type": "code",
   "execution_count": 70,
   "id": "71afa979",
   "metadata": {},
   "outputs": [
    {
     "data": {
      "text/plain": [
       "placekey                                                   22d-222@bp4-jct-f75\n",
       "safegraph_place_id                         sg:e170329441704027b328f7603705729f\n",
       "parent_placekey                                            228-222@bp4-jct-hkf\n",
       "parent_safegraph_place_id                  sg:d4f8d56cb61345e6b33a5a1382a503d7\n",
       "location_name                                  Happy Valley Seafood Restaurant\n",
       "safegraph_brand_ids                                                       None\n",
       "brands                                                                    None\n",
       "top_category                               Restaurants and Other Eating Places\n",
       "sub_category                                          Full-Service Restaurants\n",
       "category_tags                                                     Chinese Food\n",
       "naics_code                                                            722511.0\n",
       "latitude                                                             19.710198\n",
       "longitude                                                          -155.076062\n",
       "street_address                                        1263 Kilauea Ave Ste 320\n",
       "city                                                                      Hilo\n",
       "region                                                                      HI\n",
       "postal_code                                                              96720\n",
       "iso_country_code                                                            US\n",
       "phone_number                                                     18089331083.0\n",
       "open_hours                                                                None\n",
       "opened_on                                                                 None\n",
       "closed_on                                                                  NaN\n",
       "tracking_opened_since                                                     None\n",
       "tracking_closed_since                                                  2019-07\n",
       "date_range_start                                     2020-04-01T00:00:00-10:00\n",
       "date_range_end                                       2020-05-01T00:00:00-10:00\n",
       "raw_visit_counts                                                          72.0\n",
       "raw_visitor_counts                                                        45.0\n",
       "visits_by_day                [4,6,3,5,0,2,2,2,0,0,2,1,6,1,4,1,5,0,1,3,3,1,2...\n",
       "visitor_home_cbgs            {\"150010205001\":4,\"150010210052\":4,\"1500102060...\n",
       "visitor_country_of_origin                                            {\"US\":44}\n",
       "distance_from_home                                                      9178.0\n",
       "median_dwell                                                              14.0\n",
       "bucketed_dwell_times         {\"<5\":10,\"5-10\":23,\"11-20\":11,\"21-60\":18,\"61-1...\n",
       "related_same_day_brand                                                      {}\n",
       "related_same_month_brand     {\"CVS\":57,\"Target\":49,\"7-Eleven\":35,\"Walmart\":...\n",
       "popularity_by_hour           [1,1,0,1,0,0,2,8,6,7,10,13,15,13,9,11,7,3,0,1,...\n",
       "popularity_by_day            {\"Monday\":13,\"Tuesday\":9,\"Wednesday\":11,\"Thurs...\n",
       "device_type                                            {\"android\":21,\"ios\":24}\n",
       "poi_cbg                                                         150010205003.0\n",
       "visitor_daytime_cbgs         {\"150010210131\":4,\"150010207012\":4,\"1500102050...\n",
       "Name: 3153, dtype: object"
      ]
     },
     "execution_count": 70,
     "metadata": {},
     "output_type": "execute_result"
    }
   ],
   "source": [
    "building_footprints.iloc[1]"
   ]
  },
  {
   "cell_type": "code",
   "execution_count": 71,
   "id": "7728dc95",
   "metadata": {},
   "outputs": [
    {
     "data": {
      "image/svg+xml": [
       "<svg xmlns=\"http://www.w3.org/2000/svg\" xmlns:xlink=\"http://www.w3.org/1999/xlink\" width=\"100.0\" height=\"100.0\" viewBox=\"-159.44513619703997 21.870636999960038 0.00022936408001328346 0.00023657507998819938\" preserveAspectRatio=\"xMinYMin meet\"><g transform=\"matrix(1,0,0,-1,0,43.74151057500006)\"><g><path fill-rule=\"evenodd\" fill=\"#66cc99\" stroke=\"#555555\" stroke-width=\"4.731501599763987e-06\" opacity=\"0.6\" d=\"M -159.44504553199997,21.870645762000038 L -159.44512743499996,21.87080747500005 L -159.44499749799996,21.870864813000026 L -159.44491559499997,21.870703099000025 L -159.44504553199997,21.870645762000038 z\" /></g></g></svg>"
      ],
      "text/plain": [
       "<MULTIPOLYGON (((-159 21.9, -159 21.9, -159 21.9, -159 21.9, -159 21.9)))>"
      ]
     },
     "execution_count": 71,
     "metadata": {},
     "output_type": "execute_result"
    }
   ],
   "source": [
    "fema_data.iloc[68]['geometry']"
   ]
  },
  {
   "cell_type": "code",
   "execution_count": 72,
   "id": "db2b931c",
   "metadata": {},
   "outputs": [
    {
     "data": {
      "text/plain": [
       "BUILD_ID                                                   915522\n",
       "OCC_CLS                                               Residential\n",
       "PRIM_OCC                                   Single Family Dwelling\n",
       "SEC_OCC                                                      None\n",
       "PROP_ADDR                                                    None\n",
       "PROP_CITY                                                    None\n",
       "PROP_ST                                                    Hawaii\n",
       "PROP_ZIP                                                     None\n",
       "OUTBLDG                                                      None\n",
       "HEIGHT                                                        NaN\n",
       "SQMETERS                                               266.954773\n",
       "SQFEET                                                2873.474365\n",
       "H_ADJ_ELEV                                                   None\n",
       "L_ADJ_ELEV                                                   None\n",
       "FIPS                                                        15007\n",
       "CENSUSCODE                                            15007040603\n",
       "PROD_DATE                                     2019-06-03 00:00:00\n",
       "SOURCE                                                       ORNL\n",
       "USNG                                           04Q DK 54022 18588\n",
       "LONGITUDE                                             -159.445022\n",
       "LATITUDE                                                21.870755\n",
       "IMAGE_NAME                                       10300100567DF800\n",
       "IMAGE_DATE                                    2016-05-06 00:00:00\n",
       "VAL_METHOD                                              Automated\n",
       "REMARKS                                                      None\n",
       "UUID                       {84d0f0d4-da84-4997-a1d5-998ca0f2bd46}\n",
       "Shape_Length                                             0.000647\n",
       "Shape_Area                                                    0.0\n",
       "geometry        MULTIPOLYGON (((-159.445045532 21.870645762000...\n",
       "Name: 68, dtype: object"
      ]
     },
     "execution_count": 72,
     "metadata": {},
     "output_type": "execute_result"
    }
   ],
   "source": [
    "fema_data.iloc[68]"
   ]
  },
  {
   "cell_type": "code",
   "execution_count": 73,
   "id": "0e9537a8",
   "metadata": {},
   "outputs": [],
   "source": [
    "# Standardize and collapse addresses in API data\n",
    "api_data['standardized_address'] = api_data['formattedAddress'].str.lower().replace({'street': 'st', 'road': 'rd'}, regex=True)\n",
    "api_data['standardized_address'] = api_data['formattedAddress'].str.replace(r'\\bapt.*\\b|\\bunit.*\\b', '', regex=True).str.strip()\n",
    "api_data = api_data.drop_duplicates(subset=['formattedAddress', 'zipCode'])"
   ]
  },
  {
   "cell_type": "code",
   "execution_count": 74,
   "id": "289ee3f9",
   "metadata": {},
   "outputs": [],
   "source": [
    "# Create geometry columns for GeoDataFrames\n",
    "api_data['geometry'] = api_data.apply(lambda row: Point(row['longitude'], row['latitude']), axis=1)\n",
    "#fema_data['geometry'] = fema_data.apply(lambda row: Point(row['LONGITUDE'], row['LATITUDE']), axis=1)\n",
    "building_footprints['geometry'] = building_footprints.apply(lambda row: Point(row['longitude'], row['latitude']), axis=1)\n",
    "\n",
    "api_gdf = gpd.GeoDataFrame(api_data, geometry='geometry', crs='EPSG:4326')\n",
    "fema_gdf = gpd.GeoDataFrame(fema_data, geometry='geometry', crs='EPSG:4326')\n",
    "building_footprints_gdf = gpd.GeoDataFrame(building_footprints, geometry='geometry', crs='EPSG:4326')\n",
    "\n"
   ]
  },
  {
   "cell_type": "code",
   "execution_count": 75,
   "id": "4f182485",
   "metadata": {},
   "outputs": [
    {
     "name": "stderr",
     "output_type": "stream",
     "text": [
      "/Users/kd6801/opt/anaconda3/lib/python3.9/site-packages/IPython/core/interactiveshell.py:3309: FutureWarning: The `op` parameter is deprecated and will be removed in a future release. Please use the `predicate` parameter instead.\n",
      "  if await self.run_code(code, result, async_=asy):\n"
     ]
    }
   ],
   "source": [
    "joined = gpd.sjoin(api_gdf, fema_gdf, how=\"inner\", op='intersects')"
   ]
  },
  {
   "cell_type": "code",
   "execution_count": 76,
   "id": "130fcaaf",
   "metadata": {},
   "outputs": [
    {
     "name": "stdout",
     "output_type": "stream",
     "text": [
      "After joining the Apartment API and Fema dataset, we have 75 overlaps.\n"
     ]
    }
   ],
   "source": [
    "print(f\"After joining the Apartment API and Fema dataset, we have {len(joined)} overlaps.\")"
   ]
  },
  {
   "cell_type": "code",
   "execution_count": 77,
   "id": "42a0cbf4",
   "metadata": {},
   "outputs": [],
   "source": [
    "# Rename columns in both dataframes if they exist\n",
    "if 'index_left' in joined.columns:\n",
    "    joined.rename(columns={'index_left': 'index_left_old'}, inplace=True)\n",
    "if 'index_right' in joined.columns:\n",
    "    joined.rename(columns={'index_right': 'index_right_old'}, inplace=True)\n",
    "if 'index_left' in building_footprints_gdf.columns:\n",
    "    building_footprints_gdf.rename(columns={'index_left': 'index_left_old'}, inplace=True)\n",
    "if 'index_right' in building_footprints_gdf.columns:\n",
    "    building_footprints_gdf.rename(columns={'index_right': 'index_right_old'}, inplace=True)"
   ]
  },
  {
   "cell_type": "code",
   "execution_count": 78,
   "id": "1a2951ce",
   "metadata": {},
   "outputs": [
    {
     "name": "stdout",
     "output_type": "stream",
     "text": [
      "CRS for geoParquet dataframe is EPSG:4326\n",
      "CRS for joined dataframe is EPSG:4326\n",
      "After alignment,CRS for geoParquet dataframe is EPSG:4326\n",
      "After alignment,CRS for joined dataframe is EPSG:4326\n",
      "There are in total 47954 entries in the foot traffic data\n"
     ]
    }
   ],
   "source": [
    "# Now we make sure they use the same CRS\n",
    "print(f\"CRS for geoParquet dataframe is {building_footprints_gdf.crs}\")\n",
    "print(f\"CRS for joined dataframe is {joined.crs}\")\n",
    "building_footprints_gdf = building_footprints_gdf.set_crs(joined.crs, allow_override=True)\n",
    "print(f\"After alignment,CRS for geoParquet dataframe is {building_footprints_gdf.crs}\")\n",
    "print(f\"After alignment,CRS for joined dataframe is {joined.crs}\")\n",
    "\n",
    "print(f\"There are in total {len(building_footprints_gdf)} entries in the foot traffic data\")"
   ]
  },
  {
   "cell_type": "code",
   "execution_count": 79,
   "id": "7dc1ffa0",
   "metadata": {},
   "outputs": [],
   "source": [
    "# Check for and drop any geometries that are None or contain NaN coordinates\n",
    "building_footprints_gdf = building_footprints_gdf[building_footprints_gdf.geometry.notna()]\n",
    "joined = joined[joined.geometry.notna()]\n",
    "# Remove any geometries that are invalid\n",
    "building_footprints_gdf = building_footprints_gdf[building_footprints_gdf.geometry.is_valid]\n",
    "joined = joined[joined.geometry.is_valid]"
   ]
  },
  {
   "cell_type": "code",
   "execution_count": 80,
   "id": "02edd448",
   "metadata": {},
   "outputs": [
    {
     "name": "stderr",
     "output_type": "stream",
     "text": [
      "/Users/kd6801/opt/anaconda3/lib/python3.9/site-packages/IPython/core/interactiveshell.py:3309: FutureWarning: The `op` parameter is deprecated and will be removed in a future release. Please use the `predicate` parameter instead.\n",
      "  if await self.run_code(code, result, async_=asy):\n"
     ]
    }
   ],
   "source": [
    "# Spatial join API data with FEMA data\n",
    "joined_gdf = gpd.sjoin(joined, building_footprints_gdf, how='inner', op='intersects')"
   ]
  },
  {
   "cell_type": "code",
   "execution_count": 81,
   "id": "7dee68bc",
   "metadata": {},
   "outputs": [
    {
     "name": "stdout",
     "output_type": "stream",
     "text": [
      "Through direct gpd.sjoin, we see that there is 0 overlap.\n"
     ]
    }
   ],
   "source": [
    "print(f\"Through direct gpd.sjoin, we see that there is {len(joined_gdf)} overlap.\")"
   ]
  },
  {
   "cell_type": "markdown",
   "id": "1046eed7",
   "metadata": {},
   "source": [
    "### Need to use  nearest geometry"
   ]
  },
  {
   "cell_type": "code",
   "execution_count": 82,
   "id": "f271fd3c",
   "metadata": {},
   "outputs": [],
   "source": [
    "from shapely.ops import nearest_points\n",
    "\n",
    "# Prepare an R-tree index on the building footprints\n",
    "building_index = building_footprints_gdf.sindex\n",
    "\n",
    "def nearest_building(point, building_gdf, building_index):\n",
    "    possible_matches_index = list(building_index.nearest(point.bounds, 1))\n",
    "    possible_matches = building_gdf.iloc[possible_matches_index]\n",
    "    nearest_geom = nearest_points(point, possible_matches.unary_union)[1]\n",
    "    return nearest_geom\n",
    "\n",
    "# Apply the nearest building function to each point in the joined GeoDataFrame\n",
    "joined_gdf['nearest_building'] = joined_gdf['geometry'].apply(lambda x: nearest_building(x, building_footprints_gdf, building_index))\n"
   ]
  },
  {
   "cell_type": "code",
   "execution_count": 83,
   "id": "034a2039",
   "metadata": {},
   "outputs": [
    {
     "data": {
      "image/png": "[encoded data removed]",
      "text/plain": [
       "<Figure size 720x720 with 1 Axes>"
      ]
     },
     "metadata": {
      "needs_background": "light"
     },
     "output_type": "display_data"
    }
   ],
   "source": [
    "import matplotlib.pyplot as plt\n",
    "\n",
    "fig, ax = plt.subplots(figsize=(10, 10))\n",
    "joined.plot(ax=ax, color='blue', label='Joined Entries')\n",
    "building_footprints_gdf.plot(ax=ax, color='green', label='Building Footprints', markersize=5)\n",
    "plt.legend()\n",
    "plt.show()\n"
   ]
  },
  {
   "cell_type": "markdown",
   "id": "2d1aebbc",
   "metadata": {},
   "source": [
    "The plot appears to be a visualization of two sets of geospatial data:\n",
    "\n",
    "- **Joined Entries (in blue):** These represent the locations where the API data and FEMA data have intersecting points after a spatial join, indicating where apartments identified by the API are matched with FEMA's dataset of building locations.\n",
    "- **Building Footprints (in green):** These are the locations of buildings as outlined by the footprint data.\n",
    "\n",
    "What we can deduce from the plot is:\n",
    "\n",
    "1. **Clustering:** There seems to be a cluster of buildings (green points) where several joined entries (blue points) are located. This suggests a higher density of buildings in certain areas which could correspond to a city center or urban residential area.\n",
    "   \n",
    "2. **Spatial Relationship:** The blue points (joined entries) are within or very close to the green points (building footprints), which suggests that the spatial join has been successful to a certain extent, aligning the data from the two different sources.\n",
    "\n",
    "3. **Coverage:** We are only looking at aprtment buildings, which indicate strong correlation between the hot spot of foot traffic data and apartments in Hilo.\n",
    "\n",
    "4. **Observation:** If we look at the latitude values (y-axis), we can see the range is quite small, suggesting that this is a localized area."
   ]
  },
  {
   "cell_type": "code",
   "execution_count": 84,
   "id": "65091c96",
   "metadata": {},
   "outputs": [],
   "source": [
    "# import geopandas as gpd\n",
    "# import contextily as ctx\n",
    "# import matplotlib.pyplot as plt\n",
    "\n",
    "# # Ensure that your GeoDataFrame 'joined' has a CRS set\n",
    "# joined.crs = \"EPSG:4326\"  # Set it to WGS 84 if it's not already set\n",
    "\n",
    "# # Convert to EPSG:3857 for mapping\n",
    "# joined = joined.to_crs(epsg=3857)\n",
    "# building_footprints_gdf = building_footprints_gdf.to_crs(epsg=3857)\n",
    "\n",
    "# # Plotting\n",
    "# fig, ax = plt.subplots(figsize=(10, 10))\n",
    "# joined.plot(ax=ax, color='blue', label='Joined Entries', markersize=5)\n",
    "# building_footprints_gdf.plot(ax=ax, color='green', label='Building Footprints', markersize=5)\n",
    "\n",
    "# try:\n",
    "#     # Add the basemap with zoom level set\n",
    "#     ctx.add_basemap(ax, zoom=12, source=ctx.providers.Stamen.TonerLite)  # You might need to adjust the zoom level\n",
    "# except Exception as e:\n",
    "#     print(\"An error occurred while fetching the basemap:\", e)\n",
    "\n",
    "# plt.legend()\n",
    "# plt.show()\n"
   ]
  },
  {
   "cell_type": "code",
   "execution_count": 85,
   "id": "1da78924",
   "metadata": {},
   "outputs": [],
   "source": [
    "#!pip install contextily\n"
   ]
  },
  {
   "cell_type": "code",
   "execution_count": null,
   "id": "cf79ea07",
   "metadata": {},
   "outputs": [],
   "source": []
  },
  {
   "cell_type": "code",
   "execution_count": null,
   "id": "43c1dfdb",
   "metadata": {},
   "outputs": [],
   "source": []
  },
  {
   "cell_type": "code",
   "execution_count": null,
   "id": "4f680b24",
   "metadata": {},
   "outputs": [],
   "source": []
  },
  {
   "cell_type": "code",
   "execution_count": 86,
   "id": "b11c9e70",
   "metadata": {},
   "outputs": [],
   "source": [
    "# from shapely.geometry import Point, Polygon\n",
    "# from pyproj import Proj, Transformer\n",
    "\n",
    "# # Define projections\n",
    "# proj_wgs84 = Proj(proj='latlong', datum='WGS84')\n",
    "# proj_utm = Proj(proj=\"utm\", zone=5, datum='WGS84')  # Adjust zone based on your location\n",
    "\n",
    "# # Create a transformer\n",
    "# transformer_to_utm = Transformer.from_proj(proj_wgs84, proj_utm, always_xy=True)\n",
    "# transformer_to_wgs84 = Transformer.from_proj(proj_utm, proj_wgs84, always_xy=True)\n",
    "\n",
    "# def buffer_in_meters(lon, lat, meters):\n",
    "#     \"\"\"\n",
    "#     Buffer a geographic point defined in latitude and longitude by a specified distance in meters,\n",
    "#     transforming it to UTM coordinates for buffering, then converting back to WGS84.\n",
    "\n",
    "#     Parameters:\n",
    "#     - lon (float): Longitude of the point in decimal degrees.\n",
    "#     - lat (float): Latitude of the point in decimal degrees.\n",
    "#     - meters (float): The buffer distance in meters.\n",
    "\n",
    "#     Returns:\n",
    "#     - shapely.geometry.polygon.Polygon or None: A polygon representing the buffered area around the point in WGS84 coordinates.\n",
    "#       Returns None if the buffered polygon is empty.\n",
    "\n",
    "#     The function performs coordinate transformations to UTM for accurate distance measurement, buffers the point, and \n",
    "#     then transforms the buffered polygon's coordinates back to WGS84 for compatibility with geographic applications. This method \n",
    "#     ensures more accurate distance calculations than buffering directly in geographic coordinates.\n",
    "#     \"\"\"\n",
    "#     # Transform point to UTM\n",
    "#     x, y = transformer_to_utm.transform(lon, lat)\n",
    "    \n",
    "#     # Create point and buffer in UTM\n",
    "#     point_utm = Point(x, y)\n",
    "#     buffered_point_utm = point_utm.buffer(meters)\n",
    "    \n",
    "#     # Convert buffered polygon to WGS84\n",
    "#     if buffered_point_utm.is_empty:\n",
    "#         return None\n",
    "#     else:\n",
    "#         exterior_coords = [(x, y) for x, y in zip(*buffered_point_utm.exterior.coords.xy)]\n",
    "#         transformed_coords = [transformer_to_wgs84.transform(x, y) for x, y in exterior_coords]\n",
    "#         polygon_wgs84 = Polygon(transformed_coords)\n",
    "#         return polygon_wgs84\n"
   ]
  },
  {
   "cell_type": "code",
   "execution_count": 87,
   "id": "d608fb6b",
   "metadata": {},
   "outputs": [],
   "source": [
    "# # Call the above function\n",
    "# building_footprints_gdf['geometry'] = building_footprints_gdf.apply(\n",
    "#     lambda row: buffer_in_meters(row['longitude'], row['latitude'], 10), axis=1)"
   ]
  },
  {
   "cell_type": "code",
   "execution_count": null,
   "id": "efbc7240",
   "metadata": {},
   "outputs": [],
   "source": []
  },
  {
   "cell_type": "code",
   "execution_count": null,
   "id": "f93bf3de",
   "metadata": {},
   "outputs": [],
   "source": []
  },
  {
   "cell_type": "code",
   "execution_count": null,
   "id": "a626ead6",
   "metadata": {},
   "outputs": [],
   "source": []
  },
  {
   "cell_type": "code",
   "execution_count": null,
   "id": "09e7ef08",
   "metadata": {},
   "outputs": [],
   "source": []
  },
  {
   "cell_type": "code",
   "execution_count": null,
   "id": "d264cf6f",
   "metadata": {},
   "outputs": [],
   "source": []
  },
  {
   "cell_type": "code",
   "execution_count": null,
   "id": "f8356492",
   "metadata": {},
   "outputs": [],
   "source": []
  }
 ],
 "metadata": {
  "kernelspec": {
   "display_name": "Python 3 (ipykernel)",
   "language": "python",
   "name": "python3"
  },
  "language_info": {
   "codemirror_mode": {
    "name": "ipython",
    "version": 3
   },
   "file_extension": ".py",
   "mimetype": "text/x-python",
   "name": "python",
   "nbconvert_exporter": "python",
   "pygments_lexer": "ipython3",
   "version": "3.9.12"
  }
 },
 "nbformat": 4,
 "nbformat_minor": 5
}
