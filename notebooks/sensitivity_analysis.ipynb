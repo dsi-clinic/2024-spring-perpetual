{
 "cells": [
  {
   "cell_type": "code",
   "execution_count": null,
   "id": "f8de1dc1-1717-4e32-8391-5a26abe2e74b",
   "metadata": {},
   "outputs": [],
   "source": [
    "import pandas as pd\n",
    "import numpy as np\n",
    "\n",
    "import fnmatch\n",
    "import json\n",
    "import os"
   ]
  },
  {
   "cell_type": "code",
   "execution_count": 26,
   "id": "580b16af-11fd-431c-9a11-dabc80e3aceb",
   "metadata": {},
   "outputs": [
    {
     "name": "stdout",
     "output_type": "stream",
     "text": [
      "solve_pickups_and_dropoffs :: detected route1.csv\n",
      "solve_pickups_and_dropoffs :: detected route3.csv\n",
      "solve_pickups_and_dropoffs :: detected route2.csv\n"
     ]
    }
   ],
   "source": [
    "route_path = \"../data/outputs/routes/pickups_only/\"\n",
    "num_routes = 0\n",
    "res_dict = {\n",
    "            'Route_Names':[],\n",
    "            'Pickup_Demands':[],\n",
    "            'Dropoff_Demands':[],\n",
    "            'Cumulative_Distances':[]}\n",
    "for filename in fnmatch.filter(next(os.walk(route_path))[2], \"route*.csv\"):\n",
    "    num_routes += 1\n",
    "    filepath = os.path.join(route_path, filename)\n",
    "    if os.path.isfile(filepath):\n",
    "        print(\n",
    "            f\"\"\"solve_pickups_and_dropoffs :: detected {filename}\"\"\"\n",
    "        )\n",
    "        name = filename[:-4]\n",
    "        df = pd.read_csv(filepath)\n",
    "        # last_line = pd.DataFrame(df.iloc[-1]).T\n",
    "        res_dict['Route_Names'].append(name)\n",
    "        res_dict['Pickup_Demands'].append(str(np.sum(df['Daily_Pickup_Totes'])))\n",
    "        res_dict['Dropoff_Demands'].append(str(np.sum(df['Weekly_Dropoff_Totes'])))\n",
    "        res_dict['Cumulative_Distances'].append(str(df.iloc[-1]['Cumulative_Distance']))"
   ]
  },
  {
   "cell_type": "code",
   "execution_count": 27,
   "id": "aaca2486-4926-4c3d-a03d-d861081d9b6e",
   "metadata": {},
   "outputs": [
    {
     "data": {
      "text/plain": [
       "{'Route_Names': ['route1', 'route3', 'route2'],\n",
       " 'Pickup_Demands': ['115', '103', '106'],\n",
       " 'Dropoff_Demands': ['65', '63', '75'],\n",
       " 'Cumulative_Distances': ['80278', '96045', '28755']}"
      ]
     },
     "execution_count": 27,
     "metadata": {},
     "output_type": "execute_result"
    }
   ],
   "source": [
    "res_dict"
   ]
  },
  {
   "cell_type": "code",
   "execution_count": 29,
   "id": "f174fcca-ed74-4b00-bcfe-4515ba11e883",
   "metadata": {},
   "outputs": [
    {
     "ename": "AttributeError",
     "evalue": "'str' object has no attribute 'dumps'",
     "output_type": "error",
     "traceback": [
      "\u001b[0;31m---------------------------------------------------------------------------\u001b[0m",
      "\u001b[0;31mAttributeError\u001b[0m                            Traceback (most recent call last)",
      "Cell \u001b[0;32mIn[29], line 2\u001b[0m\n\u001b[1;32m      1\u001b[0m \u001b[38;5;66;03m# create json object from dictionary\u001b[39;00m\n\u001b[0;32m----> 2\u001b[0m json \u001b[38;5;241m=\u001b[39m \u001b[43mjson\u001b[49m\u001b[38;5;241;43m.\u001b[39;49m\u001b[43mdumps\u001b[49m(res_dict)\n\u001b[1;32m      4\u001b[0m \u001b[38;5;66;03m# open file for writing, \"w\" \u001b[39;00m\n\u001b[1;32m      5\u001b[0m f \u001b[38;5;241m=\u001b[39m \u001b[38;5;28mopen\u001b[39m(\u001b[38;5;124m\"\u001b[39m\u001b[38;5;124m../data/outputs/sensitivity_analysis.json\u001b[39m\u001b[38;5;124m\"\u001b[39m,\u001b[38;5;124m\"\u001b[39m\u001b[38;5;124mw\u001b[39m\u001b[38;5;124m\"\u001b[39m)\n",
      "\u001b[0;31mAttributeError\u001b[0m: 'str' object has no attribute 'dumps'"
     ]
    }
   ],
   "source": [
    "# create json object from dictionary\n",
    "json = json.dumps(res_dict)\n",
    "\n",
    "# open file for writing, \"w\" \n",
    "f = open(\"../data/outputs/sensitivity_analysis.json\",\"w\")\n",
    "\n",
    "# write json object to file\n",
    "f.write(json)\n",
    "\n",
    "# close file\n",
    "f.close()"
   ]
  },
  {
   "cell_type": "code",
   "execution_count": null,
   "id": "8953719f-3ae0-4dea-81fe-bdc5e6931089",
   "metadata": {},
   "outputs": [],
   "source": []
  }
 ],
 "metadata": {
  "kernelspec": {
   "display_name": "Python 3 (ipykernel)",
   "language": "python",
   "name": "python3"
  },
  "language_info": {
   "codemirror_mode": {
    "name": "ipython",
    "version": 3
   },
   "file_extension": ".py",
   "mimetype": "text/x-python",
   "name": "python",
   "nbconvert_exporter": "python",
   "pygments_lexer": "ipython3",
   "version": "3.11.6"
  }
 },
 "nbformat": 4,
 "nbformat_minor": 5
}
