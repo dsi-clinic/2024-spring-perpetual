{
 "cells": [
  {
   "cell_type": "code",
   "execution_count": 29,
   "id": "f8de1dc1-1717-4e32-8391-5a26abe2e74b",
   "metadata": {},
   "outputs": [],
   "source": [
    "import pandas as pd\n",
    "import numpy as np\n",
    "\n",
    "import fnmatch\n",
    "import json\n",
    "import os\n",
    "\n",
    "from pipeline.utils.filter_df import filter_df"
   ]
  },
  {
   "cell_type": "code",
   "execution_count": 47,
   "id": "580b16af-11fd-431c-9a11-dabc80e3aceb",
   "metadata": {},
   "outputs": [],
   "source": [
    "def sensitivity_analysis(route_dir):\n",
    "    route_path = route_dir + \"routes.csv\"\n",
    "    routes = pd.read_csv(route_path)\n",
    "    res_dict = {\n",
    "                'Route_Names':[],\n",
    "                'Pickup_Demands':[],\n",
    "                'Pickup_Estimated_Cups':[],\n",
    "                'Dropoff_Demands':[],\n",
    "                'Dropoff_Estimated_Cups':[],\n",
    "                'Cumulative_Distances':[]\n",
    "    }\n",
    "    for assignment in routes[\"Route\"].unique():\n",
    "    \n",
    "        df = filter_df(routes, \"Route\", assignment)\n",
    "        \n",
    "        res_dict['Route_Names'].append(assignment)\n",
    "        pickup_demand_total = np.sum(df['Daily_Pickup_Totes'])\n",
    "        res_dict['Pickup_Demands'].append(pickup_demand_total)\n",
    "        res_dict['Pickup_Estimated_Cups'].append(50*pickup_demand_total)\n",
    "        dropoff_demand_total = np.sum(df['Weekly_Dropoff_Totes'])\n",
    "        res_dict['Dropoff_Demands'].append(dropoff_demand_total)\n",
    "        res_dict['Dropoff_Estimated_Cups'].append(250*pickup_demand_total)\n",
    "        res_dict['Cumulative_Distances'].append(df.iloc[-1]['Cumulative_Distance'])\n",
    "    return res_dict"
   ]
  },
  {
   "cell_type": "code",
   "execution_count": 48,
   "id": "aaca2486-4926-4c3d-a03d-d861081d9b6e",
   "metadata": {},
   "outputs": [],
   "source": [
    "res_dict = sensitivity_analysis(\"../data/output/combined_pickups_and_dropoffs/20240306070855/\")"
   ]
  },
  {
   "cell_type": "code",
   "execution_count": 50,
   "id": "5798337e-71a2-4d51-8570-77febd03861f",
   "metadata": {},
   "outputs": [
    {
     "data": {
      "text/plain": [
       "{'Route_Names': ['0-0', '1-0', '2-0', '3-0'],\n",
       " 'Pickup_Demands': [0, 191, 196, 176],\n",
       " 'Pickup_Estimated_Cups': [0, 9550, 9800, 8800],\n",
       " 'Dropoff_Demands': [0, 134, 152, 120],\n",
       " 'Dropoff_Estimated_Cups': [0, 47750, 49000, 44000],\n",
       " 'Cumulative_Distances': [0, 109442, 63332, 203512]}"
      ]
     },
     "execution_count": 50,
     "metadata": {},
     "output_type": "execute_result"
    }
   ],
   "source": [
    "res_dict"
   ]
  },
  {
   "cell_type": "code",
   "execution_count": 42,
   "id": "0c43192d-8802-4fb8-9ba6-0c7aa610f685",
   "metadata": {},
   "outputs": [],
   "source": [
    "pd.DataFrame(res_dict).to_csv(route_dir + \"sensitivity_analysis\")"
   ]
  },
  {
   "cell_type": "code",
   "execution_count": null,
   "id": "2fc776e3-1135-4847-88c3-f4c8e2035ea0",
   "metadata": {},
   "outputs": [],
   "source": []
  }
 ],
 "metadata": {
  "kernelspec": {
   "display_name": "Python 3 (ipykernel)",
   "language": "python",
   "name": "python3"
  },
  "language_info": {
   "codemirror_mode": {
    "name": "ipython",
    "version": 3
   },
   "file_extension": ".py",
   "mimetype": "text/x-python",
   "name": "python",
   "nbconvert_exporter": "python",
   "pygments_lexer": "ipython3",
   "version": "3.11.6"
  }
 },
 "nbformat": 4,
 "nbformat_minor": 5
}
