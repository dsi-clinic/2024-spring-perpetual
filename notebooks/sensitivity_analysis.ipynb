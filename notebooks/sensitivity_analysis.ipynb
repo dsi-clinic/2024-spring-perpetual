{
 "cells": [
  {
   "cell_type": "code",
   "execution_count": 29,
   "id": "f8de1dc1-1717-4e32-8391-5a26abe2e74b",
   "metadata": {},
   "outputs": [],
   "source": [
    "import pandas as pd\n",
    "import numpy as np\n",
    "\n",
    "import fnmatch\n",
    "import json\n",
    "import os\n",
    "\n",
    "from pipeline.utils.filter_df import filter_df"
   ]
  },
  {
   "cell_type": "code",
   "execution_count": 33,
   "id": "580b16af-11fd-431c-9a11-dabc80e3aceb",
   "metadata": {},
   "outputs": [],
   "source": [
    "route_path = \"../data/output/combined_pickups_and_dropoffs/20240306070855/routes.csv\"\n",
    "routes = pd.read_csv(route_path)\n",
    "num_routes = 0\n",
    "res_dict = {\n",
    "            'Route_Names':[],\n",
    "            'Pickup_Demands':[],\n",
    "            'Dropoff_Demands':[],\n",
    "            'Cumulative_Distances':[]}\n",
    "# for filename in fnmatch.filter(next(os.walk(route_path))[2], \"routes.csv\"):\n",
    "for assignment in routes[\"Route\"].unique():\n",
    "    num_routes += 1\n",
    "\n",
    "    df = filter_df(routes, \"Route\", assignment)\n",
    "    res_dict['Route_Names'].append(assignment)\n",
    "    res_dict['Pickup_Demands'].append(np.sum(df['Daily_Pickup_Totes']))\n",
    "    res_dict['Dropoff_Demands'].append(np.sum(df['Weekly_Dropoff_Totes']))\n",
    "    res_dict['Cumulative_Distances'].append(df.iloc[-1]['Cumulative_Distance'])"
   ]
  },
  {
   "cell_type": "code",
   "execution_count": 34,
   "id": "aaca2486-4926-4c3d-a03d-d861081d9b6e",
   "metadata": {},
   "outputs": [
    {
     "data": {
      "text/plain": [
       "{'Route_Names': ['0-0', '1-0', '2-0', '3-0'],\n",
       " 'Pickup_Demands': [0, 191, 196, 176],\n",
       " 'Dropoff_Demands': [0, 134, 152, 120],\n",
       " 'Cumulative_Distances': [0, 109442, 63332, 203512]}"
      ]
     },
     "execution_count": 34,
     "metadata": {},
     "output_type": "execute_result"
    }
   ],
   "source": [
    "res_dict"
   ]
  },
  {
   "cell_type": "code",
   "execution_count": 5,
   "id": "c7e8267d-2955-4a52-b02a-444c788a4094",
   "metadata": {},
   "outputs": [],
   "source": [
    "pickups = [50 * int(i) for i in res_dict[\"Pickup_Demands\"]]\n",
    "dropoffs = [250 * int(i) for i in res_dict[\"Dropoff_Demands\"]]\n",
    "cumdists = [int(i) for i in res_dict[\"Cumulative_Distances\"]]"
   ]
  },
  {
   "cell_type": "code",
   "execution_count": 6,
   "id": "cd529934-2a22-482a-ae0c-26d8839e9db3",
   "metadata": {},
   "outputs": [
    {
     "data": {
      "text/plain": [
       "0"
      ]
     },
     "execution_count": 6,
     "metadata": {},
     "output_type": "execute_result"
    }
   ],
   "source": [
    "sum([int(i) for i in res_dict[\"Dropoff_Demands\"]]) * 250"
   ]
  },
  {
   "cell_type": "code",
   "execution_count": 7,
   "id": "2aace3ed-970a-45fb-bf04-4467a7cd02cc",
   "metadata": {},
   "outputs": [
    {
     "data": {
      "text/plain": [
       "([], [], [])"
      ]
     },
     "execution_count": 7,
     "metadata": {},
     "output_type": "execute_result"
    }
   ],
   "source": [
    "pickups, dropoffs, cumdists"
   ]
  },
  {
   "cell_type": "code",
   "execution_count": 8,
   "id": "50b2fbdd-eced-4e55-9cf5-ea954b029a6f",
   "metadata": {},
   "outputs": [
    {
     "ename": "IndexError",
     "evalue": "index 0 is out of bounds for axis 0 with size 0",
     "output_type": "error",
     "traceback": [
      "\u001b[0;31m---------------------------------------------------------------------------\u001b[0m",
      "\u001b[0;31mIndexError\u001b[0m                                Traceback (most recent call last)",
      "Cell \u001b[0;32mIn[8], line 2\u001b[0m\n\u001b[1;32m      1\u001b[0m cups_moving \u001b[38;5;241m=\u001b[39m np\u001b[38;5;241m.\u001b[39msum([pickups, dropoffs], axis \u001b[38;5;241m=\u001b[39m \u001b[38;5;241m0\u001b[39m)\n\u001b[0;32m----> 2\u001b[0m \u001b[43m[\u001b[49m\u001b[43mcups_moving\u001b[49m\u001b[43m[\u001b[49m\u001b[43mi\u001b[49m\u001b[43m]\u001b[49m\u001b[38;5;241;43m/\u001b[39;49m\u001b[43mcumdists\u001b[49m\u001b[43m[\u001b[49m\u001b[43mi\u001b[49m\u001b[43m]\u001b[49m\u001b[43m \u001b[49m\u001b[38;5;28;43;01mfor\u001b[39;49;00m\u001b[43m \u001b[49m\u001b[43mi\u001b[49m\u001b[43m \u001b[49m\u001b[38;5;129;43;01min\u001b[39;49;00m\u001b[43m \u001b[49m\u001b[38;5;28;43mrange\u001b[39;49m\u001b[43m(\u001b[49m\u001b[38;5;241;43m3\u001b[39;49m\u001b[43m)\u001b[49m\u001b[43m]\u001b[49m\n",
      "Cell \u001b[0;32mIn[8], line 2\u001b[0m, in \u001b[0;36m<listcomp>\u001b[0;34m(.0)\u001b[0m\n\u001b[1;32m      1\u001b[0m cups_moving \u001b[38;5;241m=\u001b[39m np\u001b[38;5;241m.\u001b[39msum([pickups, dropoffs], axis \u001b[38;5;241m=\u001b[39m \u001b[38;5;241m0\u001b[39m)\n\u001b[0;32m----> 2\u001b[0m [\u001b[43mcups_moving\u001b[49m\u001b[43m[\u001b[49m\u001b[43mi\u001b[49m\u001b[43m]\u001b[49m\u001b[38;5;241m/\u001b[39mcumdists[i] \u001b[38;5;28;01mfor\u001b[39;00m i \u001b[38;5;129;01min\u001b[39;00m \u001b[38;5;28mrange\u001b[39m(\u001b[38;5;241m3\u001b[39m)]\n",
      "\u001b[0;31mIndexError\u001b[0m: index 0 is out of bounds for axis 0 with size 0"
     ]
    }
   ],
   "source": [
    "cups_moving = np.sum([pickups, dropoffs], axis = 0)\n",
    "[cups_moving[i]/cumdists[i] for i in range(3)]"
   ]
  },
  {
   "cell_type": "code",
   "execution_count": null,
   "id": "c83634cd-971e-4ff4-a1b0-ac220a43d327",
   "metadata": {},
   "outputs": [],
   "source": [
    "np.mean(cumdists)"
   ]
  },
  {
   "cell_type": "code",
   "execution_count": 28,
   "id": "fdbbc1bb-7dba-42be-9624-a6ed97ef44ad",
   "metadata": {},
   "outputs": [
    {
     "data": {
      "text/plain": [
       "3.0631516056758774"
      ]
     },
     "execution_count": 28,
     "metadata": {},
     "output_type": "execute_result"
    }
   ],
   "source": [
    "sum(cumdists)/np.sum([pickups, dropoffs])"
   ]
  },
  {
   "cell_type": "code",
   "execution_count": 29,
   "id": "f174fcca-ed74-4b00-bcfe-4515ba11e883",
   "metadata": {},
   "outputs": [
    {
     "ename": "AttributeError",
     "evalue": "'str' object has no attribute 'dumps'",
     "output_type": "error",
     "traceback": [
      "\u001b[0;31m---------------------------------------------------------------------------\u001b[0m",
      "\u001b[0;31mAttributeError\u001b[0m                            Traceback (most recent call last)",
      "Cell \u001b[0;32mIn[29], line 2\u001b[0m\n\u001b[1;32m      1\u001b[0m \u001b[38;5;66;03m# create json object from dictionary\u001b[39;00m\n\u001b[0;32m----> 2\u001b[0m json \u001b[38;5;241m=\u001b[39m \u001b[43mjson\u001b[49m\u001b[38;5;241;43m.\u001b[39;49m\u001b[43mdumps\u001b[49m(res_dict)\n\u001b[1;32m      4\u001b[0m \u001b[38;5;66;03m# open file for writing, \"w\" \u001b[39;00m\n\u001b[1;32m      5\u001b[0m f \u001b[38;5;241m=\u001b[39m \u001b[38;5;28mopen\u001b[39m(\u001b[38;5;124m\"\u001b[39m\u001b[38;5;124m../data/outputs/sensitivity_analysis.json\u001b[39m\u001b[38;5;124m\"\u001b[39m,\u001b[38;5;124m\"\u001b[39m\u001b[38;5;124mw\u001b[39m\u001b[38;5;124m\"\u001b[39m)\n",
      "\u001b[0;31mAttributeError\u001b[0m: 'str' object has no attribute 'dumps'"
     ]
    }
   ],
   "source": [
    "# create json object from dictionary\n",
    "json = json.dumps(res_dict)\n",
    "\n",
    "# open file for writing, \"w\" \n",
    "f = open(\"../data/outputs/sensitivity_analysis.json\",\"w\")\n",
    "\n",
    "# write json object to file\n",
    "f.write(json)\n",
    "\n",
    "# close file\n",
    "f.close()"
   ]
  },
  {
   "cell_type": "code",
   "execution_count": 31,
   "id": "8953719f-3ae0-4dea-81fe-bdc5e6931089",
   "metadata": {},
   "outputs": [
    {
     "ename": "NameError",
     "evalue": "name '__file__' is not defined",
     "output_type": "error",
     "traceback": [
      "\u001b[0;31m---------------------------------------------------------------------------\u001b[0m",
      "\u001b[0;31mNameError\u001b[0m                                 Traceback (most recent call last)",
      "Cell \u001b[0;32mIn[31], line 2\u001b[0m\n\u001b[1;32m      1\u001b[0m \u001b[38;5;28;01mimport\u001b[39;00m \u001b[38;5;21;01mpathlib\u001b[39;00m\n\u001b[0;32m----> 2\u001b[0m pathlib\u001b[38;5;241m.\u001b[39mPath(\u001b[38;5;18;43m__file__\u001b[39;49m)\u001b[38;5;241m.\u001b[39mparents[\u001b[38;5;241m1\u001b[39m]\n",
      "\u001b[0;31mNameError\u001b[0m: name '__file__' is not defined"
     ]
    }
   ],
   "source": [
    "import pathlib\n",
    "pathlib.Path(__file__).parents[1]"
   ]
  },
  {
   "cell_type": "code",
   "execution_count": 1,
   "id": "2c477be2-5468-450a-9085-6fab3fee62dc",
   "metadata": {},
   "outputs": [
    {
     "data": {
      "text/plain": [
       "358737"
      ]
     },
     "execution_count": 1,
     "metadata": {},
     "output_type": "execute_result"
    }
   ],
   "source": [
    "112218 + 186148 + 60371"
   ]
  },
  {
   "cell_type": "code",
   "execution_count": 9,
   "id": "8d3dfd97-e685-4eac-9d52-9ab940651a0d",
   "metadata": {},
   "outputs": [
    {
     "data": {
      "text/plain": [
       "66950"
      ]
     },
     "execution_count": 9,
     "metadata": {},
     "output_type": "execute_result"
    }
   ],
   "source": [
    "16200 + 50750"
   ]
  },
  {
   "cell_type": "code",
   "execution_count": 13,
   "id": "ef1175b8-f134-4c3b-b0d9-6849120d4911",
   "metadata": {},
   "outputs": [
    {
     "data": {
      "text/plain": [
       "5.358282300224047"
      ]
     },
     "execution_count": 13,
     "metadata": {},
     "output_type": "execute_result"
    }
   ],
   "source": [
    "(112218 + 186148 + 60371)/66950"
   ]
  },
  {
   "cell_type": "code",
   "execution_count": 14,
   "id": "aa05a391-1752-47db-bdca-489f19c0a981",
   "metadata": {},
   "outputs": [
    {
     "data": {
      "text/plain": [
       "5.085436893203884"
      ]
     },
     "execution_count": 14,
     "metadata": {},
     "output_type": "execute_result"
    }
   ],
   "source": [
    "(48002+75099+2901+\n",
    "214468)/66950"
   ]
  },
  {
   "cell_type": "code",
   "execution_count": 15,
   "id": "4e27c906-fa83-4757-9426-96e02f8c4832",
   "metadata": {},
   "outputs": [
    {
     "data": {
      "text/plain": [
       "5.620403286034354"
      ]
     },
     "execution_count": 15,
     "metadata": {},
     "output_type": "execute_result"
    }
   ],
   "source": [
    "(109442+63332+203512)/66950"
   ]
  },
  {
   "cell_type": "code",
   "execution_count": null,
   "id": "0c43192d-8802-4fb8-9ba6-0c7aa610f685",
   "metadata": {},
   "outputs": [],
   "source": []
  }
 ],
 "metadata": {
  "kernelspec": {
   "display_name": "Python 3 (ipykernel)",
   "language": "python",
   "name": "python3"
  },
  "language_info": {
   "codemirror_mode": {
    "name": "ipython",
    "version": 3
   },
   "file_extension": ".py",
   "mimetype": "text/x-python",
   "name": "python",
   "nbconvert_exporter": "python",
   "pygments_lexer": "ipython3",
   "version": "3.11.6"
  }
 },
 "nbformat": 4,
 "nbformat_minor": 5
}
