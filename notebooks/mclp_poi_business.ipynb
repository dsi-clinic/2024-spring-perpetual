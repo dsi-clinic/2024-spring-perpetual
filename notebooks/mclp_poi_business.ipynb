{
 "cells": [
  {
   "cell_type": "markdown",
   "metadata": {},
   "source": [
    "# Data Collection"
   ]
  },
  {
   "cell_type": "code",
   "execution_count": 1,
   "metadata": {},
   "outputs": [],
   "source": [
    "import mclp\n",
    "import utils.common as common\n",
    "import tripadvisor_hotels_webcrawl as thw"
   ]
  },
  {
   "cell_type": "code",
   "execution_count": 2,
   "metadata": {},
   "outputs": [],
   "source": [
    "import pandas as pd\n",
    "from dotenv import load_dotenv\n",
    "import io\n",
    "import geopandas as gpd\n",
    "from matplotlib import pyplot as plt\n",
    "import geopandas as gpd\n",
    "import contextily as ctx\n",
    "import geopandas as gpd\n",
    "import matplotlib.pyplot as plt\n",
    "import matplotlib.patches as mpatches\n",
    "from matplotlib.lines import Line2D\n",
    "import contextily as ctx\n",
    "import sys"
   ]
  },
  {
   "cell_type": "code",
   "execution_count": null,
   "metadata": {},
   "outputs": [],
   "source": []
  },
  {
   "cell_type": "code",
   "execution_count": 32,
   "metadata": {},
   "outputs": [
    {
     "data": {
      "text/plain": [
       "True"
      ]
     },
     "execution_count": 32,
     "metadata": {},
     "output_type": "execute_result"
    }
   ],
   "source": [
    "BASE_PATH = \"/Users/John/Documents/GitHub/perpetual_dev_john_branches/mclp/2024-spring-perpetual\"\n",
    "DATA_PATH = BASE_PATH + \"/data\"\n",
    "ENV_PATH = BASE_PATH + \"/.env\"\n",
    "load_dotenv(dotenv_path=ENV_PATH)"
   ]
  },
  {
   "cell_type": "code",
   "execution_count": 33,
   "metadata": {},
   "outputs": [
    {
     "name": "stdout",
     "output_type": "stream",
     "text": [
      "BASE_PATH:  /Users/John/Documents/GitHub/perpetual_dev_john_branches/mclp/2024-spring-perpetual\n",
      "DATA_PATH:  /Users/John/Documents/GitHub/perpetual_dev_john_branches/mclp/2024-spring-perpetual/data\n",
      "ENV_PATH:  /Users/John/Documents/GitHub/perpetual_dev_john_branches/mclp/2024-spring-perpetual/.env\n"
     ]
    }
   ],
   "source": [
    "print(\"BASE_PATH: \", BASE_PATH)\n",
    "print(\"DATA_PATH: \", DATA_PATH)\n",
    "print(\"ENV_PATH: \", ENV_PATH)"
   ]
  },
  {
   "cell_type": "code",
   "execution_count": 34,
   "metadata": {},
   "outputs": [],
   "source": [
    "INFO_PATH = f\"{DATA_PATH}/Infogroup/2023_Business_Academic_QCQ.txt\""
   ]
  },
  {
   "cell_type": "code",
   "execution_count": null,
   "metadata": {},
   "outputs": [],
   "source": []
  },
  {
   "cell_type": "markdown",
   "metadata": {},
   "source": [
    "# Hilo"
   ]
  },
  {
   "cell_type": "code",
   "execution_count": 35,
   "metadata": {},
   "outputs": [],
   "source": [
    "hilo_info_df = mclp.create_infogroup_df(INFO_PATH, \"HILO\", \"HI\")"
   ]
  },
  {
   "cell_type": "code",
   "execution_count": null,
   "metadata": {},
   "outputs": [],
   "source": [
    "hilo_business_df = hilo_info_df.loc[:, [\"COMPANY\", \"ADDRESS LINE 1\", \"CITY\", \"LATITUDE\", \"LONGITUDE\", \"SALES VOLUME (9) - LOCATION\", \"EMPLOYEE SIZE (5) - LOCATION\", \"PARENT ACTUAL SALES VOLUME\"]]"
   ]
  },
  {
   "cell_type": "code",
   "execution_count": null,
   "metadata": {},
   "outputs": [],
   "source": [
    "hilo_full_patterns_df = pd.read_parquet(f\"{DATA_PATH}/foot-traffic/hilo_full_patterns.parquet\")"
   ]
  },
  {
   "cell_type": "code",
   "execution_count": null,
   "metadata": {},
   "outputs": [
    {
     "data": {
      "text/plain": [
       "Index(['location_name', 'latitude', 'longitude', 'street_address',\n",
       "       'raw_visit_counts', 'raw_visitor_counts'],\n",
       "      dtype='object')"
      ]
     },
     "execution_count": 15,
     "metadata": {},
     "output_type": "execute_result"
    }
   ],
   "source": [
    "hilo_full_patterns_df.loc[:, \"city\"] = hilo_full_patterns_df.loc[:, \"city\"].str.lower().str.strip()\n",
    "hilo_full_patterns_df.loc[:, \"year\"] = hilo_full_patterns_df.loc[:, \"date_range_start\"].str[0:4].astype(\"Int64\")\n",
    "hilo_foot_df = hilo_full_patterns_df.loc[(hilo_full_patterns_df.loc[:, \"year\"] >= 2018), :]\n",
    "hilo_foot_df.loc[:, \"location_name\"] = hilo_foot_df.loc[:, \"location_name\"].str.upper().str.strip()\n",
    "hilo_foot_df.loc[:, \"street_address\"] = hilo_foot_df.loc[:, \"street_address\"].str.upper().str.strip()\n",
    "hilo_foot_traffic_df = hilo_foot_df.groupby([\"location_name\", \"latitude\", \"longitude\", \"street_address\"]).agg({\"raw_visit_counts\": \"sum\", \"raw_visitor_counts\": \"sum\"}).reset_index()\n",
    "hilo_foot_traffic_df.columns"
   ]
  },
  {
   "cell_type": "code",
   "execution_count": null,
   "metadata": {},
   "outputs": [],
   "source": [
    "hilo_api_hotel_df = pd.read_csv(f\"{DATA_PATH}/tripadvisor/Hilo_hotels_api.csv\")\n",
    "hilo_crawled_hotel_df = pd.read_csv(f\"{DATA_PATH}/tripadvisor/Hilo_hotels_crawled.csv\")"
   ]
  },
  {
   "cell_type": "code",
   "execution_count": null,
   "metadata": {},
   "outputs": [],
   "source": [
    "hilo_api_hotel_df.loc[:, \"name\"] = hilo_api_hotel_df.loc[:, \"name\"].str.upper().str.strip()\n",
    "hilo_api_hotel_df.loc[:, \"street1\"] = hilo_api_hotel_df.loc[:, \"street1\"].str.upper().str.strip()\n",
    "hilo_api_hotel_df.loc[:, \"city\"] = hilo_api_hotel_df.loc[:, \"city\"].str.upper().str.strip()\n",
    "\n",
    "hilo_crawled_hotel_df.loc[:, \"name\"] = hilo_crawled_hotel_df.loc[:, \"name\"].str.upper().str.strip()\n",
    "hilo_crawled_hotel_df.loc[:, \"street1\"] = hilo_crawled_hotel_df.loc[:, \"street1\"].str.upper().str.strip()\n",
    "hilo_crawled_hotel_df.loc[:, \"city\"] = hilo_crawled_hotel_df.loc[:, \"city\"].str.upper().str.strip()"
   ]
  },
  {
   "cell_type": "code",
   "execution_count": null,
   "metadata": {},
   "outputs": [],
   "source": [
    "hilo_business_df = mclp.change_infogroup_column_names(hilo_business_df)\n",
    "hilo_foot_traffic_df = mclp.change_foottraffic_column_names(hilo_foot_traffic_df)\n",
    "\n",
    "hilo_api_concat_df = pd.concat([hilo_api_hotel_df, hilo_foot_traffic_df, hilo_business_df], ignore_index=True)"
   ]
  },
  {
   "cell_type": "code",
   "execution_count": 3,
   "metadata": {},
   "outputs": [],
   "source": [
    "hilo_spatial = thw.CityGeo(\"Hilo\")"
   ]
  },
  {
   "cell_type": "code",
   "execution_count": null,
   "metadata": {},
   "outputs": [],
   "source": []
  },
  {
   "cell_type": "markdown",
   "metadata": {},
   "source": [
    "# Jersey City"
   ]
  },
  {
   "cell_type": "code",
   "execution_count": 24,
   "metadata": {},
   "outputs": [],
   "source": [
    "jersey_city_info_df = mclp.create_infogroup_df(INFO_PATH, \"JERSEY CITY\", \"NJ\")"
   ]
  },
  {
   "cell_type": "code",
   "execution_count": 25,
   "metadata": {},
   "outputs": [],
   "source": [
    "jersey_city_patterns_df = pd.read_parquet(f\"{DATA_PATH}/foot-traffic/jersey_city_full_patterns.parquet\")"
   ]
  },
  {
   "cell_type": "code",
   "execution_count": 26,
   "metadata": {},
   "outputs": [
    {
     "data": {
      "text/plain": [
       "Index(['location_name', 'latitude', 'longitude', 'street_address',\n",
       "       'raw_visit_counts', 'raw_visitor_counts'],\n",
       "      dtype='object')"
      ]
     },
     "execution_count": 26,
     "metadata": {},
     "output_type": "execute_result"
    }
   ],
   "source": [
    "jersey_city_patterns_df.loc[:, \"city\"] = jersey_city_patterns_df.loc[:, \"city\"].str.lower().str.strip()\n",
    "jersey_city_patterns_df.loc[:, \"year\"] = jersey_city_patterns_df.loc[:, \"date_range_start\"].str[0:4].astype(\"Int64\")\n",
    "jersey_city_foot_df = jersey_city_patterns_df.loc[(jersey_city_patterns_df.loc[:, \"year\"] >= 2018), :]\n",
    "jersey_city_foot_df.loc[:, \"location_name\"] = jersey_city_foot_df.loc[:, \"location_name\"].str.upper().str.strip()\n",
    "jersey_city_foot_df.loc[:, \"street_address\"] = jersey_city_foot_df.loc[:, \"street_address\"].str.upper().str.strip()\n",
    "jersey_city_foot_traffic_df = jersey_city_foot_df.groupby([\"location_name\", \"latitude\", \"longitude\", \"street_address\"]).agg({\"raw_visit_counts\": \"sum\", \"raw_visitor_counts\": \"sum\"}).reset_index()\n",
    "jersey_city_foot_traffic_df.columns\n"
   ]
  },
  {
   "cell_type": "code",
   "execution_count": 27,
   "metadata": {},
   "outputs": [],
   "source": [
    "jersey_city_api_hotel_df = pd.read_csv(f\"{DATA_PATH}/tripadvisor/Jersey_City_hotels_api.csv\")\n",
    "jersey_city_crawled_hotel_df = pd.read_csv(f\"{DATA_PATH}/tripadvisor/Jersey_City_hotels_crawled.csv\")"
   ]
  },
  {
   "cell_type": "code",
   "execution_count": 28,
   "metadata": {},
   "outputs": [],
   "source": [
    "jersey_city_business_df = mclp.change_infogroup_column_names(jersey_city_info_df)\n",
    "jersey_city_foot_traffic_df = mclp.change_foottraffic_column_names(jersey_city_foot_traffic_df)\n",
    "\n",
    "jersey_city_api_concat_df = pd.concat([jersey_city_api_hotel_df, jersey_city_foot_traffic_df, jersey_city_business_df], ignore_index=True)\n",
    "jersey_city_crawled_concat_df = pd.concat([jersey_city_crawled_hotel_df, jersey_city_foot_traffic_df, jersey_city_business_df], ignore_index=True)"
   ]
  },
  {
   "cell_type": "code",
   "execution_count": 5,
   "metadata": {},
   "outputs": [],
   "source": [
    "jersey_city_spatial = thw.CityGeo(\"Jersey City\")"
   ]
  }
 ],
 "metadata": {
  "kernelspec": {
   "display_name": "Python 3",
   "language": "python",
   "name": "python3"
  },
  "language_info": {
   "codemirror_mode": {
    "name": "ipython",
    "version": 3
   },
   "file_extension": ".py",
   "mimetype": "text/x-python",
   "name": "python",
   "nbconvert_exporter": "python",
   "pygments_lexer": "ipython3",
   "version": "3.11.8"
  }
 },
 "nbformat": 4,
 "nbformat_minor": 2
}
