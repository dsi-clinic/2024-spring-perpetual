{
 "cells": [
  {
   "cell_type": "code",
   "execution_count": 1,
   "metadata": {
    "metadata": {}
   },
   "outputs": [],
   "source": [
    "import pandas as pd"
   ]
  },
  {
   "cell_type": "code",
   "execution_count": 2,
   "metadata": {
    "metadata": {}
   },
   "outputs": [],
   "source": [
    "import tripadvisor_hotels_webcrawl as thw\n",
    "import tripadvisor_hotels_api as tha"
   ]
  },
  {
   "cell_type": "markdown",
   "metadata": {},
   "source": [
    "# Ann Arbor"
   ]
  },
  {
   "cell_type": "code",
   "execution_count": 2,
   "metadata": {
    "metadata": {}
   },
   "outputs": [],
   "source": [
    "Ann_Arbor = thw.TripadvisorCityCrawl(\"Ann Arbor\")"
   ]
  },
  {
   "cell_type": "code",
   "execution_count": 3,
   "metadata": {
    "metadata": {}
   },
   "outputs": [],
   "source": [
    "Ann_Arbor.hotel_df.to_csv(\"Ann_Arbor_hotels.csv\", index=False)"
   ]
  },
  {
   "cell_type": "code",
   "execution_count": 2,
   "metadata": {
    "metadata": {}
   },
   "outputs": [
    {
     "name": "stderr",
     "output_type": "stream",
     "text": [
      "2024-05-06 12:37:14,260 - tripadvisor_hotels_api - WARNING - No data found in response body.\n",
      "2024-05-06 12:37:15,653 - tripadvisor_hotels_api - WARNING - No data found in response body.\n",
      "2024-05-06 12:37:17,154 - tripadvisor_hotels_api - WARNING - No data found in response body.\n",
      "2024-05-06 12:37:17,881 - tripadvisor_hotels_api - WARNING - No data found in response body.\n",
      "2024-05-06 12:37:18,676 - tripadvisor_hotels_api - WARNING - No data found in response body.\n",
      "2024-05-06 12:37:19,363 - tripadvisor_hotels_api - WARNING - No data found in response body.\n",
      "2024-05-06 12:38:38,436 - tripadvisor_hotels_api - WARNING - No data found in response body.\n",
      "2024-05-06 12:38:39,872 - tripadvisor_hotels_api - WARNING - No data found in response body.\n",
      "2024-05-06 12:39:04,612 - tripadvisor_hotels_api - WARNING - No data found in response body.\n",
      "2024-05-06 12:39:05,436 - tripadvisor_hotels_api - WARNING - No data found in response body.\n",
      "2024-05-06 12:39:06,137 - tripadvisor_hotels_api - WARNING - No data found in response body.\n",
      "2024-05-06 12:39:06,873 - tripadvisor_hotels_api - WARNING - No data found in response body.\n",
      "2024-05-06 12:39:29,414 - tripadvisor_hotels_api - WARNING - No data found in response body.\n",
      "2024-05-06 12:39:30,106 - tripadvisor_hotels_api - WARNING - No data found in response body.\n",
      "2024-05-06 12:39:30,818 - tripadvisor_hotels_api - WARNING - No data found in response body.\n",
      "2024-05-06 12:39:31,571 - tripadvisor_hotels_api - WARNING - No data found in response body.\n",
      "2024-05-06 12:39:36,730 - tripadvisor_hotels_api - WARNING - No data found in response body.\n",
      "2024-05-06 12:39:37,413 - tripadvisor_hotels_api - WARNING - No data found in response body.\n",
      "2024-05-06 12:39:57,764 - tripadvisor_hotels_api - WARNING - No data found in response body.\n",
      "2024-05-06 12:39:59,355 - tripadvisor_hotels_api - WARNING - No data found in response body.\n",
      "2024-05-06 12:40:00,864 - tripadvisor_hotels_api - WARNING - No data found in response body.\n",
      "2024-05-06 12:40:01,557 - tripadvisor_hotels_api - WARNING - No data found in response body.\n",
      "2024-05-06 12:40:02,303 - tripadvisor_hotels_api - WARNING - No data found in response body.\n",
      "2024-05-06 12:40:03,023 - tripadvisor_hotels_api - WARNING - No data found in response body.\n",
      "2024-05-06 12:40:05,130 - tripadvisor_hotels_api - WARNING - No data found in response body.\n",
      "2024-05-06 12:40:08,011 - tripadvisor_hotels_api - WARNING - No data found in response body.\n",
      "2024-05-06 12:40:08,686 - tripadvisor_hotels_api - WARNING - No data found in response body.\n",
      "2024-05-06 12:40:59,892 - tripadvisor_hotels_api - WARNING - No data found in response body.\n",
      "2024-05-06 12:41:01,348 - tripadvisor_hotels_api - WARNING - No data found in response body.\n",
      "2024-05-06 12:41:03,632 - tripadvisor_hotels_api - WARNING - No data found in response body.\n",
      "2024-05-06 12:41:04,307 - tripadvisor_hotels_api - WARNING - No data found in response body.\n",
      "2024-05-06 12:41:37,108 - tripadvisor_hotels_api - WARNING - No data found in response body.\n",
      "2024-05-06 12:41:38,534 - tripadvisor_hotels_api - WARNING - No data found in response body.\n",
      "2024-05-06 12:41:44,432 - tripadvisor_hotels_api - WARNING - No data found in response body.\n",
      "2024-05-06 12:41:45,161 - tripadvisor_hotels_api - WARNING - No data found in response body.\n",
      "2024-05-06 12:41:45,865 - tripadvisor_hotels_api - WARNING - No data found in response body.\n",
      "2024-05-06 12:41:46,652 - tripadvisor_hotels_api - WARNING - No data found in response body.\n",
      "2024-05-06 12:41:53,710 - tripadvisor_hotels_api - WARNING - No data found in response body.\n",
      "2024-05-06 12:41:55,417 - tripadvisor_hotels_api - WARNING - No data found in response body.\n",
      "2024-05-06 12:41:56,236 - tripadvisor_hotels_api - WARNING - No data found in response body.\n",
      "2024-05-06 12:42:00,336 - tripadvisor_hotels_api - WARNING - No data found in response body.\n",
      "2024-05-06 12:42:03,485 - tripadvisor_hotels_api - WARNING - No data found in response body.\n",
      "2024-05-06 12:42:04,281 - tripadvisor_hotels_api - WARNING - No data found in response body.\n",
      "2024-05-06 12:42:05,096 - tripadvisor_hotels_api - WARNING - No data found in response body.\n",
      "2024-05-06 12:42:05,865 - tripadvisor_hotels_api - WARNING - No data found in response body.\n",
      "2024-05-06 12:42:09,585 - tripadvisor_hotels_api - WARNING - No data found in response body.\n",
      "2024-05-06 12:42:13,531 - tripadvisor_hotels_api - WARNING - No data found in response body.\n",
      "2024-05-06 12:42:14,974 - tripadvisor_hotels_api - WARNING - No data found in response body.\n",
      "2024-05-06 12:42:15,824 - tripadvisor_hotels_api - WARNING - No data found in response body.\n",
      "2024-05-06 12:43:41,522 - tripadvisor_hotels_api - WARNING - No data found in response body.\n",
      "2024-05-06 12:43:42,232 - tripadvisor_hotels_api - WARNING - No data found in response body.\n",
      "2024-05-06 12:43:42,926 - tripadvisor_hotels_api - WARNING - No data found in response body.\n",
      "2024-05-06 12:43:43,645 - tripadvisor_hotels_api - WARNING - No data found in response body.\n",
      "2024-05-06 12:43:47,200 - tripadvisor_hotels_api - WARNING - No data found in response body.\n",
      "2024-05-06 12:43:48,650 - tripadvisor_hotels_api - WARNING - No data found in response body.\n",
      "2024-05-06 12:43:49,376 - tripadvisor_hotels_api - WARNING - No data found in response body.\n",
      "2024-05-06 12:43:50,077 - tripadvisor_hotels_api - WARNING - No data found in response body.\n",
      "2024-05-06 12:43:50,780 - tripadvisor_hotels_api - WARNING - No data found in response body.\n",
      "2024-05-06 12:43:54,409 - tripadvisor_hotels_api - WARNING - No data found in response body.\n",
      "2024-05-06 12:43:55,115 - tripadvisor_hotels_api - WARNING - No data found in response body.\n",
      "2024-05-06 12:43:55,832 - tripadvisor_hotels_api - WARNING - No data found in response body.\n",
      "2024-05-06 12:43:56,528 - tripadvisor_hotels_api - WARNING - No data found in response body.\n",
      "2024-05-06 12:43:59,445 - tripadvisor_hotels_api - WARNING - No data found in response body.\n",
      "2024-05-06 12:44:00,124 - tripadvisor_hotels_api - WARNING - No data found in response body.\n",
      "2024-05-06 12:44:00,845 - tripadvisor_hotels_api - WARNING - No data found in response body.\n",
      "2024-05-06 12:44:01,555 - tripadvisor_hotels_api - WARNING - No data found in response body.\n",
      "2024-05-06 12:44:03,075 - tripadvisor_hotels_api - WARNING - No data found in response body.\n",
      "2024-05-06 12:44:03,747 - tripadvisor_hotels_api - WARNING - No data found in response body.\n",
      "2024-05-06 12:44:04,445 - tripadvisor_hotels_api - WARNING - No data found in response body.\n",
      "2024-05-06 12:44:05,204 - tripadvisor_hotels_api - WARNING - No data found in response body.\n",
      "2024-05-06 12:44:08,099 - tripadvisor_hotels_api - WARNING - No data found in response body.\n",
      "2024-05-06 12:44:08,937 - tripadvisor_hotels_api - WARNING - No data found in response body.\n",
      "2024-05-06 12:44:09,696 - tripadvisor_hotels_api - WARNING - No data found in response body.\n",
      "2024-05-06 12:44:10,396 - tripadvisor_hotels_api - WARNING - No data found in response body.\n",
      "2024-05-06 12:44:11,821 - tripadvisor_hotels_api - WARNING - No data found in response body.\n",
      "2024-05-06 12:44:12,521 - tripadvisor_hotels_api - WARNING - No data found in response body.\n",
      "2024-05-06 12:44:13,225 - tripadvisor_hotels_api - WARNING - No data found in response body.\n",
      "2024-05-06 12:44:14,008 - tripadvisor_hotels_api - WARNING - No data found in response body.\n",
      "2024-05-06 12:44:16,972 - tripadvisor_hotels_api - WARNING - No data found in response body.\n",
      "2024-05-06 12:44:17,743 - tripadvisor_hotels_api - WARNING - No data found in response body.\n",
      "2024-05-06 12:44:18,429 - tripadvisor_hotels_api - WARNING - No data found in response body.\n",
      "2024-05-06 12:44:19,119 - tripadvisor_hotels_api - WARNING - No data found in response body.\n",
      "2024-05-06 12:44:20,552 - tripadvisor_hotels_api - WARNING - No data found in response body.\n",
      "2024-05-06 12:44:21,236 - tripadvisor_hotels_api - WARNING - No data found in response body.\n",
      "2024-05-06 12:44:21,939 - tripadvisor_hotels_api - WARNING - No data found in response body.\n",
      "2024-05-06 12:44:22,660 - tripadvisor_hotels_api - WARNING - No data found in response body.\n",
      "2024-05-06 12:44:26,173 - tripadvisor_hotels_api - WARNING - No data found in response body.\n",
      "2024-05-06 12:44:26,864 - tripadvisor_hotels_api - WARNING - No data found in response body.\n",
      "2024-05-06 12:44:27,547 - tripadvisor_hotels_api - WARNING - No data found in response body.\n",
      "2024-05-06 12:44:28,271 - tripadvisor_hotels_api - WARNING - No data found in response body.\n",
      "2024-05-06 12:44:29,705 - tripadvisor_hotels_api - WARNING - No data found in response body.\n",
      "2024-05-06 12:44:30,395 - tripadvisor_hotels_api - WARNING - No data found in response body.\n",
      "2024-05-06 12:44:31,127 - tripadvisor_hotels_api - WARNING - No data found in response body.\n",
      "2024-05-06 12:44:34,716 - tripadvisor_hotels_api - WARNING - No data found in response body.\n",
      "2024-05-06 12:44:35,405 - tripadvisor_hotels_api - WARNING - No data found in response body.\n",
      "2024-05-06 12:44:36,147 - tripadvisor_hotels_api - WARNING - No data found in response body.\n",
      "2024-05-06 12:44:36,854 - tripadvisor_hotels_api - WARNING - No data found in response body.\n",
      "2024-05-06 12:45:23,003 - tripadvisor_hotels_api - WARNING - No data found in response body.\n",
      "2024-05-06 12:45:23,805 - tripadvisor_hotels_api - WARNING - No data found in response body.\n",
      "2024-05-06 12:45:26,023 - tripadvisor_hotels_api - WARNING - No data found in response body.\n",
      "2024-05-06 12:45:26,727 - tripadvisor_hotels_api - WARNING - No data found in response body.\n",
      "2024-05-06 12:45:27,452 - tripadvisor_hotels_api - WARNING - No data found in response body.\n",
      "2024-05-06 12:45:28,165 - tripadvisor_hotels_api - WARNING - No data found in response body.\n",
      "2024-05-06 12:45:31,051 - tripadvisor_hotels_api - WARNING - No data found in response body.\n",
      "2024-05-06 12:45:31,820 - tripadvisor_hotels_api - WARNING - No data found in response body.\n",
      "2024-05-06 12:45:32,940 - tripadvisor_hotels_api - WARNING - No data found in response body.\n",
      "2024-05-06 12:45:33,654 - tripadvisor_hotels_api - WARNING - No data found in response body.\n",
      "2024-05-06 12:45:35,102 - tripadvisor_hotels_api - WARNING - No data found in response body.\n",
      "2024-05-06 12:45:35,829 - tripadvisor_hotels_api - WARNING - No data found in response body.\n",
      "2024-05-06 12:45:36,552 - tripadvisor_hotels_api - WARNING - No data found in response body.\n",
      "2024-05-06 12:45:37,327 - tripadvisor_hotels_api - WARNING - No data found in response body.\n",
      "2024-05-06 12:45:40,934 - tripadvisor_hotels_api - WARNING - No data found in response body.\n",
      "2024-05-06 12:46:23,754 - tripadvisor_hotels_api - WARNING - No data found in response body.\n",
      "2024-05-06 12:46:35,212 - tripadvisor_hotels_api - WARNING - No data found in response body.\n"
     ]
    }
   ],
   "source": [
    "Ann_Arbor_api = tha.TripadvisorCityAPI(\"Ann Arbor\")\n",
    "false_database = Ann_Arbor_api.find_places_in_geography(Ann_Arbor_api.geo)\n",
    "Ann_Arbor_api_database = Ann_Arbor_api.global_hotel_lists()\n"
   ]
  },
  {
   "cell_type": "code",
   "execution_count": null,
   "metadata": {},
   "outputs": [],
   "source": [
    "Ann_Arbor_hotel_lst = Ann_Arbor_api.get_room_numbers(Ann_Arbor_api_database.clean)"
   ]
  },
  {
   "cell_type": "code",
   "execution_count": null,
   "metadata": {},
   "outputs": [],
   "source": [
    "Ann_Arbor_api_df = pd.DataFrame(Ann_Arbor_hotel_lst)"
   ]
  },
  {
   "cell_type": "code",
   "execution_count": null,
   "metadata": {},
   "outputs": [],
   "source": [
    "Ann_Arbor_api_df.loc[:, \"location_id\"] = Ann_Arbor_api_df.loc[:, \"location_id\"].astype(int)\n",
    "Ann_Arbor_api_df = Ann_Arbor_api_df.loc[(Ann_Arbor_api_df.loc[:, \"city\"] == \"Ann Arbor\"), :]\n",
    "Ann_Arbor_api_df.to_csv(\"Ann_Arbor_hotels_api.csv\", index=False)"
   ]
  },
  {
   "cell_type": "code",
   "execution_count": 22,
   "metadata": {
    "metadata": {}
   },
   "outputs": [
    {
     "data": {
      "text/html": [
       "<div>\n",
       "<style scoped>\n",
       "    .dataframe tbody tr th:only-of-type {\n",
       "        vertical-align: middle;\n",
       "    }\n",
       "\n",
       "    .dataframe tbody tr th {\n",
       "        vertical-align: top;\n",
       "    }\n",
       "\n",
       "    .dataframe thead th {\n",
       "        text-align: right;\n",
       "    }\n",
       "</style>\n",
       "<table border=\"1\" class=\"dataframe\">\n",
       "  <thead>\n",
       "    <tr style=\"text-align: right;\">\n",
       "      <th></th>\n",
       "      <th>location_id</th>\n",
       "      <th>name</th>\n",
       "      <th>distance</th>\n",
       "      <th>address_string</th>\n",
       "      <th>city</th>\n",
       "      <th>street1</th>\n",
       "      <th>web_url</th>\n",
       "      <th>latitude</th>\n",
       "      <th>longitude</th>\n",
       "      <th>rating</th>\n",
       "      <th>num_reviews</th>\n",
       "      <th>price_level</th>\n",
       "      <th>number_of_rooms</th>\n",
       "    </tr>\n",
       "  </thead>\n",
       "  <tbody>\n",
       "    <tr>\n",
       "      <th>0</th>\n",
       "      <td>89935</td>\n",
       "      <td>Graduate Ann Arbor</td>\n",
       "      <td>0.301596</td>\n",
       "      <td>615 E Huron St, Ann Arbor, MI 48104-1524</td>\n",
       "      <td>Ann Arbor</td>\n",
       "      <td>615 E Huron St</td>\n",
       "      <td>https://www.tripadvisor.com/Hotel_Review-g2955...</td>\n",
       "      <td>42.281250</td>\n",
       "      <td>-83.74155</td>\n",
       "      <td>4.0</td>\n",
       "      <td>682</td>\n",
       "      <td>$$$</td>\n",
       "      <td>207.0</td>\n",
       "    </tr>\n",
       "    <tr>\n",
       "      <th>1</th>\n",
       "      <td>95054</td>\n",
       "      <td>Weber's Boutique Hotel</td>\n",
       "      <td>2.800484</td>\n",
       "      <td>3050 Jackson Ave, Ann Arbor, MI 48103-1997</td>\n",
       "      <td>Ann Arbor</td>\n",
       "      <td>3050 Jackson Ave</td>\n",
       "      <td>https://www.tripadvisor.com/Hotel_Review-g2955...</td>\n",
       "      <td>42.284660</td>\n",
       "      <td>-83.79245</td>\n",
       "      <td>4.0</td>\n",
       "      <td>663</td>\n",
       "      <td>$$</td>\n",
       "      <td>158.0</td>\n",
       "    </tr>\n",
       "    <tr>\n",
       "      <th>2</th>\n",
       "      <td>8477216</td>\n",
       "      <td>Residence Inn by Marriott Ann Arbor Downtown</td>\n",
       "      <td>0.629792</td>\n",
       "      <td>120 W Huron St, Ann Arbor, MI 48104-1318</td>\n",
       "      <td>Ann Arbor</td>\n",
       "      <td>120 W Huron St</td>\n",
       "      <td>https://www.tripadvisor.com/Hotel_Review-g2955...</td>\n",
       "      <td>42.281788</td>\n",
       "      <td>-83.74944</td>\n",
       "      <td>5.0</td>\n",
       "      <td>878</td>\n",
       "      <td>$$$$</td>\n",
       "      <td>110.0</td>\n",
       "    </tr>\n",
       "    <tr>\n",
       "      <th>3</th>\n",
       "      <td>9984935</td>\n",
       "      <td>Hampton Inn &amp; Suites Ann Arbor West</td>\n",
       "      <td>2.669941</td>\n",
       "      <td>2910 Jackson Ave, Ann Arbor, MI 48103-2012</td>\n",
       "      <td>Ann Arbor</td>\n",
       "      <td>2910 Jackson Ave</td>\n",
       "      <td>https://www.tripadvisor.com/Hotel_Review-g2955...</td>\n",
       "      <td>42.283733</td>\n",
       "      <td>-83.78989</td>\n",
       "      <td>4.0</td>\n",
       "      <td>394</td>\n",
       "      <td>$$</td>\n",
       "      <td>100.0</td>\n",
       "    </tr>\n",
       "    <tr>\n",
       "      <th>4</th>\n",
       "      <td>77474</td>\n",
       "      <td>Wyndham Garden Ann Arbor</td>\n",
       "      <td>2.595753</td>\n",
       "      <td>2900 Jackson Ave, Ann Arbor, MI 48103-2012</td>\n",
       "      <td>Ann Arbor</td>\n",
       "      <td>2900 Jackson Ave</td>\n",
       "      <td>https://www.tripadvisor.com/Hotel_Review-g2955...</td>\n",
       "      <td>42.283340</td>\n",
       "      <td>-83.78842</td>\n",
       "      <td>3.0</td>\n",
       "      <td>828</td>\n",
       "      <td>$</td>\n",
       "      <td>162.0</td>\n",
       "    </tr>\n",
       "  </tbody>\n",
       "</table>\n",
       "</div>"
      ],
      "text/plain": [
       "   location_id                                          name  distance  \\\n",
       "0        89935                            Graduate Ann Arbor  0.301596   \n",
       "1        95054                        Weber's Boutique Hotel  2.800484   \n",
       "2      8477216  Residence Inn by Marriott Ann Arbor Downtown  0.629792   \n",
       "3      9984935           Hampton Inn & Suites Ann Arbor West  2.669941   \n",
       "4        77474                      Wyndham Garden Ann Arbor  2.595753   \n",
       "\n",
       "                               address_string       city           street1  \\\n",
       "0    615 E Huron St, Ann Arbor, MI 48104-1524  Ann Arbor    615 E Huron St   \n",
       "1  3050 Jackson Ave, Ann Arbor, MI 48103-1997  Ann Arbor  3050 Jackson Ave   \n",
       "2    120 W Huron St, Ann Arbor, MI 48104-1318  Ann Arbor    120 W Huron St   \n",
       "3  2910 Jackson Ave, Ann Arbor, MI 48103-2012  Ann Arbor  2910 Jackson Ave   \n",
       "4  2900 Jackson Ave, Ann Arbor, MI 48103-2012  Ann Arbor  2900 Jackson Ave   \n",
       "\n",
       "                                             web_url   latitude  longitude  \\\n",
       "0  https://www.tripadvisor.com/Hotel_Review-g2955...  42.281250  -83.74155   \n",
       "1  https://www.tripadvisor.com/Hotel_Review-g2955...  42.284660  -83.79245   \n",
       "2  https://www.tripadvisor.com/Hotel_Review-g2955...  42.281788  -83.74944   \n",
       "3  https://www.tripadvisor.com/Hotel_Review-g2955...  42.283733  -83.78989   \n",
       "4  https://www.tripadvisor.com/Hotel_Review-g2955...  42.283340  -83.78842   \n",
       "\n",
       "   rating  num_reviews price_level  number_of_rooms  \n",
       "0     4.0          682         $$$            207.0  \n",
       "1     4.0          663          $$            158.0  \n",
       "2     5.0          878        $$$$            110.0  \n",
       "3     4.0          394          $$            100.0  \n",
       "4     3.0          828           $            162.0  "
      ]
     },
     "execution_count": 22,
     "metadata": {},
     "output_type": "execute_result"
    }
   ],
   "source": [
    "Ann_Arbor_api_df.head(5)"
   ]
  },
  {
   "cell_type": "code",
   "execution_count": 10,
   "metadata": {
    "metadata": {}
   },
   "outputs": [],
   "source": [
    "Ann_Arbor_crawl_df = pd.read_csv(\"Ann_Arbor_hotels_crawled.csv\")"
   ]
  },
  {
   "cell_type": "code",
   "execution_count": 15,
   "metadata": {
    "metadata": {}
   },
   "outputs": [
    {
     "data": {
      "text/plain": [
       "12"
      ]
     },
     "execution_count": 15,
     "metadata": {},
     "output_type": "execute_result"
    }
   ],
   "source": [
    "len(Ann_Arbor_api_df.columns)\n",
    "# len(Ann_Arbor_crawl_df.columns)"
   ]
  },
  {
   "cell_type": "code",
   "execution_count": 11,
   "metadata": {
    "metadata": {}
   },
   "outputs": [
    {
     "data": {
      "text/plain": [
       "Index(['location_id', 'name', 'web_url', 'latitude', 'longitude', 'rating',\n",
       "       'num_reviews', 'price_level', 'address_string', 'city', 'street1',\n",
       "       'number_of_rooms'],\n",
       "      dtype='object')"
      ]
     },
     "execution_count": 11,
     "metadata": {},
     "output_type": "execute_result"
    }
   ],
   "source": [
    "Ann_Arbor_crawl_df.columns"
   ]
  },
  {
   "cell_type": "markdown",
   "metadata": {},
   "source": [
    "# Galveston"
   ]
  },
  {
   "cell_type": "code",
   "execution_count": 2,
   "metadata": {
    "metadata": {}
   },
   "outputs": [],
   "source": [
    "Galveston = thw.TripadvisorCityCrawl(\"Galveston\")"
   ]
  },
  {
   "cell_type": "code",
   "execution_count": 3,
   "metadata": {
    "metadata": {}
   },
   "outputs": [],
   "source": [
    "Galveston.hotel_df.to_csv(\"Galveston_hotels.csv\", index=False)"
   ]
  },
  {
   "cell_type": "code",
   "execution_count": 3,
   "metadata": {
    "metadata": {}
   },
   "outputs": [
    {
     "name": "stderr",
     "output_type": "stream",
     "text": [
      "2024-05-06 13:21:03,784 - tripadvisor_hotels_api - WARNING - No data found in response body.\n",
      "2024-05-06 13:21:09,308 - tripadvisor_hotels_api - WARNING - No data found in response body.\n",
      "2024-05-06 13:21:10,004 - tripadvisor_hotels_api - WARNING - No data found in response body.\n",
      "2024-05-06 13:21:18,297 - tripadvisor_hotels_api - WARNING - No data found in response body.\n",
      "2024-05-06 13:21:19,863 - tripadvisor_hotels_api - WARNING - No data found in response body.\n",
      "2024-05-06 13:21:21,255 - tripadvisor_hotels_api - WARNING - No data found in response body.\n",
      "2024-05-06 13:21:22,653 - tripadvisor_hotels_api - WARNING - No data found in response body.\n",
      "2024-05-06 13:21:24,422 - tripadvisor_hotels_api - WARNING - No data found in response body.\n",
      "2024-05-06 13:21:25,820 - tripadvisor_hotels_api - WARNING - No data found in response body.\n",
      "2024-05-06 13:21:26,527 - tripadvisor_hotels_api - WARNING - No data found in response body.\n",
      "2024-05-06 13:21:39,381 - tripadvisor_hotels_api - WARNING - No data found in response body.\n",
      "2024-05-06 13:21:41,500 - tripadvisor_hotels_api - WARNING - No data found in response body.\n",
      "2024-05-06 13:21:42,927 - tripadvisor_hotels_api - WARNING - No data found in response body.\n",
      "2024-05-06 13:21:43,655 - tripadvisor_hotels_api - WARNING - No data found in response body.\n",
      "2024-05-06 13:21:46,749 - tripadvisor_hotels_api - WARNING - No data found in response body.\n",
      "2024-05-06 13:21:56,347 - tripadvisor_hotels_api - WARNING - No data found in response body.\n",
      "2024-05-06 13:22:04,216 - tripadvisor_hotels_api - WARNING - No data found in response body.\n",
      "2024-05-06 13:22:08,562 - tripadvisor_hotels_api - WARNING - No data found in response body.\n",
      "2024-05-06 13:22:12,145 - tripadvisor_hotels_api - WARNING - No data found in response body.\n",
      "2024-05-06 13:22:13,568 - tripadvisor_hotels_api - WARNING - No data found in response body.\n",
      "2024-05-06 13:22:15,151 - tripadvisor_hotels_api - WARNING - No data found in response body.\n",
      "2024-05-06 13:22:16,741 - tripadvisor_hotels_api - WARNING - No data found in response body.\n",
      "2024-05-06 13:22:24,849 - tripadvisor_hotels_api - WARNING - No data found in response body.\n",
      "2024-05-06 13:22:27,586 - tripadvisor_hotels_api - WARNING - No data found in response body.\n",
      "2024-05-06 13:22:29,057 - tripadvisor_hotels_api - WARNING - No data found in response body.\n",
      "2024-05-06 13:22:29,751 - tripadvisor_hotels_api - WARNING - No data found in response body.\n",
      "2024-05-06 13:22:33,447 - tripadvisor_hotels_api - WARNING - No data found in response body.\n",
      "2024-05-06 13:22:34,152 - tripadvisor_hotels_api - WARNING - No data found in response body.\n",
      "2024-05-06 13:22:43,162 - tripadvisor_hotels_api - WARNING - No data found in response body.\n",
      "2024-05-06 13:22:43,844 - tripadvisor_hotels_api - WARNING - No data found in response body.\n",
      "2024-05-06 13:22:44,542 - tripadvisor_hotels_api - WARNING - No data found in response body.\n",
      "2024-05-06 13:22:45,964 - tripadvisor_hotels_api - WARNING - No data found in response body.\n",
      "2024-05-06 13:22:49,570 - tripadvisor_hotels_api - WARNING - No data found in response body.\n",
      "2024-05-06 13:22:52,036 - tripadvisor_hotels_api - WARNING - No data found in response body.\n",
      "2024-05-06 13:22:53,827 - tripadvisor_hotels_api - WARNING - No data found in response body.\n",
      "2024-05-06 13:23:00,373 - tripadvisor_hotels_api - WARNING - No data found in response body.\n",
      "2024-05-06 13:23:01,773 - tripadvisor_hotels_api - WARNING - No data found in response body.\n",
      "2024-05-06 13:23:03,924 - tripadvisor_hotels_api - WARNING - No data found in response body.\n",
      "2024-05-06 13:23:04,624 - tripadvisor_hotels_api - WARNING - No data found in response body.\n",
      "2024-05-06 13:23:05,333 - tripadvisor_hotels_api - WARNING - No data found in response body.\n"
     ]
    }
   ],
   "source": [
    "Galveston_api = tha.TripadvisorCityAPI(\"Galveston\")\n",
    "false_database = Galveston_api.find_places_in_geography(Galveston_api.geo)\n",
    "Galveston_api_database = Galveston_api.global_hotel_lists()"
   ]
  },
  {
   "cell_type": "code",
   "execution_count": 4,
   "metadata": {
    "metadata": {}
   },
   "outputs": [],
   "source": [
    "Galveston_api_df = pd.DataFrame(Galveston_api_database.clean)\n",
    "Galveston_api_df.loc[:, \"location_id\"] = Galveston_api_df.loc[:, \"location_id\"].astype(int)\n",
    "\n",
    "Galveston_crawl_df = pd.read_csv(\"Galveston_hotels_crawled.csv\")\n",
    "\n",
    "Galveston_api_room_df = pd.merge(Galveston_api_df, Galveston_crawl_df, on=\"location_id\", how=\"left\")"
   ]
  },
  {
   "cell_type": "code",
   "execution_count": 27,
   "metadata": {
    "metadata": {}
   },
   "outputs": [],
   "source": [
    "Galveston_api_room_df = pd.read_csv(\"Galveston_hotels_api.csv\")\n",
    "Galveston_api_room_df.columns\n",
    "filtered_columns = [col for col in Galveston_api_room_df.columns if not col.endswith('_y')]\n",
    "Galveston_api_room_df = Galveston_api_room_df[filtered_columns]\n",
    "renamed_columns = {col: col.replace('_x', '') for col in filtered_columns if col.endswith('_x')}\n",
    "\n",
    "Galveston_api_room_df.rename(columns=renamed_columns, inplace=True)\n",
    "\n",
    "Galveston_api_room_df = Galveston_api_room_df.loc[(Galveston_api_room_df.loc[:, \"city\"] == \"Galveston\"), :]\n",
    "Galveston_api_room_df.to_csv(\"Galveston_hotels_api.csv\", index=False)"
   ]
  },
  {
   "cell_type": "code",
   "execution_count": 12,
   "metadata": {
    "metadata": {}
   },
   "outputs": [],
   "source": [
    "Galveston_api_room_df.to_csv(\"Galveston_hotels_api.csv\", index=False)"
   ]
  },
  {
   "cell_type": "markdown",
   "metadata": {},
   "source": [
    "# Hilo"
   ]
  },
  {
   "cell_type": "code",
   "execution_count": 2,
   "metadata": {
    "metadata": {}
   },
   "outputs": [],
   "source": [
    "Hilo = thw.TripadvisorCityCrawl(\"Hilo\")"
   ]
  },
  {
   "cell_type": "code",
   "execution_count": 4,
   "metadata": {
    "metadata": {}
   },
   "outputs": [],
   "source": [
    "Hilo.hotel_df.to_csv(\"Hilo_hotels_crawled.csv\", index=False)"
   ]
  },
  {
   "cell_type": "code",
   "execution_count": 10,
   "metadata": {
    "metadata": {}
   },
   "outputs": [],
   "source": [
    "Hilo_api = tha.TripadvisorCityAPI(\"Hilo\")\n",
    "false_database = Hilo_api.find_places_in_geography(Hilo_api.geo)\n",
    "Hilo_api_database = Hilo_api.global_hotel_lists()"
   ]
  },
  {
   "cell_type": "code",
   "execution_count": 11,
   "metadata": {
    "metadata": {}
   },
   "outputs": [],
   "source": [
    "Hilo_hotel_lst = Hilo_api.get_room_number(Hilo_api_database.clean)\n",
    "Hilo_api_df = pd.DataFrame(Hilo_hotel_lst)\n",
    "Hilo_api_df.loc[:, \"location_id\"] = Hilo_api_df.loc[:, \"location_id\"].astype(int)\n",
    "Hilo_api_df.to_csv(\"Hilo_hotels_api.csv\", index=False)"
   ]
  },
  {
   "cell_type": "code",
   "execution_count": 6,
   "metadata": {
    "metadata": {}
   },
   "outputs": [],
   "source": [
    "Hilo_api_df = pd.DataFrame(Hilo_api_database.clean)\n",
    "Hilo_api_df.loc[:, \"location_id\"] = Hilo_api_df.loc[:, \"location_id\"].astype(int)\n",
    "\n",
    "Hilo_crawl_df = pd.read_csv(\"Hilo_hotels_crawled.csv\")\n",
    "\n",
    "Hilo_api_room_df = pd.merge(Hilo_api_df, Hilo_crawl_df, on=\"location_id\", how=\"left\")\n"
   ]
  },
  {
   "cell_type": "code",
   "execution_count": 28,
   "metadata": {
    "metadata": {}
   },
   "outputs": [],
   "source": [
    "Hilo_api_room_df = pd.read_csv(\"Hilo_hotels_api.csv\")\n",
    "Hilo_api_room_df.columns\n",
    "filtered_columns = [col for col in Hilo_api_room_df.columns if not col.endswith('_y')]\n",
    "Hilo_api_room_df = Hilo_api_room_df[filtered_columns]\n",
    "renamed_columns = {col: col.replace('_x', '') for col in filtered_columns if col.endswith('_x')}\n",
    "\n",
    "Hilo_api_room_df.rename(columns=renamed_columns, inplace=True)\n",
    "\n",
    "Hilo_api_room_df = Hilo_api_room_df.loc[(Hilo_api_room_df.loc[:, \"city\"] == \"Hilo\"), :]\n",
    "Hilo_api_room_df.to_csv(\"Hilo_hotels_api.csv\", index=False)"
   ]
  },
  {
   "cell_type": "code",
   "execution_count": 11,
   "metadata": {
    "metadata": {}
   },
   "outputs": [],
   "source": [
    "Hilo_api_room_df.to_csv(\"Hilo_hotels_api.csv\", index=False)"
   ]
  },
  {
   "cell_type": "markdown",
   "metadata": {},
   "source": [
    "# Jersey City"
   ]
  },
  {
   "cell_type": "code",
   "execution_count": 4,
   "metadata": {
    "metadata": {}
   },
   "outputs": [],
   "source": [
    "Jersey_City = thw.TripadvisorCityCrawl(\"Jersey City\")"
   ]
  },
  {
   "cell_type": "code",
   "execution_count": 5,
   "metadata": {
    "metadata": {}
   },
   "outputs": [],
   "source": [
    "Jersey_City.hotel_df.to_csv(\"Jersey_City_hotels_crawled.csv\", index=False)"
   ]
  },
  {
   "cell_type": "code",
   "execution_count": 4,
   "metadata": {
    "metadata": {}
   },
   "outputs": [
    {
     "name": "stderr",
     "output_type": "stream",
     "text": [
      "2024-05-06 16:00:54,290 - tripadvisor_hotels_api - WARNING - No data found in response body.\n",
      "2024-05-06 16:00:54,290 - tripadvisor_hotels_api - WARNING - No data found in response body.\n",
      "2024-05-06 16:00:54,994 - tripadvisor_hotels_api - WARNING - No data found in response body.\n",
      "2024-05-06 16:00:54,994 - tripadvisor_hotels_api - WARNING - No data found in response body.\n",
      "2024-05-06 16:00:58,128 - tripadvisor_hotels_api - WARNING - No data found in response body.\n",
      "2024-05-06 16:00:58,128 - tripadvisor_hotels_api - WARNING - No data found in response body.\n",
      "2024-05-06 16:00:58,900 - tripadvisor_hotels_api - WARNING - No data found in response body.\n",
      "2024-05-06 16:00:58,900 - tripadvisor_hotels_api - WARNING - No data found in response body.\n",
      "2024-05-06 16:01:14,035 - tripadvisor_hotels_api - WARNING - No data found in response body.\n",
      "2024-05-06 16:01:14,035 - tripadvisor_hotels_api - WARNING - No data found in response body.\n",
      "2024-05-06 16:01:14,842 - tripadvisor_hotels_api - WARNING - No data found in response body.\n",
      "2024-05-06 16:01:14,842 - tripadvisor_hotels_api - WARNING - No data found in response body.\n",
      "2024-05-06 16:01:15,547 - tripadvisor_hotels_api - WARNING - No data found in response body.\n",
      "2024-05-06 16:01:15,547 - tripadvisor_hotels_api - WARNING - No data found in response body.\n",
      "2024-05-06 16:01:16,328 - tripadvisor_hotels_api - WARNING - No data found in response body.\n",
      "2024-05-06 16:01:16,328 - tripadvisor_hotels_api - WARNING - No data found in response body.\n",
      "2024-05-06 16:01:17,848 - tripadvisor_hotels_api - WARNING - No data found in response body.\n",
      "2024-05-06 16:01:17,848 - tripadvisor_hotels_api - WARNING - No data found in response body.\n",
      "2024-05-06 16:01:18,545 - tripadvisor_hotels_api - WARNING - No data found in response body.\n",
      "2024-05-06 16:01:18,545 - tripadvisor_hotels_api - WARNING - No data found in response body.\n",
      "2024-05-06 16:01:19,245 - tripadvisor_hotels_api - WARNING - No data found in response body.\n",
      "2024-05-06 16:01:19,245 - tripadvisor_hotels_api - WARNING - No data found in response body.\n",
      "2024-05-06 16:01:20,008 - tripadvisor_hotels_api - WARNING - No data found in response body.\n",
      "2024-05-06 16:01:20,008 - tripadvisor_hotels_api - WARNING - No data found in response body.\n",
      "2024-05-06 16:01:21,489 - tripadvisor_hotels_api - WARNING - No data found in response body.\n",
      "2024-05-06 16:01:21,489 - tripadvisor_hotels_api - WARNING - No data found in response body.\n",
      "2024-05-06 16:01:22,189 - tripadvisor_hotels_api - WARNING - No data found in response body.\n",
      "2024-05-06 16:01:22,189 - tripadvisor_hotels_api - WARNING - No data found in response body.\n",
      "2024-05-06 16:01:22,970 - tripadvisor_hotels_api - WARNING - No data found in response body.\n",
      "2024-05-06 16:01:22,970 - tripadvisor_hotels_api - WARNING - No data found in response body.\n",
      "2024-05-06 16:01:23,674 - tripadvisor_hotels_api - WARNING - No data found in response body.\n",
      "2024-05-06 16:01:23,674 - tripadvisor_hotels_api - WARNING - No data found in response body.\n",
      "2024-05-06 16:01:44,895 - tripadvisor_hotels_api - WARNING - No data found in response body.\n",
      "2024-05-06 16:01:44,895 - tripadvisor_hotels_api - WARNING - No data found in response body.\n",
      "2024-05-06 16:01:46,380 - tripadvisor_hotels_api - WARNING - No data found in response body.\n",
      "2024-05-06 16:01:46,380 - tripadvisor_hotels_api - WARNING - No data found in response body.\n",
      "2024-05-06 16:01:52,349 - tripadvisor_hotels_api - WARNING - No data found in response body.\n",
      "2024-05-06 16:01:52,349 - tripadvisor_hotels_api - WARNING - No data found in response body.\n",
      "2024-05-06 16:01:54,322 - tripadvisor_hotels_api - WARNING - No data found in response body.\n",
      "2024-05-06 16:01:54,322 - tripadvisor_hotels_api - WARNING - No data found in response body.\n",
      "2024-05-06 16:02:48,220 - tripadvisor_hotels_api - WARNING - No data found in response body.\n",
      "2024-05-06 16:02:48,220 - tripadvisor_hotels_api - WARNING - No data found in response body.\n",
      "2024-05-06 16:02:48,934 - tripadvisor_hotels_api - WARNING - No data found in response body.\n",
      "2024-05-06 16:02:48,934 - tripadvisor_hotels_api - WARNING - No data found in response body.\n",
      "2024-05-06 16:02:49,654 - tripadvisor_hotels_api - WARNING - No data found in response body.\n",
      "2024-05-06 16:02:49,654 - tripadvisor_hotels_api - WARNING - No data found in response body.\n",
      "2024-05-06 16:02:50,381 - tripadvisor_hotels_api - WARNING - No data found in response body.\n",
      "2024-05-06 16:02:50,381 - tripadvisor_hotels_api - WARNING - No data found in response body.\n",
      "2024-05-06 16:02:51,817 - tripadvisor_hotels_api - WARNING - No data found in response body.\n",
      "2024-05-06 16:02:51,817 - tripadvisor_hotels_api - WARNING - No data found in response body.\n",
      "2024-05-06 16:02:52,519 - tripadvisor_hotels_api - WARNING - No data found in response body.\n",
      "2024-05-06 16:02:52,519 - tripadvisor_hotels_api - WARNING - No data found in response body.\n",
      "2024-05-06 16:02:57,610 - tripadvisor_hotels_api - WARNING - No data found in response body.\n",
      "2024-05-06 16:02:57,610 - tripadvisor_hotels_api - WARNING - No data found in response body.\n",
      "2024-05-06 16:03:00,629 - tripadvisor_hotels_api - WARNING - No data found in response body.\n",
      "2024-05-06 16:03:00,629 - tripadvisor_hotels_api - WARNING - No data found in response body.\n",
      "2024-05-06 16:03:01,345 - tripadvisor_hotels_api - WARNING - No data found in response body.\n",
      "2024-05-06 16:03:01,345 - tripadvisor_hotels_api - WARNING - No data found in response body.\n",
      "2024-05-06 16:03:02,049 - tripadvisor_hotels_api - WARNING - No data found in response body.\n",
      "2024-05-06 16:03:02,049 - tripadvisor_hotels_api - WARNING - No data found in response body.\n",
      "2024-05-06 16:03:02,756 - tripadvisor_hotels_api - WARNING - No data found in response body.\n",
      "2024-05-06 16:03:02,756 - tripadvisor_hotels_api - WARNING - No data found in response body.\n",
      "2024-05-06 16:03:04,242 - tripadvisor_hotels_api - WARNING - No data found in response body.\n",
      "2024-05-06 16:03:04,242 - tripadvisor_hotels_api - WARNING - No data found in response body.\n",
      "2024-05-06 16:03:04,944 - tripadvisor_hotels_api - WARNING - No data found in response body.\n",
      "2024-05-06 16:03:04,944 - tripadvisor_hotels_api - WARNING - No data found in response body.\n",
      "2024-05-06 16:03:05,674 - tripadvisor_hotels_api - WARNING - No data found in response body.\n",
      "2024-05-06 16:03:05,674 - tripadvisor_hotels_api - WARNING - No data found in response body.\n",
      "2024-05-06 16:03:07,098 - tripadvisor_hotels_api - WARNING - No data found in response body.\n",
      "2024-05-06 16:03:07,098 - tripadvisor_hotels_api - WARNING - No data found in response body.\n",
      "2024-05-06 16:03:07,811 - tripadvisor_hotels_api - WARNING - No data found in response body.\n",
      "2024-05-06 16:03:07,811 - tripadvisor_hotels_api - WARNING - No data found in response body.\n",
      "2024-05-06 16:03:08,595 - tripadvisor_hotels_api - WARNING - No data found in response body.\n",
      "2024-05-06 16:03:08,595 - tripadvisor_hotels_api - WARNING - No data found in response body.\n",
      "2024-05-06 16:03:09,297 - tripadvisor_hotels_api - WARNING - No data found in response body.\n",
      "2024-05-06 16:03:09,297 - tripadvisor_hotels_api - WARNING - No data found in response body.\n",
      "2024-05-06 16:03:14,494 - tripadvisor_hotels_api - WARNING - No data found in response body.\n",
      "2024-05-06 16:03:14,494 - tripadvisor_hotels_api - WARNING - No data found in response body.\n",
      "2024-05-06 16:03:15,195 - tripadvisor_hotels_api - WARNING - No data found in response body.\n",
      "2024-05-06 16:03:15,195 - tripadvisor_hotels_api - WARNING - No data found in response body.\n",
      "2024-05-06 16:03:15,889 - tripadvisor_hotels_api - WARNING - No data found in response body.\n",
      "2024-05-06 16:03:15,889 - tripadvisor_hotels_api - WARNING - No data found in response body.\n",
      "2024-05-06 16:03:16,640 - tripadvisor_hotels_api - WARNING - No data found in response body.\n",
      "2024-05-06 16:03:16,640 - tripadvisor_hotels_api - WARNING - No data found in response body.\n",
      "2024-05-06 16:03:34,174 - tripadvisor_hotels_api - WARNING - No data found in response body.\n",
      "2024-05-06 16:03:34,174 - tripadvisor_hotels_api - WARNING - No data found in response body.\n",
      "2024-05-06 16:03:34,880 - tripadvisor_hotels_api - WARNING - No data found in response body.\n",
      "2024-05-06 16:03:34,880 - tripadvisor_hotels_api - WARNING - No data found in response body.\n",
      "2024-05-06 16:03:35,574 - tripadvisor_hotels_api - WARNING - No data found in response body.\n",
      "2024-05-06 16:03:35,574 - tripadvisor_hotels_api - WARNING - No data found in response body.\n",
      "2024-05-06 16:03:36,264 - tripadvisor_hotels_api - WARNING - No data found in response body.\n",
      "2024-05-06 16:03:36,264 - tripadvisor_hotels_api - WARNING - No data found in response body.\n",
      "2024-05-06 16:03:37,684 - tripadvisor_hotels_api - WARNING - No data found in response body.\n",
      "2024-05-06 16:03:37,684 - tripadvisor_hotels_api - WARNING - No data found in response body.\n",
      "2024-05-06 16:03:38,430 - tripadvisor_hotels_api - WARNING - No data found in response body.\n",
      "2024-05-06 16:03:38,430 - tripadvisor_hotels_api - WARNING - No data found in response body.\n",
      "2024-05-06 16:03:39,138 - tripadvisor_hotels_api - WARNING - No data found in response body.\n",
      "2024-05-06 16:03:39,138 - tripadvisor_hotels_api - WARNING - No data found in response body.\n",
      "2024-05-06 16:03:39,870 - tripadvisor_hotels_api - WARNING - No data found in response body.\n",
      "2024-05-06 16:03:39,870 - tripadvisor_hotels_api - WARNING - No data found in response body.\n",
      "2024-05-06 16:03:41,407 - tripadvisor_hotels_api - WARNING - No data found in response body.\n",
      "2024-05-06 16:03:41,407 - tripadvisor_hotels_api - WARNING - No data found in response body.\n",
      "2024-05-06 16:03:42,099 - tripadvisor_hotels_api - WARNING - No data found in response body.\n",
      "2024-05-06 16:03:42,099 - tripadvisor_hotels_api - WARNING - No data found in response body.\n",
      "2024-05-06 16:03:42,812 - tripadvisor_hotels_api - WARNING - No data found in response body.\n",
      "2024-05-06 16:03:42,812 - tripadvisor_hotels_api - WARNING - No data found in response body.\n",
      "2024-05-06 16:03:43,568 - tripadvisor_hotels_api - WARNING - No data found in response body.\n",
      "2024-05-06 16:03:43,568 - tripadvisor_hotels_api - WARNING - No data found in response body.\n",
      "2024-05-06 16:03:45,007 - tripadvisor_hotels_api - WARNING - No data found in response body.\n",
      "2024-05-06 16:03:45,007 - tripadvisor_hotels_api - WARNING - No data found in response body.\n",
      "2024-05-06 16:03:45,731 - tripadvisor_hotels_api - WARNING - No data found in response body.\n",
      "2024-05-06 16:03:45,731 - tripadvisor_hotels_api - WARNING - No data found in response body.\n",
      "2024-05-06 16:03:46,433 - tripadvisor_hotels_api - WARNING - No data found in response body.\n",
      "2024-05-06 16:03:46,433 - tripadvisor_hotels_api - WARNING - No data found in response body.\n",
      "2024-05-06 16:03:47,173 - tripadvisor_hotels_api - WARNING - No data found in response body.\n",
      "2024-05-06 16:03:47,173 - tripadvisor_hotels_api - WARNING - No data found in response body.\n",
      "2024-05-06 16:04:17,584 - tripadvisor_hotels_api - WARNING - No data found in response body.\n",
      "2024-05-06 16:04:17,584 - tripadvisor_hotels_api - WARNING - No data found in response body.\n",
      "2024-05-06 16:04:18,299 - tripadvisor_hotels_api - WARNING - No data found in response body.\n",
      "2024-05-06 16:04:18,299 - tripadvisor_hotels_api - WARNING - No data found in response body.\n",
      "2024-05-06 16:04:21,254 - tripadvisor_hotels_api - WARNING - No data found in response body.\n",
      "2024-05-06 16:04:21,254 - tripadvisor_hotels_api - WARNING - No data found in response body.\n",
      "2024-05-06 16:04:22,705 - tripadvisor_hotels_api - WARNING - No data found in response body.\n",
      "2024-05-06 16:04:22,705 - tripadvisor_hotels_api - WARNING - No data found in response body.\n",
      "2024-05-06 16:04:27,129 - tripadvisor_hotels_api - WARNING - No data found in response body.\n",
      "2024-05-06 16:04:27,129 - tripadvisor_hotels_api - WARNING - No data found in response body.\n",
      "2024-05-06 16:04:27,861 - tripadvisor_hotels_api - WARNING - No data found in response body.\n",
      "2024-05-06 16:04:27,861 - tripadvisor_hotels_api - WARNING - No data found in response body.\n",
      "2024-05-06 16:04:28,592 - tripadvisor_hotels_api - WARNING - No data found in response body.\n",
      "2024-05-06 16:04:28,592 - tripadvisor_hotels_api - WARNING - No data found in response body.\n",
      "2024-05-06 16:04:29,298 - tripadvisor_hotels_api - WARNING - No data found in response body.\n",
      "2024-05-06 16:04:29,298 - tripadvisor_hotels_api - WARNING - No data found in response body.\n",
      "2024-05-06 16:04:30,761 - tripadvisor_hotels_api - WARNING - No data found in response body.\n",
      "2024-05-06 16:04:30,761 - tripadvisor_hotels_api - WARNING - No data found in response body.\n",
      "2024-05-06 16:04:31,467 - tripadvisor_hotels_api - WARNING - No data found in response body.\n",
      "2024-05-06 16:04:31,467 - tripadvisor_hotels_api - WARNING - No data found in response body.\n",
      "2024-05-06 16:04:32,174 - tripadvisor_hotels_api - WARNING - No data found in response body.\n",
      "2024-05-06 16:04:32,174 - tripadvisor_hotels_api - WARNING - No data found in response body.\n",
      "2024-05-06 16:04:33,049 - tripadvisor_hotels_api - WARNING - No data found in response body.\n",
      "2024-05-06 16:04:33,049 - tripadvisor_hotels_api - WARNING - No data found in response body.\n",
      "2024-05-06 16:04:36,632 - tripadvisor_hotels_api - WARNING - No data found in response body.\n",
      "2024-05-06 16:04:36,632 - tripadvisor_hotels_api - WARNING - No data found in response body.\n",
      "2024-05-06 16:04:37,351 - tripadvisor_hotels_api - WARNING - No data found in response body.\n",
      "2024-05-06 16:04:37,351 - tripadvisor_hotels_api - WARNING - No data found in response body.\n",
      "2024-05-06 16:04:38,048 - tripadvisor_hotels_api - WARNING - No data found in response body.\n",
      "2024-05-06 16:04:38,048 - tripadvisor_hotels_api - WARNING - No data found in response body.\n",
      "2024-05-06 16:04:39,596 - tripadvisor_hotels_api - WARNING - No data found in response body.\n",
      "2024-05-06 16:04:39,596 - tripadvisor_hotels_api - WARNING - No data found in response body.\n",
      "2024-05-06 16:04:40,292 - tripadvisor_hotels_api - WARNING - No data found in response body.\n",
      "2024-05-06 16:04:40,292 - tripadvisor_hotels_api - WARNING - No data found in response body.\n",
      "2024-05-06 16:04:40,993 - tripadvisor_hotels_api - WARNING - No data found in response body.\n",
      "2024-05-06 16:04:40,993 - tripadvisor_hotels_api - WARNING - No data found in response body.\n",
      "2024-05-06 16:04:41,706 - tripadvisor_hotels_api - WARNING - No data found in response body.\n",
      "2024-05-06 16:04:41,706 - tripadvisor_hotels_api - WARNING - No data found in response body.\n",
      "2024-05-06 16:04:47,572 - tripadvisor_hotels_api - WARNING - No data found in response body.\n",
      "2024-05-06 16:04:47,572 - tripadvisor_hotels_api - WARNING - No data found in response body.\n",
      "2024-05-06 16:04:48,304 - tripadvisor_hotels_api - WARNING - No data found in response body.\n",
      "2024-05-06 16:04:48,304 - tripadvisor_hotels_api - WARNING - No data found in response body.\n",
      "2024-05-06 16:04:49,025 - tripadvisor_hotels_api - WARNING - No data found in response body.\n",
      "2024-05-06 16:04:49,025 - tripadvisor_hotels_api - WARNING - No data found in response body.\n",
      "2024-05-06 16:04:49,718 - tripadvisor_hotels_api - WARNING - No data found in response body.\n",
      "2024-05-06 16:04:49,718 - tripadvisor_hotels_api - WARNING - No data found in response body.\n",
      "2024-05-06 16:04:51,208 - tripadvisor_hotels_api - WARNING - No data found in response body.\n",
      "2024-05-06 16:04:51,208 - tripadvisor_hotels_api - WARNING - No data found in response body.\n",
      "2024-05-06 16:04:51,952 - tripadvisor_hotels_api - WARNING - No data found in response body.\n",
      "2024-05-06 16:04:51,952 - tripadvisor_hotels_api - WARNING - No data found in response body.\n",
      "2024-05-06 16:04:52,646 - tripadvisor_hotels_api - WARNING - No data found in response body.\n",
      "2024-05-06 16:04:52,646 - tripadvisor_hotels_api - WARNING - No data found in response body.\n",
      "2024-05-06 16:04:53,447 - tripadvisor_hotels_api - WARNING - No data found in response body.\n",
      "2024-05-06 16:04:53,447 - tripadvisor_hotels_api - WARNING - No data found in response body.\n",
      "2024-05-06 16:05:07,965 - tripadvisor_hotels_api - WARNING - No data found in response body.\n",
      "2024-05-06 16:05:07,965 - tripadvisor_hotels_api - WARNING - No data found in response body.\n",
      "2024-05-06 16:05:08,691 - tripadvisor_hotels_api - WARNING - No data found in response body.\n",
      "2024-05-06 16:05:08,691 - tripadvisor_hotels_api - WARNING - No data found in response body.\n",
      "2024-05-06 16:05:09,454 - tripadvisor_hotels_api - WARNING - No data found in response body.\n",
      "2024-05-06 16:05:09,454 - tripadvisor_hotels_api - WARNING - No data found in response body.\n",
      "2024-05-06 16:05:10,171 - tripadvisor_hotels_api - WARNING - No data found in response body.\n",
      "2024-05-06 16:05:10,171 - tripadvisor_hotels_api - WARNING - No data found in response body.\n",
      "2024-05-06 16:05:11,646 - tripadvisor_hotels_api - WARNING - No data found in response body.\n",
      "2024-05-06 16:05:11,646 - tripadvisor_hotels_api - WARNING - No data found in response body.\n",
      "2024-05-06 16:05:12,352 - tripadvisor_hotels_api - WARNING - No data found in response body.\n",
      "2024-05-06 16:05:12,352 - tripadvisor_hotels_api - WARNING - No data found in response body.\n",
      "2024-05-06 16:05:13,073 - tripadvisor_hotels_api - WARNING - No data found in response body.\n",
      "2024-05-06 16:05:13,073 - tripadvisor_hotels_api - WARNING - No data found in response body.\n",
      "2024-05-06 16:05:13,815 - tripadvisor_hotels_api - WARNING - No data found in response body.\n",
      "2024-05-06 16:05:13,815 - tripadvisor_hotels_api - WARNING - No data found in response body.\n",
      "2024-05-06 16:05:57,920 - tripadvisor_hotels_api - WARNING - No data found in response body.\n",
      "2024-05-06 16:05:57,920 - tripadvisor_hotels_api - WARNING - No data found in response body.\n",
      "2024-05-06 16:06:00,807 - tripadvisor_hotels_api - WARNING - No data found in response body.\n",
      "2024-05-06 16:06:00,807 - tripadvisor_hotels_api - WARNING - No data found in response body.\n",
      "2024-05-06 16:06:01,513 - tripadvisor_hotels_api - WARNING - No data found in response body.\n",
      "2024-05-06 16:06:01,513 - tripadvisor_hotels_api - WARNING - No data found in response body.\n",
      "2024-05-06 16:06:02,987 - tripadvisor_hotels_api - WARNING - No data found in response body.\n",
      "2024-05-06 16:06:02,987 - tripadvisor_hotels_api - WARNING - No data found in response body.\n",
      "2024-05-06 16:06:14,886 - tripadvisor_hotels_api - WARNING - No data found in response body.\n",
      "2024-05-06 16:06:14,886 - tripadvisor_hotels_api - WARNING - No data found in response body.\n",
      "2024-05-06 16:06:15,586 - tripadvisor_hotels_api - WARNING - No data found in response body.\n",
      "2024-05-06 16:06:15,586 - tripadvisor_hotels_api - WARNING - No data found in response body.\n",
      "2024-05-06 16:06:16,295 - tripadvisor_hotels_api - WARNING - No data found in response body.\n",
      "2024-05-06 16:06:16,295 - tripadvisor_hotels_api - WARNING - No data found in response body.\n",
      "2024-05-06 16:06:17,126 - tripadvisor_hotels_api - WARNING - No data found in response body.\n",
      "2024-05-06 16:06:17,126 - tripadvisor_hotels_api - WARNING - No data found in response body.\n",
      "2024-05-06 16:06:18,557 - tripadvisor_hotels_api - WARNING - No data found in response body.\n",
      "2024-05-06 16:06:18,557 - tripadvisor_hotels_api - WARNING - No data found in response body.\n",
      "2024-05-06 16:06:19,246 - tripadvisor_hotels_api - WARNING - No data found in response body.\n",
      "2024-05-06 16:06:19,246 - tripadvisor_hotels_api - WARNING - No data found in response body.\n",
      "2024-05-06 16:06:19,957 - tripadvisor_hotels_api - WARNING - No data found in response body.\n",
      "2024-05-06 16:06:19,957 - tripadvisor_hotels_api - WARNING - No data found in response body.\n",
      "2024-05-06 16:06:20,680 - tripadvisor_hotels_api - WARNING - No data found in response body.\n",
      "2024-05-06 16:06:20,680 - tripadvisor_hotels_api - WARNING - No data found in response body.\n",
      "2024-05-06 16:11:26,971 - tripadvisor_hotels_api - WARNING - No data found in response body.\n",
      "2024-05-06 16:11:26,971 - tripadvisor_hotels_api - WARNING - No data found in response body.\n",
      "2024-05-06 16:11:27,686 - tripadvisor_hotels_api - WARNING - No data found in response body.\n",
      "2024-05-06 16:11:27,686 - tripadvisor_hotels_api - WARNING - No data found in response body.\n",
      "2024-05-06 16:11:29,143 - tripadvisor_hotels_api - WARNING - No data found in response body.\n",
      "2024-05-06 16:11:29,143 - tripadvisor_hotels_api - WARNING - No data found in response body.\n",
      "2024-05-06 16:11:29,842 - tripadvisor_hotels_api - WARNING - No data found in response body.\n",
      "2024-05-06 16:11:29,842 - tripadvisor_hotels_api - WARNING - No data found in response body.\n",
      "2024-05-06 16:11:30,563 - tripadvisor_hotels_api - WARNING - No data found in response body.\n",
      "2024-05-06 16:11:30,563 - tripadvisor_hotels_api - WARNING - No data found in response body.\n",
      "2024-05-06 16:11:33,523 - tripadvisor_hotels_api - WARNING - No data found in response body.\n",
      "2024-05-06 16:11:33,523 - tripadvisor_hotels_api - WARNING - No data found in response body.\n",
      "2024-05-06 16:11:34,238 - tripadvisor_hotels_api - WARNING - No data found in response body.\n",
      "2024-05-06 16:11:34,238 - tripadvisor_hotels_api - WARNING - No data found in response body.\n",
      "2024-05-06 16:11:34,948 - tripadvisor_hotels_api - WARNING - No data found in response body.\n",
      "2024-05-06 16:11:34,948 - tripadvisor_hotels_api - WARNING - No data found in response body.\n",
      "2024-05-06 16:11:35,652 - tripadvisor_hotels_api - WARNING - No data found in response body.\n",
      "2024-05-06 16:11:35,652 - tripadvisor_hotels_api - WARNING - No data found in response body.\n"
     ]
    }
   ],
   "source": [
    "Jersey_City_api = tha.TripadvisorCityAPI(\"Jersey City\")\n",
    "false_database = Jersey_City_api.find_places_in_geography(Jersey_City_api.geo)\n",
    "Jersey_City_api_database = Jersey_City_api.global_hotel_lists()"
   ]
  },
  {
   "cell_type": "code",
   "execution_count": 5,
   "metadata": {
    "metadata": {}
   },
   "outputs": [],
   "source": [
    "\n",
    "Jersey_City_hotel_lst = Jersey_City_api.get_room_number(Jersey_City_api_database.clean)\n",
    "Jersey_City_api_df = pd.DataFrame(Jersey_City_hotel_lst)\n",
    "Jersey_City_api_df.loc[:, \"location_id\"] = Jersey_City_api_df.loc[:, \"location_id\"].astype(int)\n",
    "Jersey_City_api_df = Jersey_City_api_df.loc[(Jersey_City_api_df.loc[:, \"city\"] == \"Jersey City\"), :]\n",
    "Jersey_City_api_df.to_csv(\"Jersey_City_hotels_api.csv\", index=False)"
   ]
  },
  {
   "cell_type": "code",
   "execution_count": null,
   "metadata": {
    "metadata": {}
   },
   "outputs": [],
   "source": [
    "Jersey_City_api_df = pd.DataFrame(Jersey_City_api_database.clean)\n",
    "Jersey_City_api_df.loc[:, \"location_id\"] = Jersey_City_api_df.loc[:, \"location_id\"].astype(int)\n",
    "\n",
    "Jersey_City_crawl_df = pd.read_csv(\"Jersey_City_hotels_crawled.csv\")\n",
    "\n",
    "Jersey_City_api_room_df = pd.merge(Jersey_City_api_df, Jersey_City_crawl_df, on=\"location_id\", how=\"left\")"
   ]
  },
  {
   "cell_type": "code",
   "execution_count": 29,
   "metadata": {
    "metadata": {}
   },
   "outputs": [],
   "source": [
    "Jersey_City_api_room_df = pd.read_csv(\"Jersey_City_hotels_api.csv\")\n",
    "Jersey_City_api_room_df.columns\n",
    "filtered_columns = [col for col in Jersey_City_api_room_df.columns if not col.endswith('_y')]\n",
    "Jersey_City_api_room_df = Jersey_City_api_room_df[filtered_columns]\n",
    "renamed_columns = {col: col.replace('_x', '') for col in filtered_columns if col.endswith('_x')}\n",
    "\n",
    "Jersey_City_api_room_df.rename(columns=renamed_columns, inplace=True)\n",
    "\n",
    "Jersey_City_api_room_df = Jersey_City_api_room_df.loc[(Jersey_City_api_room_df.loc[:, \"city\"] == \"Jersey City\"), :]\n",
    "Jersey_City_api_room_df.to_csv(\"Jersey_City_hotels_api.csv\", index=False)"
   ]
  },
  {
   "cell_type": "code",
   "execution_count": 10,
   "metadata": {
    "metadata": {}
   },
   "outputs": [],
   "source": [
    "Jersey_City_api_room_df.to_csv(\"Jersey_City_hotels_api.csv\", index=False)"
   ]
  },
  {
   "cell_type": "markdown",
   "metadata": {},
   "source": [
    "# Sunnyvale"
   ]
  },
  {
   "cell_type": "code",
   "execution_count": null,
   "metadata": {
    "metadata": {}
   },
   "outputs": [],
   "source": [
    "Sunnyvale = thw.TripadvisorCityCrawl(\"Sunnyvale\")"
   ]
  },
  {
   "cell_type": "code",
   "execution_count": null,
   "metadata": {
    "metadata": {}
   },
   "outputs": [],
   "source": [
    "Sunnyvale.hotel_df.to_csv(\"Sunnyvale_hotels_crawled.csv\", index=False)"
   ]
  },
  {
   "cell_type": "code",
   "execution_count": 5,
   "metadata": {
    "metadata": {}
   },
   "outputs": [
    {
     "name": "stderr",
     "output_type": "stream",
     "text": [
      "2024-05-06 14:28:07,330 - tripadvisor_hotels_api - WARNING - No data found in response body.\n",
      "2024-05-06 14:28:08,018 - tripadvisor_hotels_api - WARNING - No data found in response body.\n",
      "2024-05-06 14:28:08,770 - tripadvisor_hotels_api - WARNING - No data found in response body.\n",
      "2024-05-06 14:28:09,494 - tripadvisor_hotels_api - WARNING - No data found in response body.\n",
      "2024-05-06 14:28:12,076 - tripadvisor_hotels_api - WARNING - No data found in response body.\n",
      "2024-05-06 14:28:12,786 - tripadvisor_hotels_api - WARNING - No data found in response body.\n",
      "2024-05-06 14:28:13,520 - tripadvisor_hotels_api - WARNING - No data found in response body.\n",
      "2024-05-06 14:28:14,211 - tripadvisor_hotels_api - WARNING - No data found in response body.\n",
      "2024-05-06 14:28:15,651 - tripadvisor_hotels_api - WARNING - No data found in response body.\n",
      "2024-05-06 14:28:19,298 - tripadvisor_hotels_api - WARNING - No data found in response body.\n",
      "2024-05-06 14:28:19,998 - tripadvisor_hotels_api - WARNING - No data found in response body.\n",
      "2024-05-06 14:28:20,693 - tripadvisor_hotels_api - WARNING - No data found in response body.\n",
      "2024-05-06 14:28:21,426 - tripadvisor_hotels_api - WARNING - No data found in response body.\n",
      "2024-05-06 14:28:43,377 - tripadvisor_hotels_api - WARNING - No data found in response body.\n",
      "2024-05-06 14:29:36,766 - tripadvisor_hotels_api - WARNING - No data found in response body.\n",
      "2024-05-06 14:30:04,146 - tripadvisor_hotels_api - WARNING - No data found in response body.\n",
      "2024-05-06 14:30:07,165 - tripadvisor_hotels_api - WARNING - No data found in response body.\n",
      "2024-05-06 14:30:08,577 - tripadvisor_hotels_api - WARNING - No data found in response body.\n",
      "2024-05-06 14:30:22,843 - tripadvisor_hotels_api - WARNING - No data found in response body.\n",
      "2024-05-06 14:30:23,559 - tripadvisor_hotels_api - WARNING - No data found in response body.\n",
      "2024-05-06 14:30:24,271 - tripadvisor_hotels_api - WARNING - No data found in response body.\n",
      "2024-05-06 14:30:25,055 - tripadvisor_hotels_api - WARNING - No data found in response body.\n",
      "2024-05-06 14:30:26,536 - tripadvisor_hotels_api - WARNING - No data found in response body.\n",
      "2024-05-06 14:30:27,243 - tripadvisor_hotels_api - WARNING - No data found in response body.\n",
      "2024-05-06 14:30:27,962 - tripadvisor_hotels_api - WARNING - No data found in response body.\n",
      "2024-05-06 14:30:28,682 - tripadvisor_hotels_api - WARNING - No data found in response body.\n",
      "2024-05-06 14:30:30,143 - tripadvisor_hotels_api - WARNING - No data found in response body.\n",
      "2024-05-06 14:30:30,911 - tripadvisor_hotels_api - WARNING - No data found in response body.\n",
      "2024-05-06 14:30:31,628 - tripadvisor_hotels_api - WARNING - No data found in response body.\n",
      "2024-05-06 14:30:32,324 - tripadvisor_hotels_api - WARNING - No data found in response body.\n",
      "2024-05-06 14:30:34,822 - tripadvisor_hotels_api - WARNING - No data found in response body.\n",
      "2024-05-06 14:30:35,512 - tripadvisor_hotels_api - WARNING - No data found in response body.\n",
      "2024-05-06 14:30:36,254 - tripadvisor_hotels_api - WARNING - No data found in response body.\n",
      "2024-05-06 14:30:36,935 - tripadvisor_hotels_api - WARNING - No data found in response body.\n",
      "2024-05-06 14:30:40,690 - tripadvisor_hotels_api - WARNING - No data found in response body.\n",
      "2024-05-06 14:30:41,386 - tripadvisor_hotels_api - WARNING - No data found in response body.\n",
      "2024-05-06 14:30:42,175 - tripadvisor_hotels_api - WARNING - No data found in response body.\n",
      "2024-05-06 14:30:42,865 - tripadvisor_hotels_api - WARNING - No data found in response body.\n",
      "2024-05-06 14:30:44,337 - tripadvisor_hotels_api - WARNING - No data found in response body.\n",
      "2024-05-06 14:30:45,021 - tripadvisor_hotels_api - WARNING - No data found in response body.\n",
      "2024-05-06 14:30:45,732 - tripadvisor_hotels_api - WARNING - No data found in response body.\n",
      "2024-05-06 14:30:46,504 - tripadvisor_hotels_api - WARNING - No data found in response body.\n",
      "2024-05-06 14:30:48,716 - tripadvisor_hotels_api - WARNING - No data found in response body.\n",
      "2024-05-06 14:30:49,440 - tripadvisor_hotels_api - WARNING - No data found in response body.\n",
      "2024-05-06 14:30:50,882 - tripadvisor_hotels_api - WARNING - No data found in response body.\n",
      "2024-05-06 14:30:56,724 - tripadvisor_hotels_api - WARNING - No data found in response body.\n",
      "2024-05-06 14:30:58,109 - tripadvisor_hotels_api - WARNING - No data found in response body.\n",
      "2024-05-06 14:31:16,379 - tripadvisor_hotels_api - WARNING - No data found in response body.\n",
      "2024-05-06 14:31:17,073 - tripadvisor_hotels_api - WARNING - No data found in response body.\n",
      "2024-05-06 14:31:40,183 - tripadvisor_hotels_api - WARNING - No data found in response body.\n",
      "2024-05-06 14:31:41,672 - tripadvisor_hotels_api - WARNING - No data found in response body.\n",
      "2024-05-06 14:31:43,092 - tripadvisor_hotels_api - WARNING - No data found in response body.\n",
      "2024-05-06 14:31:44,500 - tripadvisor_hotels_api - WARNING - No data found in response body.\n",
      "2024-05-06 14:32:31,491 - tripadvisor_hotels_api - WARNING - No data found in response body.\n",
      "2024-05-06 14:32:32,898 - tripadvisor_hotels_api - WARNING - No data found in response body.\n",
      "2024-05-06 14:32:36,073 - tripadvisor_hotels_api - WARNING - No data found in response body.\n",
      "2024-05-06 14:32:37,473 - tripadvisor_hotels_api - WARNING - No data found in response body.\n",
      "2024-05-06 14:32:38,901 - tripadvisor_hotels_api - WARNING - No data found in response body.\n",
      "2024-05-06 14:32:40,371 - tripadvisor_hotels_api - WARNING - No data found in response body.\n",
      "2024-05-06 14:32:45,742 - tripadvisor_hotels_api - WARNING - No data found in response body.\n",
      "2024-05-06 14:32:46,434 - tripadvisor_hotels_api - WARNING - No data found in response body.\n",
      "2024-05-06 14:32:47,137 - tripadvisor_hotels_api - WARNING - No data found in response body.\n",
      "2024-05-06 14:32:47,896 - tripadvisor_hotels_api - WARNING - No data found in response body.\n",
      "2024-05-06 14:32:49,673 - tripadvisor_hotels_api - WARNING - No data found in response body.\n",
      "2024-05-06 14:32:51,391 - tripadvisor_hotels_api - WARNING - No data found in response body.\n",
      "2024-05-06 14:32:53,511 - tripadvisor_hotels_api - WARNING - No data found in response body.\n",
      "2024-05-06 14:32:54,214 - tripadvisor_hotels_api - WARNING - No data found in response body.\n",
      "2024-05-06 14:32:54,914 - tripadvisor_hotels_api - WARNING - No data found in response body.\n",
      "2024-05-06 14:32:55,620 - tripadvisor_hotels_api - WARNING - No data found in response body.\n",
      "2024-05-06 14:33:31,855 - tripadvisor_hotels_api - WARNING - No data found in response body.\n",
      "2024-05-06 14:33:53,818 - tripadvisor_hotels_api - WARNING - No data found in response body.\n",
      "2024-05-06 14:33:54,562 - tripadvisor_hotels_api - WARNING - No data found in response body.\n",
      "2024-05-06 14:33:55,351 - tripadvisor_hotels_api - WARNING - No data found in response body.\n",
      "2024-05-06 14:33:56,064 - tripadvisor_hotels_api - WARNING - No data found in response body.\n",
      "2024-05-06 14:33:59,817 - tripadvisor_hotels_api - WARNING - No data found in response body.\n",
      "2024-05-06 14:34:00,516 - tripadvisor_hotels_api - WARNING - No data found in response body.\n",
      "2024-05-06 14:34:01,206 - tripadvisor_hotels_api - WARNING - No data found in response body.\n",
      "2024-05-06 14:34:01,980 - tripadvisor_hotels_api - WARNING - No data found in response body.\n",
      "2024-05-06 14:34:32,427 - tripadvisor_hotels_api - WARNING - No data found in response body.\n",
      "2024-05-06 14:34:33,847 - tripadvisor_hotels_api - WARNING - No data found in response body.\n",
      "2024-05-06 14:34:39,760 - tripadvisor_hotels_api - WARNING - No data found in response body.\n",
      "2024-05-06 14:34:41,189 - tripadvisor_hotels_api - WARNING - No data found in response body.\n",
      "2024-05-06 14:35:21,834 - tripadvisor_hotels_api - WARNING - No data found in response body.\n",
      "2024-05-06 14:35:22,545 - tripadvisor_hotels_api - WARNING - No data found in response body.\n",
      "2024-05-06 14:35:24,676 - tripadvisor_hotels_api - WARNING - No data found in response body.\n",
      "2024-05-06 14:35:25,407 - tripadvisor_hotels_api - WARNING - No data found in response body.\n",
      "2024-05-06 14:35:26,200 - tripadvisor_hotels_api - WARNING - No data found in response body.\n",
      "2024-05-06 14:35:26,922 - tripadvisor_hotels_api - WARNING - No data found in response body.\n",
      "2024-05-06 14:35:39,767 - tripadvisor_hotels_api - WARNING - No data found in response body.\n",
      "2024-05-06 14:35:41,218 - tripadvisor_hotels_api - WARNING - No data found in response body.\n",
      "2024-05-06 14:35:49,394 - tripadvisor_hotels_api - WARNING - No data found in response body.\n",
      "2024-05-06 14:35:50,086 - tripadvisor_hotels_api - WARNING - No data found in response body.\n",
      "2024-05-06 14:35:50,778 - tripadvisor_hotels_api - WARNING - No data found in response body.\n",
      "2024-05-06 14:35:52,897 - tripadvisor_hotels_api - WARNING - No data found in response body.\n",
      "2024-05-06 14:35:53,588 - tripadvisor_hotels_api - WARNING - No data found in response body.\n",
      "2024-05-06 14:35:54,294 - tripadvisor_hotels_api - WARNING - No data found in response body.\n",
      "2024-05-06 14:35:54,999 - tripadvisor_hotels_api - WARNING - No data found in response body.\n",
      "2024-05-06 14:36:01,521 - tripadvisor_hotels_api - WARNING - No data found in response body.\n",
      "2024-05-06 14:36:02,217 - tripadvisor_hotels_api - WARNING - No data found in response body.\n",
      "2024-05-06 14:36:02,970 - tripadvisor_hotels_api - WARNING - No data found in response body.\n",
      "2024-05-06 14:36:03,653 - tripadvisor_hotels_api - WARNING - No data found in response body.\n",
      "2024-05-06 14:36:05,865 - tripadvisor_hotels_api - WARNING - No data found in response body.\n",
      "2024-05-06 14:36:07,614 - tripadvisor_hotels_api - WARNING - No data found in response body.\n",
      "2024-05-06 14:36:08,303 - tripadvisor_hotels_api - WARNING - No data found in response body.\n",
      "2024-05-06 14:36:09,011 - tripadvisor_hotels_api - WARNING - No data found in response body.\n",
      "2024-05-06 14:36:09,796 - tripadvisor_hotels_api - WARNING - No data found in response body.\n",
      "2024-05-06 14:36:17,194 - tripadvisor_hotels_api - WARNING - No data found in response body.\n",
      "2024-05-06 14:36:17,949 - tripadvisor_hotels_api - WARNING - No data found in response body.\n",
      "2024-05-06 14:36:18,664 - tripadvisor_hotels_api - WARNING - No data found in response body.\n",
      "2024-05-06 14:36:19,376 - tripadvisor_hotels_api - WARNING - No data found in response body.\n",
      "2024-05-06 14:36:23,101 - tripadvisor_hotels_api - WARNING - No data found in response body.\n",
      "2024-05-06 14:36:24,565 - tripadvisor_hotels_api - WARNING - No data found in response body.\n",
      "2024-05-06 14:36:44,804 - tripadvisor_hotels_api - WARNING - No data found in response body.\n",
      "2024-05-06 14:36:45,489 - tripadvisor_hotels_api - WARNING - No data found in response body.\n",
      "2024-05-06 14:36:46,224 - tripadvisor_hotels_api - WARNING - No data found in response body.\n",
      "2024-05-06 14:36:46,925 - tripadvisor_hotels_api - WARNING - No data found in response body.\n",
      "2024-05-06 14:36:51,250 - tripadvisor_hotels_api - WARNING - No data found in response body.\n",
      "2024-05-06 14:36:51,953 - tripadvisor_hotels_api - WARNING - No data found in response body.\n",
      "2024-05-06 14:36:52,645 - tripadvisor_hotels_api - WARNING - No data found in response body.\n",
      "2024-05-06 14:36:53,353 - tripadvisor_hotels_api - WARNING - No data found in response body.\n",
      "2024-05-06 14:36:54,744 - tripadvisor_hotels_api - WARNING - No data found in response body.\n",
      "2024-05-06 14:36:55,430 - tripadvisor_hotels_api - WARNING - No data found in response body.\n",
      "2024-05-06 14:37:16,987 - tripadvisor_hotels_api - WARNING - No data found in response body.\n",
      "2024-05-06 14:37:20,247 - tripadvisor_hotels_api - WARNING - No data found in response body.\n",
      "2024-05-06 14:37:25,248 - tripadvisor_hotels_api - WARNING - No data found in response body.\n",
      "2024-05-06 14:37:26,803 - tripadvisor_hotels_api - WARNING - No data found in response body.\n",
      "2024-05-06 14:37:27,500 - tripadvisor_hotels_api - WARNING - No data found in response body.\n",
      "2024-05-06 14:37:28,206 - tripadvisor_hotels_api - WARNING - No data found in response body.\n",
      "2024-05-06 14:37:34,171 - tripadvisor_hotels_api - WARNING - No data found in response body.\n",
      "2024-05-06 14:37:35,551 - tripadvisor_hotels_api - WARNING - No data found in response body.\n",
      "2024-05-06 14:37:44,003 - tripadvisor_hotels_api - WARNING - No data found in response body.\n",
      "2024-05-06 14:37:44,700 - tripadvisor_hotels_api - WARNING - No data found in response body.\n",
      "2024-05-06 14:37:45,400 - tripadvisor_hotels_api - WARNING - No data found in response body.\n",
      "2024-05-06 14:37:46,111 - tripadvisor_hotels_api - WARNING - No data found in response body.\n",
      "2024-05-06 14:37:49,651 - tripadvisor_hotels_api - WARNING - No data found in response body.\n",
      "2024-05-06 14:37:51,629 - tripadvisor_hotels_api - WARNING - No data found in response body.\n",
      "2024-05-06 14:37:52,367 - tripadvisor_hotels_api - WARNING - No data found in response body.\n",
      "2024-05-06 14:39:12,985 - tripadvisor_hotels_api - WARNING - No data found in response body.\n",
      "2024-05-06 14:39:14,416 - tripadvisor_hotels_api - WARNING - No data found in response body.\n",
      "2024-05-06 14:39:20,350 - tripadvisor_hotels_api - WARNING - No data found in response body.\n",
      "2024-05-06 14:39:21,951 - tripadvisor_hotels_api - WARNING - No data found in response body.\n",
      "2024-05-06 14:39:32,125 - tripadvisor_hotels_api - WARNING - No data found in response body.\n",
      "2024-05-06 14:39:32,821 - tripadvisor_hotels_api - WARNING - No data found in response body.\n",
      "2024-05-06 14:39:33,519 - tripadvisor_hotels_api - WARNING - No data found in response body.\n",
      "2024-05-06 14:39:34,216 - tripadvisor_hotels_api - WARNING - No data found in response body.\n",
      "2024-05-06 14:40:01,335 - tripadvisor_hotels_api - WARNING - No data found in response body.\n",
      "2024-05-06 14:40:07,094 - tripadvisor_hotels_api - WARNING - No data found in response body.\n",
      "2024-05-06 14:40:19,942 - tripadvisor_hotels_api - WARNING - No data found in response body.\n",
      "2024-05-06 14:40:20,641 - tripadvisor_hotels_api - WARNING - No data found in response body.\n",
      "2024-05-06 14:40:21,327 - tripadvisor_hotels_api - WARNING - No data found in response body.\n",
      "2024-05-06 14:40:22,126 - tripadvisor_hotels_api - WARNING - No data found in response body.\n",
      "2024-05-06 14:40:25,015 - tripadvisor_hotels_api - WARNING - No data found in response body.\n",
      "2024-05-06 14:40:25,719 - tripadvisor_hotels_api - WARNING - No data found in response body.\n",
      "2024-05-06 14:40:26,442 - tripadvisor_hotels_api - WARNING - No data found in response body.\n",
      "2024-05-06 14:40:27,158 - tripadvisor_hotels_api - WARNING - No data found in response body.\n",
      "2024-05-06 14:40:35,898 - tripadvisor_hotels_api - WARNING - No data found in response body.\n",
      "2024-05-06 14:40:37,291 - tripadvisor_hotels_api - WARNING - No data found in response body.\n",
      "2024-05-06 14:40:43,294 - tripadvisor_hotels_api - WARNING - No data found in response body.\n",
      "2024-05-06 14:41:35,232 - tripadvisor_hotels_api - WARNING - No data found in response body.\n",
      "2024-05-06 14:41:36,750 - tripadvisor_hotels_api - WARNING - No data found in response body.\n",
      "2024-05-06 14:41:44,000 - tripadvisor_hotels_api - WARNING - No data found in response body.\n",
      "2024-05-06 14:41:44,700 - tripadvisor_hotels_api - WARNING - No data found in response body.\n",
      "2024-05-06 14:41:45,402 - tripadvisor_hotels_api - WARNING - No data found in response body.\n",
      "2024-05-06 14:41:46,117 - tripadvisor_hotels_api - WARNING - No data found in response body.\n"
     ]
    }
   ],
   "source": [
    "Sunnyvale_api = tha.TripadvisorCityAPI(\"Sunnyvale\")\n",
    "false_database = Sunnyvale_api.find_places_in_geography(Sunnyvale_api.geo)\n",
    "Sunnyvale_api_database = Sunnyvale_api.global_hotel_lists()"
   ]
  },
  {
   "cell_type": "code",
   "execution_count": 7,
   "metadata": {
    "metadata": {}
   },
   "outputs": [],
   "source": [
    "Sunnyvale_hotel_lst = Sunnyvale_api.get_room_number(Sunnyvale_api_database.clean)"
   ]
  },
  {
   "cell_type": "code",
   "execution_count": 8,
   "metadata": {
    "metadata": {}
   },
   "outputs": [],
   "source": [
    "Sunnyvale_api_df = pd.DataFrame(Sunnyvale_hotel_lst)"
   ]
  },
  {
   "cell_type": "code",
   "execution_count": 9,
   "metadata": {
    "metadata": {}
   },
   "outputs": [],
   "source": [
    "Sunnyvale_api_df.loc[:, \"location_id\"] = Sunnyvale_api_df.loc[:, \"location_id\"].astype(int)\n",
    "Sunnyvale_api_df = Sunnyvale_api_df.loc[(Sunnyvale_api_df.loc[:, \"city\"] == \"Sunnyvale\"), :]\n",
    "Sunnyvale_api_df.to_csv(\"Sunnyvale_hotels_api.csv\", index=False)"
   ]
  }
 ],
 "metadata": {
  "kernelspec": {
   "display_name": "Python 3",
   "language": "python",
   "name": "python3"
  },
  "language_info": {
   "codemirror_mode": {
    "name": "ipython",
    "version": 3
   },
   "file_extension": ".py",
   "mimetype": "text/x-python",
   "name": "python",
   "nbconvert_exporter": "python",
   "pygments_lexer": "ipython3",
   "version": "3.11.8"
  }
 },
 "nbformat": 4,
 "nbformat_minor": 2
}
