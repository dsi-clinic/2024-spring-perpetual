{
 "cells": [
  {
   "cell_type": "code",
   "execution_count": 1,
   "metadata": {},
   "outputs": [],
   "source": [
    "import pandas as pd\n",
    "import numpy as np"
   ]
  },
  {
   "cell_type": "code",
   "execution_count": 2,
   "metadata": {},
   "outputs": [],
   "source": [
    "%load_ext autoreload\n",
    "%autoreload 2\n",
    "\n",
    "from utils.archive2 import WGS84Coordinate\n",
    "from utils.archive import MapboxApiClient, MapboxRoutingProfile, MapboxRouteEnum\n",
    "from typing import List"
   ]
  },
  {
   "cell_type": "code",
   "execution_count": 3,
   "metadata": {},
   "outputs": [],
   "source": [
    "df = pd.read_parquet(\"hilo_full_patterns.parquet\")"
   ]
  },
  {
   "cell_type": "code",
   "execution_count": 4,
   "metadata": {},
   "outputs": [
    {
     "data": {
      "text/plain": [
       "Index(['placekey', 'safegraph_place_id', 'parent_placekey',\n",
       "       'parent_safegraph_place_id', 'location_name', 'safegraph_brand_ids',\n",
       "       'brands', 'top_category', 'sub_category', 'category_tags', 'naics_code',\n",
       "       'latitude', 'longitude', 'street_address', 'city', 'region',\n",
       "       'postal_code', 'iso_country_code', 'phone_number', 'open_hours',\n",
       "       'opened_on', 'closed_on', 'tracking_opened_since',\n",
       "       'tracking_closed_since', 'date_range_start', 'date_range_end',\n",
       "       'raw_visit_counts', 'raw_visitor_counts', 'visits_by_day',\n",
       "       'visitor_home_cbgs', 'visitor_country_of_origin', 'distance_from_home',\n",
       "       'median_dwell', 'bucketed_dwell_times', 'related_same_day_brand',\n",
       "       'related_same_month_brand', 'popularity_by_hour', 'popularity_by_day',\n",
       "       'device_type', 'poi_cbg', 'visitor_daytime_cbgs'],\n",
       "      dtype='object')"
      ]
     },
     "execution_count": 4,
     "metadata": {},
     "output_type": "execute_result"
    }
   ],
   "source": [
    "df.columns"
   ]
  },
  {
   "cell_type": "code",
   "execution_count": 13,
   "metadata": {},
   "outputs": [
    {
     "data": {
      "text/html": [
       "<div>\n",
       "<style scoped>\n",
       "    .dataframe tbody tr th:only-of-type {\n",
       "        vertical-align: middle;\n",
       "    }\n",
       "\n",
       "    .dataframe tbody tr th {\n",
       "        vertical-align: top;\n",
       "    }\n",
       "\n",
       "    .dataframe thead th {\n",
       "        text-align: right;\n",
       "    }\n",
       "</style>\n",
       "<table border=\"1\" class=\"dataframe\">\n",
       "  <thead>\n",
       "    <tr style=\"text-align: right;\">\n",
       "      <th></th>\n",
       "      <th>placekey</th>\n",
       "      <th>safegraph_place_id</th>\n",
       "      <th>parent_placekey</th>\n",
       "      <th>parent_safegraph_place_id</th>\n",
       "      <th>location_name</th>\n",
       "      <th>safegraph_brand_ids</th>\n",
       "      <th>brands</th>\n",
       "      <th>top_category</th>\n",
       "      <th>sub_category</th>\n",
       "      <th>category_tags</th>\n",
       "      <th>...</th>\n",
       "      <th>distance_from_home</th>\n",
       "      <th>median_dwell</th>\n",
       "      <th>bucketed_dwell_times</th>\n",
       "      <th>related_same_day_brand</th>\n",
       "      <th>related_same_month_brand</th>\n",
       "      <th>popularity_by_hour</th>\n",
       "      <th>popularity_by_day</th>\n",
       "      <th>device_type</th>\n",
       "      <th>poi_cbg</th>\n",
       "      <th>visitor_daytime_cbgs</th>\n",
       "    </tr>\n",
       "  </thead>\n",
       "  <tbody>\n",
       "    <tr>\n",
       "      <th>2353</th>\n",
       "      <td>zzw-223@bp4-jct-t5f</td>\n",
       "      <td>sg:a6abadf575c64c7aa2957973c322c258</td>\n",
       "      <td>None</td>\n",
       "      <td>None</td>\n",
       "      <td>YMCA</td>\n",
       "      <td>SG_BRAND_8c40d09d7a855232f6ae8762ffd5966a</td>\n",
       "      <td>YMCA</td>\n",
       "      <td>Individual and Family Services</td>\n",
       "      <td>Other Individual and Family Services</td>\n",
       "      <td>None</td>\n",
       "      <td>...</td>\n",
       "      <td>NaN</td>\n",
       "      <td>NaN</td>\n",
       "      <td>None</td>\n",
       "      <td>None</td>\n",
       "      <td>None</td>\n",
       "      <td>None</td>\n",
       "      <td>None</td>\n",
       "      <td>None</td>\n",
       "      <td>NaN</td>\n",
       "      <td>None</td>\n",
       "    </tr>\n",
       "    <tr>\n",
       "      <th>3153</th>\n",
       "      <td>22d-222@bp4-jct-f75</td>\n",
       "      <td>sg:e170329441704027b328f7603705729f</td>\n",
       "      <td>228-222@bp4-jct-hkf</td>\n",
       "      <td>sg:d4f8d56cb61345e6b33a5a1382a503d7</td>\n",
       "      <td>Happy Valley Seafood Restaurant</td>\n",
       "      <td>None</td>\n",
       "      <td>None</td>\n",
       "      <td>Restaurants and Other Eating Places</td>\n",
       "      <td>Full-Service Restaurants</td>\n",
       "      <td>Chinese Food</td>\n",
       "      <td>...</td>\n",
       "      <td>9178.0</td>\n",
       "      <td>14.0</td>\n",
       "      <td>{\"&lt;5\":10,\"5-10\":23,\"11-20\":11,\"21-60\":18,\"61-1...</td>\n",
       "      <td>{}</td>\n",
       "      <td>{\"CVS\":57,\"Target\":49,\"7-Eleven\":35,\"Walmart\":...</td>\n",
       "      <td>[1,1,0,1,0,0,2,8,6,7,10,13,15,13,9,11,7,3,0,1,...</td>\n",
       "      <td>{\"Monday\":13,\"Tuesday\":9,\"Wednesday\":11,\"Thurs...</td>\n",
       "      <td>{\"android\":21,\"ios\":24}</td>\n",
       "      <td>1.500102e+11</td>\n",
       "      <td>{\"150010210131\":4,\"150010207012\":4,\"1500102050...</td>\n",
       "    </tr>\n",
       "    <tr>\n",
       "      <th>3422</th>\n",
       "      <td>226-222@bp4-jct-zpv</td>\n",
       "      <td>sg:f6130790a4c7440592d15fe1a58888a6</td>\n",
       "      <td>None</td>\n",
       "      <td>None</td>\n",
       "      <td>Two Ladies Kitchen</td>\n",
       "      <td>None</td>\n",
       "      <td>None</td>\n",
       "      <td>Bakeries and Tortilla Manufacturing</td>\n",
       "      <td>Retail Bakeries</td>\n",
       "      <td>Dessert,Bakery</td>\n",
       "      <td>...</td>\n",
       "      <td>NaN</td>\n",
       "      <td>NaN</td>\n",
       "      <td>None</td>\n",
       "      <td>None</td>\n",
       "      <td>None</td>\n",
       "      <td>None</td>\n",
       "      <td>None</td>\n",
       "      <td>None</td>\n",
       "      <td>NaN</td>\n",
       "      <td>None</td>\n",
       "    </tr>\n",
       "    <tr>\n",
       "      <th>4179</th>\n",
       "      <td>zzy-222@bp4-jcw-xkf</td>\n",
       "      <td>sg:2dc8ca526096494b8694c5ba704704f1</td>\n",
       "      <td>zzw-222@bp4-jfh-47q</td>\n",
       "      <td>sg:5bcbf8781047448ab852bfc69c5c515e</td>\n",
       "      <td>Wailoa River State Recreation Area</td>\n",
       "      <td>None</td>\n",
       "      <td>None</td>\n",
       "      <td>Museums, Historical Sites, and Similar Institu...</td>\n",
       "      <td>Nature Parks and Other Similar Institutions</td>\n",
       "      <td>None</td>\n",
       "      <td>...</td>\n",
       "      <td>4596.0</td>\n",
       "      <td>47.0</td>\n",
       "      <td>{\"&lt;5\":0,\"5-10\":5,\"11-20\":15,\"21-60\":13,\"61-120...</td>\n",
       "      <td>{\"Panda Express\":50,\"Target\":48}</td>\n",
       "      <td>{\"CVS\":51,\"Target\":49,\"Walmart\":44,\"Minit Stop...</td>\n",
       "      <td>[0,1,0,0,0,0,0,13,17,12,18,14,6,4,12,12,8,1,1,...</td>\n",
       "      <td>{\"Monday\":6,\"Tuesday\":6,\"Wednesday\":14,\"Thursd...</td>\n",
       "      <td>{\"android\":5,\"ios\":5}</td>\n",
       "      <td>1.500102e+11</td>\n",
       "      <td>{\"150010211064\":4,\"150010205003\":4}</td>\n",
       "    </tr>\n",
       "    <tr>\n",
       "      <th>9436</th>\n",
       "      <td>zzw-223@bp4-jcv-2ff</td>\n",
       "      <td>sg:9ce49fae5cba4828990d087fb1eaaf75</td>\n",
       "      <td>None</td>\n",
       "      <td>None</td>\n",
       "      <td>Hawaii Probation Office</td>\n",
       "      <td>None</td>\n",
       "      <td>None</td>\n",
       "      <td>Justice, Public Order, and Safety Activities</td>\n",
       "      <td>Courts</td>\n",
       "      <td>None</td>\n",
       "      <td>...</td>\n",
       "      <td>8829.0</td>\n",
       "      <td>63.5</td>\n",
       "      <td>{\"&lt;5\":4,\"5-10\":41,\"11-20\":20,\"21-60\":34,\"61-12...</td>\n",
       "      <td>{\"7-Eleven\":19,\"76\":17,\"Starbucks\":11,\"Walmart...</td>\n",
       "      <td>{\"CVS\":52,\"Walmart\":36,\"Burger King\":35,\"The H...</td>\n",
       "      <td>[0,0,0,0,0,0,21,64,60,67,62,67,59,45,37,33,30,...</td>\n",
       "      <td>{\"Monday\":42,\"Tuesday\":35,\"Wednesday\":56,\"Thur...</td>\n",
       "      <td>{\"android\":24,\"ios\":31}</td>\n",
       "      <td>1.500102e+11</td>\n",
       "      <td>{\"150010205005\":5,\"150010204003\":4,\"1500102170...</td>\n",
       "    </tr>\n",
       "  </tbody>\n",
       "</table>\n",
       "<p>5 rows × 41 columns</p>\n",
       "</div>"
      ],
      "text/plain": [
       "                 placekey                   safegraph_place_id  \\\n",
       "2353  zzw-223@bp4-jct-t5f  sg:a6abadf575c64c7aa2957973c322c258   \n",
       "3153  22d-222@bp4-jct-f75  sg:e170329441704027b328f7603705729f   \n",
       "3422  226-222@bp4-jct-zpv  sg:f6130790a4c7440592d15fe1a58888a6   \n",
       "4179  zzy-222@bp4-jcw-xkf  sg:2dc8ca526096494b8694c5ba704704f1   \n",
       "9436  zzw-223@bp4-jcv-2ff  sg:9ce49fae5cba4828990d087fb1eaaf75   \n",
       "\n",
       "          parent_placekey            parent_safegraph_place_id  \\\n",
       "2353                 None                                 None   \n",
       "3153  228-222@bp4-jct-hkf  sg:d4f8d56cb61345e6b33a5a1382a503d7   \n",
       "3422                 None                                 None   \n",
       "4179  zzw-222@bp4-jfh-47q  sg:5bcbf8781047448ab852bfc69c5c515e   \n",
       "9436                 None                                 None   \n",
       "\n",
       "                           location_name  \\\n",
       "2353                                YMCA   \n",
       "3153     Happy Valley Seafood Restaurant   \n",
       "3422                  Two Ladies Kitchen   \n",
       "4179  Wailoa River State Recreation Area   \n",
       "9436             Hawaii Probation Office   \n",
       "\n",
       "                            safegraph_brand_ids brands  \\\n",
       "2353  SG_BRAND_8c40d09d7a855232f6ae8762ffd5966a   YMCA   \n",
       "3153                                       None   None   \n",
       "3422                                       None   None   \n",
       "4179                                       None   None   \n",
       "9436                                       None   None   \n",
       "\n",
       "                                           top_category  \\\n",
       "2353                     Individual and Family Services   \n",
       "3153                Restaurants and Other Eating Places   \n",
       "3422                Bakeries and Tortilla Manufacturing   \n",
       "4179  Museums, Historical Sites, and Similar Institu...   \n",
       "9436       Justice, Public Order, and Safety Activities   \n",
       "\n",
       "                                     sub_category   category_tags  ...  \\\n",
       "2353         Other Individual and Family Services            None  ...   \n",
       "3153                     Full-Service Restaurants    Chinese Food  ...   \n",
       "3422                              Retail Bakeries  Dessert,Bakery  ...   \n",
       "4179  Nature Parks and Other Similar Institutions            None  ...   \n",
       "9436                                       Courts            None  ...   \n",
       "\n",
       "      distance_from_home  median_dwell  \\\n",
       "2353                 NaN           NaN   \n",
       "3153              9178.0          14.0   \n",
       "3422                 NaN           NaN   \n",
       "4179              4596.0          47.0   \n",
       "9436              8829.0          63.5   \n",
       "\n",
       "                                   bucketed_dwell_times  \\\n",
       "2353                                               None   \n",
       "3153  {\"<5\":10,\"5-10\":23,\"11-20\":11,\"21-60\":18,\"61-1...   \n",
       "3422                                               None   \n",
       "4179  {\"<5\":0,\"5-10\":5,\"11-20\":15,\"21-60\":13,\"61-120...   \n",
       "9436  {\"<5\":4,\"5-10\":41,\"11-20\":20,\"21-60\":34,\"61-12...   \n",
       "\n",
       "                                 related_same_day_brand  \\\n",
       "2353                                               None   \n",
       "3153                                                 {}   \n",
       "3422                                               None   \n",
       "4179                   {\"Panda Express\":50,\"Target\":48}   \n",
       "9436  {\"7-Eleven\":19,\"76\":17,\"Starbucks\":11,\"Walmart...   \n",
       "\n",
       "                               related_same_month_brand  \\\n",
       "2353                                               None   \n",
       "3153  {\"CVS\":57,\"Target\":49,\"7-Eleven\":35,\"Walmart\":...   \n",
       "3422                                               None   \n",
       "4179  {\"CVS\":51,\"Target\":49,\"Walmart\":44,\"Minit Stop...   \n",
       "9436  {\"CVS\":52,\"Walmart\":36,\"Burger King\":35,\"The H...   \n",
       "\n",
       "                                     popularity_by_hour  \\\n",
       "2353                                               None   \n",
       "3153  [1,1,0,1,0,0,2,8,6,7,10,13,15,13,9,11,7,3,0,1,...   \n",
       "3422                                               None   \n",
       "4179  [0,1,0,0,0,0,0,13,17,12,18,14,6,4,12,12,8,1,1,...   \n",
       "9436  [0,0,0,0,0,0,21,64,60,67,62,67,59,45,37,33,30,...   \n",
       "\n",
       "                                      popularity_by_day  \\\n",
       "2353                                               None   \n",
       "3153  {\"Monday\":13,\"Tuesday\":9,\"Wednesday\":11,\"Thurs...   \n",
       "3422                                               None   \n",
       "4179  {\"Monday\":6,\"Tuesday\":6,\"Wednesday\":14,\"Thursd...   \n",
       "9436  {\"Monday\":42,\"Tuesday\":35,\"Wednesday\":56,\"Thur...   \n",
       "\n",
       "                  device_type       poi_cbg  \\\n",
       "2353                     None           NaN   \n",
       "3153  {\"android\":21,\"ios\":24}  1.500102e+11   \n",
       "3422                     None           NaN   \n",
       "4179    {\"android\":5,\"ios\":5}  1.500102e+11   \n",
       "9436  {\"android\":24,\"ios\":31}  1.500102e+11   \n",
       "\n",
       "                                   visitor_daytime_cbgs  \n",
       "2353                                               None  \n",
       "3153  {\"150010210131\":4,\"150010207012\":4,\"1500102050...  \n",
       "3422                                               None  \n",
       "4179                {\"150010211064\":4,\"150010205003\":4}  \n",
       "9436  {\"150010205005\":5,\"150010204003\":4,\"1500102170...  \n",
       "\n",
       "[5 rows x 41 columns]"
      ]
     },
     "execution_count": 13,
     "metadata": {},
     "output_type": "execute_result"
    }
   ],
   "source": [
    "df.head()"
   ]
  },
  {
   "cell_type": "code",
   "execution_count": 16,
   "metadata": {},
   "outputs": [
    {
     "name": "stdout",
     "output_type": "stream",
     "text": [
      "                       safegraph_place_id  \\\n",
      "0     sg:003c91fcb4b94ac388c2591f3c2447e0   \n",
      "1     sg:003feb8df3804f93955c52b1b09a819f   \n",
      "2     sg:004bbb2a0079462a935a0a0220e2b4b2   \n",
      "3     sg:00aea7e992024e468f1485a59ccbe4a6   \n",
      "4     sg:0107d7dfb69c48c69d9a5cef22303061   \n",
      "...                                   ...   \n",
      "1289  sg:fefdd677eac743fbacdc98cf9a4f84ac   \n",
      "1290  sg:ff1254a8fc5843da80a6c842d88f52f9   \n",
      "1291  sg:ff2d34072c114835aee3ee11b688c5c4   \n",
      "1292  sg:ff675c511ad246b7a55705bc7ea14bc9   \n",
      "1293  sg:ffd5f48fd0ce49449d2a74bee549105c   \n",
      "\n",
      "                             location_name   latitude   longitude  \\\n",
      "0                     Blue Hawaii Antiques  19.723642 -155.086409   \n",
      "1                King's Vietnamese Cuisine  19.722987 -155.085033   \n",
      "2                             Sunglass Hut  19.697561 -155.063257   \n",
      "3     Nate Gaddis Elite Pacific Properties  19.726001 -155.088203   \n",
      "4                 First Hawaiian Bank Hilo  19.711231 -155.076523   \n",
      "...                                    ...        ...         ...   \n",
      "1289          Kulani Correctional Facility  19.549075 -155.301759   \n",
      "1290                  Big Island Used Cars  19.711494 -155.071860   \n",
      "1291       Coca Cola Bottling Co of Hawaii  19.704428 -155.065868   \n",
      "1292               Waiakea Shell Food Mart  19.684296 -155.069458   \n",
      "1293                         Seoul Station  19.716918 -155.065475   \n",
      "\n",
      "      raw_visit_counts  \n",
      "0                379.0  \n",
      "1               7844.0  \n",
      "2                  0.0  \n",
      "3                  6.0  \n",
      "4                 32.0  \n",
      "...                ...  \n",
      "1289            1390.0  \n",
      "1290            8006.0  \n",
      "1291            3009.0  \n",
      "1292              22.0  \n",
      "1293             531.0  \n",
      "\n",
      "[1294 rows x 5 columns]\n"
     ]
    }
   ],
   "source": [
    "# group on place_id, location name, lat long \n",
    "# sum on visit counts\n",
    "grouped_df = df.groupby(['safegraph_place_id', 'location_name', 'latitude', 'longitude'], as_index=False)['raw_visit_counts'].sum()\n",
    "\n",
    "print(grouped_df)"
   ]
  },
  {
   "cell_type": "code",
   "execution_count": 18,
   "metadata": {},
   "outputs": [],
   "source": [
    "# Extract latitude and longitude columns\n",
    "valid_df = grouped_df[['latitude', 'longitude']].dropna()\n",
    "coordinates = [\n",
    "    WGS84Coordinate(lat=row['latitude'], lon=row['longitude'])\n",
    "    for _, row in valid_df.iterrows()\n",
    "]"
   ]
  },
  {
   "cell_type": "code",
   "execution_count": 19,
   "metadata": {},
   "outputs": [
    {
     "data": {
      "text/plain": [
       "1294"
      ]
     },
     "execution_count": 19,
     "metadata": {},
     "output_type": "execute_result"
    }
   ],
   "source": [
    "len(coordinates)"
   ]
  },
  {
   "cell_type": "code",
   "execution_count": 20,
   "metadata": {},
   "outputs": [],
   "source": [
    "# Create a walking routing profile\n",
    "walking_profile = MapboxRoutingProfile(name=MapboxRouteEnum.WALKING)\n",
    "\n",
    "# Initialize the Mapbox API client\n",
    "api_client = MapboxApiClient()"
   ]
  },
  {
   "cell_type": "code",
   "execution_count": 21,
   "metadata": {},
   "outputs": [
    {
     "name": "stderr",
     "output_type": "stream",
     "text": [
      "  0%|          | 0/1294 [00:00<?, ?it/s]"
     ]
    },
    {
     "name": "stderr",
     "output_type": "stream",
     "text": [
      "  2%|▏         | 32/1294 [40:24<26:33:24, 75.76s/it]\n"
     ]
    },
    {
     "ename": "KeyboardInterrupt",
     "evalue": "",
     "output_type": "error",
     "traceback": [
      "\u001b[0;31m---------------------------------------------------------------------------\u001b[0m",
      "\u001b[0;31mKeyboardInterrupt\u001b[0m                         Traceback (most recent call last)",
      "Cell \u001b[0;32mIn[21], line 2\u001b[0m\n\u001b[1;32m      1\u001b[0m \u001b[38;5;66;03m# Generate the distance matrix\u001b[39;00m\n\u001b[0;32m----> 2\u001b[0m distance_matrix \u001b[38;5;241m=\u001b[39m \u001b[43mapi_client\u001b[49m\u001b[38;5;241;43m.\u001b[39;49m\u001b[43mmake_distance_matrix\u001b[49m\u001b[43m(\u001b[49m\u001b[43mcoordinates\u001b[49m\u001b[43m,\u001b[49m\u001b[43m \u001b[49m\u001b[43mwalking_profile\u001b[49m\u001b[43m)\u001b[49m\n\u001b[1;32m      4\u001b[0m \u001b[38;5;66;03m# Convert the matrix to a DataFrame\u001b[39;00m\n\u001b[1;32m      5\u001b[0m distance_df \u001b[38;5;241m=\u001b[39m pd\u001b[38;5;241m.\u001b[39mDataFrame(distance_matrix, index\u001b[38;5;241m=\u001b[39mdf\u001b[38;5;241m.\u001b[39mindex, columns\u001b[38;5;241m=\u001b[39mdf\u001b[38;5;241m.\u001b[39mindex)\n",
      "File \u001b[0;32m~/2024-spring-perpetual/notebooks/utils/archive.py:137\u001b[0m, in \u001b[0;36mMapboxApiClient.make_distance_matrix\u001b[0;34m(self, coords, profile)\u001b[0m\n\u001b[1;32m    135\u001b[0m     distances \u001b[38;5;241m=\u001b[39m r\u001b[38;5;241m.\u001b[39mjson()[\u001b[38;5;124m\"\u001b[39m\u001b[38;5;124mdistances\u001b[39m\u001b[38;5;124m\"\u001b[39m][\u001b[38;5;241m0\u001b[39m]\n\u001b[1;32m    136\u001b[0m     row\u001b[38;5;241m.\u001b[39mextend(distances)\n\u001b[0;32m--> 137\u001b[0m     time\u001b[38;5;241m.\u001b[39msleep(seconds_delay)\n\u001b[1;32m    139\u001b[0m \u001b[38;5;66;03m# Append completed row to matrix\u001b[39;00m\n\u001b[1;32m    140\u001b[0m matrix\u001b[38;5;241m.\u001b[39mappend(row)\n",
      "\u001b[0;31mKeyboardInterrupt\u001b[0m: "
     ]
    }
   ],
   "source": [
    "# Generate the distance matrix\n",
    "distance_matrix = api_client.make_distance_matrix(coordinates, walking_profile)\n",
    "\n",
    "# Convert the matrix to a DataFrame\n",
    "distance_df = pd.DataFrame(distance_matrix, index=df.index, columns=df.index)\n",
    "\n",
    "print(distance_df)"
   ]
  },
  {
   "cell_type": "code",
   "execution_count": 25,
   "metadata": {},
   "outputs": [],
   "source": [
    "# Define a function to compute the weighted distance matrix\n",
    "\n",
    "def compute_weighted_distance_matrix(api_client: MapboxApiClient, coords: List[WGS84Coordinate], profile: MapboxRoutingProfile, visit_counts: List[int]) -> pd.DataFrame:\n",
    "    # Compute the distance matrix\n",
    "    raw_distance_matrix = api_client.make_distance_matrix(coords, profile)\n",
    "\n",
    "    # Convert to a numpy array \n",
    "    distance_matrix = np.array(raw_distance_matrix)\n",
    "    \n",
    "    # Normalize travel times\n",
    "    max_distance = distance_matrix.max()\n",
    "    normalized_matrix = distance_matrix / max_distance\n",
    "    \n",
    "    # Apply location weights\n",
    "    visit_counts_array = np.array(visit_counts)\n",
    "    location_weights = visit_counts_array / visit_counts_array.sum()\n",
    "    \n",
    "    # Create Weighted Distance Matrix\n",
    "    weighted_distance_matrix = normalized_matrix * location_weights[:, np.newaxis]\n",
    "    \n",
    "    # Convert back to a DataFrame\n",
    "    weighted_distance_df = pd.DataFrame(weighted_distance_matrix, index=range(len(coords)), columns=range(len(coords)))\n",
    "    \n",
    "    return weighted_distance_df"
   ]
  },
  {
   "cell_type": "code",
   "execution_count": 29,
   "metadata": {},
   "outputs": [
    {
     "name": "stderr",
     "output_type": "stream",
     "text": [
      "  0%|          | 0/31447 [00:00<?, ?it/s]\n"
     ]
    },
    {
     "ename": "RuntimeError",
     "evalue": "Error fetching distances from the Mapbox API. The server returned a \"422-Unknown\" status code with the text: \"{\"message\":\"Too many coordinates; maximum number of coordinates is 25.\",\"code\":\"InvalidInput\"}\".",
     "output_type": "error",
     "traceback": [
      "\u001b[0;31m---------------------------------------------------------------------------\u001b[0m",
      "\u001b[0;31mRuntimeError\u001b[0m                              Traceback (most recent call last)",
      "Cell \u001b[0;32mIn[29], line 13\u001b[0m\n\u001b[1;32m     10\u001b[0m walking_profile \u001b[38;5;241m=\u001b[39m MapboxRoutingProfile(name\u001b[38;5;241m=\u001b[39mMapboxRouteEnum\u001b[38;5;241m.\u001b[39mWALKING)\n\u001b[1;32m     11\u001b[0m api_client \u001b[38;5;241m=\u001b[39m MapboxApiClient()\n\u001b[0;32m---> 13\u001b[0m weighted_distance_df \u001b[38;5;241m=\u001b[39m \u001b[43mcompute_weighted_distance_matrix\u001b[49m\u001b[43m(\u001b[49m\u001b[43mapi_client\u001b[49m\u001b[43m,\u001b[49m\u001b[43m \u001b[49m\u001b[43mcoordinates\u001b[49m\u001b[43m,\u001b[49m\u001b[43m \u001b[49m\u001b[43mwalking_profile\u001b[49m\u001b[43m,\u001b[49m\u001b[43m \u001b[49m\u001b[43mvisit_counts\u001b[49m\u001b[43m)\u001b[49m\n",
      "Cell \u001b[0;32mIn[25], line 5\u001b[0m, in \u001b[0;36mcompute_weighted_distance_matrix\u001b[0;34m(api_client, coords, profile, visit_counts)\u001b[0m\n\u001b[1;32m      2\u001b[0m \u001b[38;5;28;01mdef\u001b[39;00m \u001b[38;5;21mcompute_weighted_distance_matrix\u001b[39m(api_client: MapboxApiClient, coords: List[WGS84Coordinate], profile: MapboxRoutingProfile, visit_counts: List[\u001b[38;5;28mint\u001b[39m]) \u001b[38;5;241m-\u001b[39m\u001b[38;5;241m>\u001b[39m pd\u001b[38;5;241m.\u001b[39mDataFrame:\n\u001b[1;32m      3\u001b[0m     \n\u001b[1;32m      4\u001b[0m     \u001b[38;5;66;03m# Compute the Distance Matrix\u001b[39;00m\n\u001b[0;32m----> 5\u001b[0m     raw_distance_matrix \u001b[38;5;241m=\u001b[39m \u001b[43mapi_client\u001b[49m\u001b[38;5;241;43m.\u001b[39;49m\u001b[43mmake_distance_matrix\u001b[49m\u001b[43m(\u001b[49m\u001b[43mcoords\u001b[49m\u001b[43m,\u001b[49m\u001b[43m \u001b[49m\u001b[43mprofile\u001b[49m\u001b[43m)\u001b[49m\n\u001b[1;32m      7\u001b[0m     \u001b[38;5;66;03m# Convert to a numpy array\u001b[39;00m\n\u001b[1;32m      8\u001b[0m     distance_matrix \u001b[38;5;241m=\u001b[39m np\u001b[38;5;241m.\u001b[39marray(raw_distance_matrix)\n",
      "File \u001b[0;32m~/2024-spring-perpetual/notebooks/utils/archive.py:128\u001b[0m, in \u001b[0;36mMapboxApiClient.make_distance_matrix\u001b[0;34m(self, coords, profile)\u001b[0m\n\u001b[1;32m    126\u001b[0m r \u001b[38;5;241m=\u001b[39m requests\u001b[38;5;241m.\u001b[39mget(url, params\u001b[38;5;241m=\u001b[39mparams)\n\u001b[1;32m    127\u001b[0m \u001b[38;5;28;01mif\u001b[39;00m \u001b[38;5;129;01mnot\u001b[39;00m r\u001b[38;5;241m.\u001b[39mok:\n\u001b[0;32m--> 128\u001b[0m     \u001b[38;5;28;01mraise\u001b[39;00m \u001b[38;5;167;01mRuntimeError\u001b[39;00m(\n\u001b[1;32m    129\u001b[0m         \u001b[38;5;124mf\u001b[39m\u001b[38;5;124m\"\u001b[39m\u001b[38;5;124mError fetching distances from the Mapbox API. \u001b[39m\u001b[38;5;124m\"\u001b[39m\n\u001b[1;32m    130\u001b[0m         \u001b[38;5;124mf\u001b[39m\u001b[38;5;124m'\u001b[39m\u001b[38;5;124mThe server returned a \u001b[39m\u001b[38;5;124m\"\u001b[39m\u001b[38;5;132;01m{\u001b[39;00mr\u001b[38;5;241m.\u001b[39mstatus_code\u001b[38;5;132;01m}\u001b[39;00m\u001b[38;5;124m-\u001b[39m\u001b[38;5;132;01m{\u001b[39;00mr\u001b[38;5;241m.\u001b[39mreason\u001b[38;5;132;01m}\u001b[39;00m\u001b[38;5;124m\"\u001b[39m\u001b[38;5;124m \u001b[39m\u001b[38;5;124m'\u001b[39m\n\u001b[1;32m    131\u001b[0m         \u001b[38;5;124mf\u001b[39m\u001b[38;5;124m'\u001b[39m\u001b[38;5;124mstatus code with the text: \u001b[39m\u001b[38;5;124m\"\u001b[39m\u001b[38;5;132;01m{\u001b[39;00mr\u001b[38;5;241m.\u001b[39mtext\u001b[38;5;132;01m}\u001b[39;00m\u001b[38;5;124m\"\u001b[39m\u001b[38;5;124m.\u001b[39m\u001b[38;5;124m'\u001b[39m\n\u001b[1;32m    132\u001b[0m     )\n\u001b[1;32m    134\u001b[0m \u001b[38;5;66;03m# Process the JSON response\u001b[39;00m\n\u001b[1;32m    135\u001b[0m distances \u001b[38;5;241m=\u001b[39m r\u001b[38;5;241m.\u001b[39mjson()[\u001b[38;5;124m\"\u001b[39m\u001b[38;5;124mdistances\u001b[39m\u001b[38;5;124m\"\u001b[39m][\u001b[38;5;241m0\u001b[39m]\n",
      "\u001b[0;31mRuntimeError\u001b[0m: Error fetching distances from the Mapbox API. The server returned a \"422-Unknown\" status code with the text: \"{\"message\":\"Too many coordinates; maximum number of coordinates is 25.\",\"code\":\"InvalidInput\"}\"."
     ]
    }
   ],
   "source": [
    "# Testing\n",
    "\n",
    "valid_df = df[['latitude', 'longitude', 'raw_visit_counts']].dropna()\n",
    "coordinates = [\n",
    "    WGS84Coordinate(lat=row['latitude'], lon=row['longitude'])\n",
    "    for _, row in valid_df.iterrows()\n",
    "]\n",
    "visit_counts = valid_df['raw_visit_counts'].tolist()\n",
    "\n",
    "walking_profile = MapboxRoutingProfile(name=MapboxRouteEnum.WALKING)\n",
    "api_client = MapboxApiClient()\n",
    "\n",
    "weighted_distance_df = compute_weighted_distance_matrix(api_client, coordinates, walking_profile, visit_counts)"
   ]
  },
  {
   "cell_type": "code",
   "execution_count": null,
   "metadata": {},
   "outputs": [],
   "source": [
    "# Call the solver"
   ]
  },
  {
   "cell_type": "code",
   "execution_count": null,
   "metadata": {},
   "outputs": [],
   "source": [
    "# Plot results on a folium map"
   ]
  }
 ],
 "metadata": {
  "kernelspec": {
   "display_name": "Python 3",
   "language": "python",
   "name": "python3"
  },
  "language_info": {
   "codemirror_mode": {
    "name": "ipython",
    "version": 3
   },
   "file_extension": ".py",
   "mimetype": "text/x-python",
   "name": "python",
   "nbconvert_exporter": "python",
   "pygments_lexer": "ipython3",
   "version": "3.11.6"
  }
 },
 "nbformat": 4,
 "nbformat_minor": 2
}
