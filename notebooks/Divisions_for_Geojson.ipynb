{
 "cells": [
  {
   "cell_type": "code",
   "execution_count": 5,
   "id": "d0e98cd0",
   "metadata": {},
   "outputs": [],
   "source": [
    "#from geopy.distance import distance\n",
    "\n",
    "#def calculate_circle_points(center, radius, num_points=10):\n",
    "#    circle_points = []\n",
    "#    for i in range(num_points):\n",
    "#        angle = i * (360 / num_points)\n",
    "#        point = distance(kilometers=radius).destination(center, angle)\n",
    "#        circle_points.append((point.longitude, point.latitude))\n",
    "#    return circle_points"
   ]
  },
  {
   "cell_type": "code",
   "execution_count": 2,
   "id": "16ed5ebd",
   "metadata": {},
   "outputs": [
    {
     "name": "stdout",
     "output_type": "stream",
     "text": [
      "Collecting geopy\n",
      "  Downloading geopy-2.4.1-py3-none-any.whl (125 kB)\n",
      "\u001b[K     |████████████████████████████████| 125 kB 2.3 MB/s eta 0:00:01\n",
      "\u001b[?25hCollecting geographiclib<3,>=1.52\n",
      "  Downloading geographiclib-2.0-py3-none-any.whl (40 kB)\n",
      "\u001b[K     |████████████████████████████████| 40 kB 5.3 MB/s eta 0:00:01\n",
      "\u001b[?25hInstalling collected packages: geographiclib, geopy\n",
      "Successfully installed geographiclib-2.0 geopy-2.4.1\n",
      "Note: you may need to restart the kernel to use updated packages.\n"
     ]
    }
   ],
   "source": [
    "#pip install geopy"
   ]
  },
  {
   "cell_type": "code",
   "execution_count": 8,
   "id": "7ba1dc71",
   "metadata": {},
   "outputs": [
    {
     "name": "stdout",
     "output_type": "stream",
     "text": [
      "Collecting shapely\n",
      "  Downloading shapely-2.0.2-cp39-cp39-macosx_10_9_x86_64.whl (1.4 MB)\n",
      "\u001b[K     |████████████████████████████████| 1.4 MB 1.8 MB/s eta 0:00:01\n",
      "\u001b[?25hRequirement already satisfied: numpy>=1.14 in /Users/lydialo/opt/anaconda3/lib/python3.9/site-packages (from shapely) (1.20.3)\n",
      "Installing collected packages: shapely\n",
      "Successfully installed shapely-2.0.2\n",
      "Note: you may need to restart the kernel to use updated packages.\n"
     ]
    }
   ],
   "source": [
    "# pip install shapely"
   ]
  },
  {
   "cell_type": "code",
   "execution_count": null,
   "id": "89245938",
   "metadata": {},
   "outputs": [],
   "source": [
    "from shapely.geometry import Point, Polygon\n",
    "import geopandas as gpd\n",
    "import json\n",
    "\n",
    "def divide_geojson(gdf, center, radius):\n",
    "    divisions = []\n",
    "\n",
    "    center_point = Point(center)\n",
    "    buffer_polygon = center_point.buffer(radius)\n",
    "\n",
    "    for idx, row in gdf.iterrows():\n",
    "        polygon = row['geometry']\n",
    "        intersection = polygon.intersection(buffer_polygon)\n",
    "\n",
    "        if not intersection.is_empty:\n",
    "            divisions.append({\n",
    "                \"type\": \"Feature\",\n",
    "                \"geometry\": {\n",
    "                    \"type\": \"Polygon\",\n",
    "                    \"coordinates\": [list(intersection.exterior.coords)]\n",
    "                },\n",
    "                \"properties\": {}\n",
    "            })\n",
    "\n",
    "    divided_geojson = {\n",
    "        \"type\": \"FeatureCollection\",\n",
    "        \"features\": divisions\n",
    "    }\n",
    "\n",
    "    return divided_geojson\n",
    "\n",
    "def main():\n",
    "    # Load the GeoJSON file using geopandas\n",
    "    geojson_file = '/Users/lydialo/Data Clinic Perpetual/2024-winter-perpetual/data/boundaries/hilo.geojson'\n",
    "    gdf = gpd.read_file(geojson_file)\n",
    "\n",
    "    # Define the center point and radius (adjust these values)\n",
    "    center_point = (-155.555413, 19.503474)\n",
    "    radius = 0.1  # Adjust the radius as needed\n",
    "\n",
    "    # Divide the GeoJSON into circular divisions\n",
    "    divided_geojson = divide_geojson(gdf, center_point, radius)\n",
    "\n",
    "    # Save the divided GeoJSON to a new file\n",
    "    with open('divided_geojson.geojson', 'w') as output_file:\n",
    "        json.dump(divided_geojson, output_file)\n",
    "\n",
    "if __name__ == \"__main__\":\n",
    "    main()"
   ]
  },
  {
   "cell_type": "code",
   "execution_count": 15,
   "id": "8a70e348",
   "metadata": {},
   "outputs": [
    {
     "data": {
      "image/png": "[encoded data removed]",
      "text/plain": [
       "<Figure size 432x288 with 1 Axes>"
      ]
     },
     "metadata": {
      "needs_background": "light"
     },
     "output_type": "display_data"
    }
   ],
   "source": [
    "# View of Initial Hilo geojson\n",
    "import geopandas as gpd\n",
    "import matplotlib.pyplot as plt\n",
    "\n",
    "# Load GeoJSON file\n",
    "geojson_file = '/Users/lydialo/Data Clinic Perpetual/2024-winter-perpetual/data/boundaries/hilo.geojson'\n",
    "gdf = gpd.read_file(geojson_file)\n",
    "\n",
    "# Plot the GeoDataFrame\n",
    "gdf.plot()\n",
    "plt.show()"
   ]
  },
  {
   "cell_type": "code",
   "execution_count": 32,
   "id": "aa787cec",
   "metadata": {},
   "outputs": [
    {
     "data": {
      "image/png": "[encoded data removed]",
      "text/plain": [
       "<Figure size 432x288 with 1 Axes>"
      ]
     },
     "metadata": {
      "needs_background": "light"
     },
     "output_type": "display_data"
    }
   ],
   "source": [
    "# View of Divided Hilo geojson\n",
    "import geopandas as gpd\n",
    "import matplotlib.pyplot as plt\n",
    "\n",
    "# Load GeoJSON file\n",
    "geojson_file = '/Users/lydialo/Data Clinic Perpetual/2024-winter-perpetual/notebooks/divided_geojson.geojson'\n",
    "gdf = gpd.read_file(geojson_file)\n",
    "\n",
    "# Plot the GeoDataFrame\n",
    "#gdf.plot()\n",
    "gdf.plot()\n",
    "plt.show()"
   ]
  },
  {
   "cell_type": "code",
   "execution_count": 23,
   "id": "d9a0ad96",
   "metadata": {},
   "outputs": [],
   "source": [
    "#pip install folium geopandas"
   ]
  },
  {
   "cell_type": "code",
   "execution_count": 33,
   "id": "746f3faa",
   "metadata": {},
   "outputs": [
    {
     "name": "stdout",
     "output_type": "stream",
     "text": [
      "                                            geometry\n",
      "0  POLYGON ((-155.46384 19.54326, -155.46477 19.5...\n"
     ]
    }
   ],
   "source": [
    "print(gdf.head())"
   ]
  },
  {
   "cell_type": "code",
   "execution_count": null,
   "id": "4f8805b4",
   "metadata": {},
   "outputs": [],
   "source": []
  },
  {
   "cell_type": "code",
   "execution_count": null,
   "id": "3f3fa25b",
   "metadata": {},
   "outputs": [],
   "source": []
  }
 ],
 "metadata": {
  "kernelspec": {
   "display_name": "Python 3 (ipykernel)",
   "language": "python",
   "name": "python3"
  },
  "language_info": {
   "codemirror_mode": {
    "name": "ipython",
    "version": 3
   },
   "file_extension": ".py",
   "mimetype": "text/x-python",
   "name": "python",
   "nbconvert_exporter": "python",
   "pygments_lexer": "ipython3",
   "version": "3.11.2"
  }
 },
 "nbformat": 4,
 "nbformat_minor": 5
}
