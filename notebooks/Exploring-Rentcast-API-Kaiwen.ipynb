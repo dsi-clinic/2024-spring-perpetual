{
 "cells": [
  {
   "cell_type": "markdown",
   "id": "d69b334a",
   "metadata": {},
   "source": [
    "In this Notebook, I try to analyze whether the RentCast APi will give us relevant information for residential buildings, specifically focusing on the roomCount. Previously, I explorered Zillow and Apartments.com in which the response doest not contain the relevant information."
   ]
  },
  {
   "cell_type": "code",
   "execution_count": null,
   "id": "bba01e31",
   "metadata": {},
   "outputs": [],
   "source": [
    "# Previous attempt to use zillow/ rapidAPI\n",
    "# import requests\n",
    "\n",
    "# url = \"https://zillow56.p.rapidapi.com/property\"\n",
    "\n",
    "# property_url =\"https://www.zillow.com/homedetails/10811-Termini-San-Luis-Pass-Rd-2112-Galveston-TX-77554/27695234_zpid/\"\n",
    "# querystring = {\"zpid\":None, \"url\":property_url}\n",
    "\n",
    "# headers = {\n",
    "# \t\"X-RapidAPI-Key\": \"f7bd5fa94cmshb5dade7505aa452p1a684ajsnc91121b96eb2\",\n",
    "# \t\"X-RapidAPI-Host\": \"zillow56.p.rapidapi.com\"\n",
    "    \n",
    "# }\n",
    "\n",
    "# response = requests.get(url, headers=headers, params=querystring)\n",
    "\n",
    "# print(response.json())"
   ]
  },
  {
   "cell_type": "markdown",
   "id": "cfb320d2",
   "metadata": {},
   "source": [
    "This is an example response using the RentCast API"
   ]
  },
  {
   "cell_type": "code",
   "execution_count": 132,
   "id": "a32a1b01",
   "metadata": {},
   "outputs": [],
   "source": [
    "# # Example Response\n",
    "# [\n",
    "#   {\n",
    "#     \"id\": \"5500-Grand-Lake-Dr,-San-Antonio,-TX-78244\",\n",
    "#     \"formattedAddress\": \"5500 Grand Lake Dr, San Antonio, TX 78244\",\n",
    "#     \"addressLine1\": \"5500 Grand Lake Dr\",\n",
    "#     \"addressLine2\": null,\n",
    "#     \"city\": \"San Antonio\",\n",
    "#     \"state\": \"TX\",\n",
    "#     \"zipCode\": \"78244\",\n",
    "#     \"county\": \"Bexar\",\n",
    "#     \"latitude\": 29.475962,\n",
    "#     \"longitude\": -98.351442,\n",
    "#     \"propertyType\": \"Single Family\",\n",
    "#     \"bedrooms\": 3,\n",
    "#     \"bathrooms\": 2,\n",
    "#     \"squareFootage\": 1878,\n",
    "#     \"lotSize\": 8843,\n",
    "#     \"yearBuilt\": 1973,\n",
    "#     \"assessorID\": \"05076-103-0500\",\n",
    "#     \"legalDescription\": \"CB 5076A BLK 3 LOT 50\",\n",
    "#     \"subdivision\": \"CONV A/S CODE\",\n",
    "#     \"zoning\": \"RH\",\n",
    "#     \"lastSaleDate\": \"2017-10-19T00:00:00.000Z\",\n",
    "#     \"lastSalePrice\": 185000,\n",
    "#     \"features\": {\n",
    "#       \"architectureType\": \"Contemporary\",\n",
    "#       \"cooling\": true,\n",
    "#       \"coolingType\": \"Central\",\n",
    "#       \"exteriorType\": \"Wood\",\n",
    "#       \"floorCount\": 1,\n",
    "#       \"foundationType\": \"Slab / Mat / Raft\",\n",
    "#       \"garage\": true,\n",
    "#       \"garageType\": \"Garage\",\n",
    "#       \"heating\": true,\n",
    "#       \"heatingType\": \"Forced Air\",\n",
    "#       \"pool\": true,\n",
    "#       \"roofType\": \"Asphalt\",\n",
    "#       \"roomCount\": 5,\n",
    "#       \"unitCount\": 1\n",
    "#     },\n",
    "#     \"taxAssessments\": {\n",
    "#       \"2019\": {\n",
    "#         \"value\": 135430,\n",
    "#         \"land\": 23450,\n",
    "#         \"improvements\": 111980\n",
    "#       },\n",
    "#       \"2020\": {\n",
    "#         \"value\": 142610,\n",
    "#         \"land\": 23450,\n",
    "#         \"improvements\": 119160\n",
    "#       },\n",
    "#       \"2021\": {\n",
    "#         \"value\": 163440,\n",
    "#         \"land\": 45050,\n",
    "#         \"improvements\": 118390\n",
    "#       },\n",
    "#       \"2022\": {\n",
    "#         \"value\": 197600,\n",
    "#         \"land\": 49560,\n",
    "#         \"improvements\": 148040\n",
    "#       },\n",
    "#       \"2023\": {\n",
    "#         \"value\": 225790,\n",
    "#         \"land\": 59380,\n",
    "#         \"improvements\": 166410\n",
    "#       }\n",
    "#     },\n",
    "#     \"propertyTaxes\": {\n",
    "#       \"2019\": {\n",
    "#         \"total\": 2984\n",
    "#       },\n",
    "#       \"2020\": {\n",
    "#         \"total\": 3023\n",
    "#       },\n",
    "#       \"2021\": {\n",
    "#         \"total\": 3455\n",
    "#       },\n",
    "#       \"2022\": {\n",
    "#         \"total\": 4091\n",
    "#       },\n",
    "#       \"2023\": {\n",
    "#         \"total\": 4675\n",
    "#       }\n",
    "#     },\n",
    "#     \"owner\": {\n",
    "#       \"names\": [\n",
    "#         \"Michael Smith\"\n",
    "#       ],\n",
    "#       \"mailingAddress\": {\n",
    "#         \"id\": \"149-Weaver-Blvd,---264,-Weaverville,-NC-28787\",\n",
    "#         \"formattedAddress\": \"149 Weaver Blvd, # 264, Weaverville, NC 28787\",\n",
    "#         \"addressLine1\": \"149 Weaver Blvd\",\n",
    "#         \"addressLine2\": \"# 264\",\n",
    "#         \"city\": \"Weaverville\",\n",
    "#         \"state\": \"NC\",\n",
    "#         \"zipCode\": \"28787\"\n",
    "#       }\n",
    "#     },\n",
    "#     \"ownerOccupied\": false\n",
    "#   }\n",
    "# ]"
   ]
  },
  {
   "cell_type": "markdown",
   "id": "7f008169",
   "metadata": {},
   "source": [
    "### I defined two functions to help me see the relevant information"
   ]
  },
  {
   "cell_type": "code",
   "execution_count": 188,
   "id": "572cb2fd",
   "metadata": {},
   "outputs": [],
   "source": [
    "def check_roomCounts(data):\n",
    "    \"\"\"\n",
    "    Prints the formatted address and room count for each property in the data list that contains a room count.\n",
    "    \n",
    "    Iterates through a list of property dictionaries, checks for the presence of a room count in the property's features,\n",
    "    and prints out the property's formatted address alongside the room count if it exists. Additionally, it counts\n",
    "    the number of properties that contain a room count.\n",
    "    \n",
    "    Parameters:\n",
    "    - data (list of dict): A list of dictionaries, where each dictionary represents a property and contains\n",
    "      a 'formattedAddress' key and a 'features' dictionary that may include a 'roomCount' key.\n",
    "    \n",
    "    Returns:\n",
    "    - int: The number of properties that contain a room count.\n",
    "    \"\"\"\n",
    "    count_contained = 0\n",
    "    for item in data:\n",
    "        formattedAddress = item.get('formattedAddress')\n",
    "        features = item.get('features',{})\n",
    "        roomCount = features.get('roomCount', None)\n",
    "        if roomCount is not None:\n",
    "            print(f\"Address: {formattedAddress}, Room Count: {roomCount}\")\n",
    "            count_contained += 1\n",
    "    return count_contained"
   ]
  },
  {
   "cell_type": "code",
   "execution_count": 296,
   "id": "4010d597",
   "metadata": {},
   "outputs": [],
   "source": [
    "def check_unitCounts(data):\n",
    "    \"\"\"\n",
    "    Prints the formatted address and unit count for each property in the data list that contains a unit count.\n",
    "    \n",
    "    Iterates through a list of property dictionaries, checks for the presence of a unit count in the property's features,\n",
    "    and prints out the property's formatted address alongside the unit count if it exists. Additionally, it counts\n",
    "    the number of properties that contain a unit count.\n",
    "    \n",
    "    Parameters:\n",
    "    - data (list of dict): A list of dictionaries, where each dictionary represents a property and contains\n",
    "      a 'formattedAddress' key and a 'features' dictionary that may include a 'unitCount' key.\n",
    "    \n",
    "    Returns:\n",
    "    - int: The number of properties that contain a unit count.\n",
    "    \"\"\"\n",
    "    count_contained = 0\n",
    "    for item in data:\n",
    "        formattedAddress = item.get('formattedAddress')\n",
    "        features = item.get('features',{})\n",
    "        unitCount = features.get('unitCount', None)\n",
    "        if unitCount is not None:\n",
    "            print(f\"Address: {formattedAddress}, Unit Count: {unitCount}\")\n",
    "            count_contained += 1\n",
    "    return count_contained"
   ]
  },
  {
   "cell_type": "code",
   "execution_count": 297,
   "id": "977fa439",
   "metadata": {},
   "outputs": [],
   "source": [
    "def check_features(data):\n",
    "    \"\"\"\n",
    "    Prints the features of each property in the data list that contains additional feature information.\n",
    "    \n",
    "    Iterates through a list of property dictionaries and prints the 'features' dictionary for each property,\n",
    "    if it exists. The 'features' dictionary is assumed to contain additional details about the property.\n",
    "    \n",
    "    Parameters:\n",
    "    - data (list of dict): A list of dictionaries, where each dictionary represents a property and\n",
    "      may contain a 'features' dictionary with additional property details.\n",
    "    \n",
    "    Returns:\n",
    "    - None\n",
    "    \"\"\"\n",
    "    for item in data:\n",
    "        features = item.get('features', {})  # Returns {} if 'features' is not found\n",
    "        if features:  # This will be False if features is {}\n",
    "            print(features)\n"
   ]
  },
  {
   "cell_type": "markdown",
   "id": "47409a45",
   "metadata": {},
   "source": [
    "### PART 1: Exploring the RentCast API by trying out different types of properties\n",
    "propertyType (string):\n",
    "The type of the property, used to search for properties matching this criteria. \n",
    "https://developers.rentcast.io/reference/property-types"
   ]
  },
  {
   "cell_type": "code",
   "execution_count": 77,
   "id": "72267fbb",
   "metadata": {},
   "outputs": [],
   "source": [
    "# For Apartments in Ann Arbor:\n",
    "import requests\n",
    "\n",
    "url_Ann_Apartments = \"https://api.rentcast.io/v1/properties?city=Ann%20Arbor&state=MI&propertyType=Apartment&limit=500&offset=0\"\n",
    "\n",
    "headers_Ann_Apartments = {\n",
    "    \"accept\": \"application/json\",\n",
    "    \"X-Api-Key\": \"889bfd9166f14faa853a08628f388dbb\"\n",
    "}\n",
    "\n",
    "response_Ann_Apartments = requests.get(url_Ann_Apartments, headers=headers_Ann_Apartments).json()"
   ]
  },
  {
   "cell_type": "code",
   "execution_count": 305,
   "id": "0b196dc6",
   "metadata": {},
   "outputs": [
    {
     "name": "stdout",
     "output_type": "stream",
     "text": [
      "Address: 437 2nd St, Ann Arbor, MI 48103, Room Count: 12\n"
     ]
    },
    {
     "data": {
      "text/plain": [
       "1"
      ]
     },
     "execution_count": 305,
     "metadata": {},
     "output_type": "execute_result"
    }
   ],
   "source": [
    "check_roomCounts(response_Ann_Apartments)\n",
    "\n",
    "#check_features(response_Ann_Apartments)"
   ]
  },
  {
   "cell_type": "code",
   "execution_count": 299,
   "id": "5966beb1",
   "metadata": {},
   "outputs": [
    {
     "name": "stdout",
     "output_type": "stream",
     "text": [
      "500\n"
     ]
    }
   ],
   "source": [
    "print(len(response_Ann_Apartments))\n",
    "# Since we are reaching the maximum number of properties of each API response(500)\n",
    "# We probably should use offset to call API multiple times to get all the property types"
   ]
  },
  {
   "cell_type": "code",
   "execution_count": 306,
   "id": "89b008f8",
   "metadata": {},
   "outputs": [
    {
     "name": "stdout",
     "output_type": "stream",
     "text": [
      "Address: 3823 N Dixboro Rd, Ann Arbor, MI 48105, Unit Count: 1\n",
      "Address: 437 2nd St, Ann Arbor, MI 48103, Unit Count: 1\n"
     ]
    },
    {
     "data": {
      "text/plain": [
       "2"
      ]
     },
     "execution_count": 306,
     "metadata": {},
     "output_type": "execute_result"
    }
   ],
   "source": [
    "check_unitCounts(response_Ann_Apartments)"
   ]
  },
  {
   "cell_type": "markdown",
   "id": "d097b9af",
   "metadata": {},
   "source": [
    "### Since each API response contains maximum 500 properties information, we need to utilize the setoff QUERY PARAM if we want to get a more complete dataset."
   ]
  },
  {
   "cell_type": "code",
   "execution_count": 59,
   "id": "114281e4",
   "metadata": {},
   "outputs": [],
   "source": [
    "# Apartment information for Savannah, GA\n",
    "\n",
    "import requests\n",
    "\n",
    "url_GA_Apa= \"https://api.rentcast.io/v1/properties?city=Savannah&state=GA&propertyType=Apartment&limit=500&offset=0\"\n",
    "\n",
    "headers_GA_Apa = {\n",
    "    \"accept\": \"application/json\",\n",
    "    \"X-Api-Key\": \"889bfd9166f14faa853a08628f388dbb\"\n",
    "}\n",
    "\n",
    "response_GA_Apa = requests.get(url_GA_Apa, headers=headers_GA_Apa).json()"
   ]
  },
  {
   "cell_type": "code",
   "execution_count": 303,
   "id": "9922b9f8",
   "metadata": {},
   "outputs": [
    {
     "name": "stdout",
     "output_type": "stream",
     "text": [
      "Address: 403 W 34th St, Savannah, GA 31401, Room Count: 6\n",
      "Address: 402 W 33rd St, Savannah, GA 31401, Room Count: 10\n",
      "Address: 1805 Martin Luther King Jr Blvd, Savannah, GA 31415, Room Count: 10\n",
      "Address: 606 E Park Avenue Ln, Savannah, GA 31401, Room Count: 16\n",
      "Address: 1302 E Victory Dr, Apt 1, Savannah, GA 31404, Room Count: 20\n",
      "Address: 2511 Price St, Apt 3, Savannah, GA 31401, Room Count: 20\n",
      "Address: 301 W Victory Dr, Savannah, GA 31405, Room Count: 4\n",
      "Address: 809 W 35th St, Savannah, GA 31415, Room Count: 20\n",
      "Address: 9844 Whitefield Ave, Savannah, GA 31406, Room Count: 4\n",
      "Address: 641 E Anderson St, Savannah, GA 31401, Room Count: 8\n",
      "Address: 1011 E 39th St, Savannah, GA 31401, Room Count: 6\n",
      "Address: 537 E 37th St, Savannah, GA 31401, Room Count: 7\n",
      "Address: 1403 E 51st St, Savannah, GA 31404, Room Count: 7\n",
      "Address: 511 W 37th St, Savannah, GA 31415, Room Count: 6\n",
      "Address: 9236 Garland Dr, Savannah, GA 31406, Room Count: 5\n"
     ]
    },
    {
     "data": {
      "text/plain": [
       "15"
      ]
     },
     "execution_count": 303,
     "metadata": {},
     "output_type": "execute_result"
    }
   ],
   "source": [
    "check_roomCounts(response_GA_Apa)\n",
    "#check_features(response_GA_Apa)"
   ]
  },
  {
   "cell_type": "code",
   "execution_count": 304,
   "id": "0389db18",
   "metadata": {},
   "outputs": [
    {
     "name": "stdout",
     "output_type": "stream",
     "text": [
      "Address: 73 Highlands Blvd, Savannah, GA 31407, Unit Count: 328\n",
      "Address: 2511 Price St, Apt 3, Savannah, GA 31401, Unit Count: 1\n",
      "Address: 9844 Whitefield Ave, Savannah, GA 31406, Unit Count: 1\n",
      "Address: 9852 Whitefield Ave, Savannah, GA 31406, Unit Count: 1\n",
      "Address: 9830 Whitefield Ave, Savannah, GA 31406, Unit Count: 1\n",
      "Address: 122 W Gwinnett St, Savannah, GA 31401, Unit Count: 1\n",
      "Address: 219 E Charlton St, Savannah, GA 31401, Unit Count: 1\n",
      "Address: 641 E Anderson St, Savannah, GA 31401, Unit Count: 1\n",
      "Address: 1011 E 39th St, Savannah, GA 31401, Unit Count: 1\n",
      "Address: 210 E State St, Apt 28, Savannah, GA 31401, Unit Count: 1\n",
      "Address: 537 E 37th St, Savannah, GA 31401, Unit Count: 1\n",
      "Address: 1403 E 51st St, Savannah, GA 31404, Unit Count: 1\n",
      "Address: 511 W 37th St, Savannah, GA 31415, Unit Count: 1\n",
      "Address: 9236 Garland Dr, Savannah, GA 31406, Unit Count: 1\n"
     ]
    },
    {
     "data": {
      "text/plain": [
       "14"
      ]
     },
     "execution_count": 304,
     "metadata": {},
     "output_type": "execute_result"
    }
   ],
   "source": [
    "check_unitCounts(response_GA_Apa)"
   ]
  },
  {
   "cell_type": "code",
   "execution_count": 204,
   "id": "71d37f94",
   "metadata": {},
   "outputs": [
    {
     "name": "stdout",
     "output_type": "stream",
     "text": [
      "500\n"
     ]
    }
   ],
   "source": [
    "print(len(response_GA_Apa))"
   ]
  },
  {
   "cell_type": "code",
   "execution_count": 65,
   "id": "a0456b67",
   "metadata": {},
   "outputs": [],
   "source": [
    "# Condo in Savannah, GA:\n",
    "import requests\n",
    "\n",
    "url_Savannah_condo = \"https://api.rentcast.io/v1/properties?city=Savannah&state=GA&propertyType=Condo&limit=500&offset=0\"\n",
    "\n",
    "headers_Savannah_condo = {\n",
    "    \"accept\": \"application/json\",\n",
    "    \"X-Api-Key\": \"889bfd9166f14faa853a08628f388dbb\"\n",
    "}\n",
    "\n",
    "response_Savannah_condo = requests.get(url_Savannah_condo, headers=headers_Savannah_condo).json()"
   ]
  },
  {
   "cell_type": "code",
   "execution_count": 308,
   "id": "0e5bc60d",
   "metadata": {},
   "outputs": [
    {
     "name": "stdout",
     "output_type": "stream",
     "text": [
      "Address: 211 W 60th St, Savannah, GA 31405, Room Count: 5\n"
     ]
    },
    {
     "data": {
      "text/plain": [
       "0"
      ]
     },
     "execution_count": 308,
     "metadata": {},
     "output_type": "execute_result"
    }
   ],
   "source": [
    "check_roomCounts(response_Savannah_condo)\n",
    "check_unitCounts(response_Savannah_condo)\n",
    "#check_features(response_Savannah_condo)"
   ]
  },
  {
   "cell_type": "code",
   "execution_count": 309,
   "id": "9830da4d",
   "metadata": {},
   "outputs": [],
   "source": [
    "# Apartment information for Hilo\n",
    "import requests\n",
    "\n",
    "url = \"https://api.rentcast.io/v1/properties?city=Hilo&state=HI&propertyType=Apartment&limit=500&offset=0\"\n",
    "\n",
    "headers = {\n",
    "    \"accept\": \"application/json\",\n",
    "    \"X-Api-Key\": \"889bfd9166f14faa853a08628f388dbb\"\n",
    "}\n",
    "\n",
    "response_adj = requests.get(url, headers=headers).json()\n",
    "# response_adj"
   ]
  },
  {
   "cell_type": "code",
   "execution_count": 310,
   "id": "db5247ac",
   "metadata": {},
   "outputs": [
    {
     "name": "stdout",
     "output_type": "stream",
     "text": [
      "Address: 234 Kapiolani St, Hilo, HI 96720, Room Count: 4\n",
      "Address: 310 Ululani St, Unit C, Hilo, HI 96720, Room Count: 5\n",
      "Address: 265 Kekuanaoa St, # D, Hilo, HI 96720, Room Count: 8\n",
      "Address: 237 Kaumana Dr, Hilo, HI 96720, Room Count: 5\n",
      "Address: 282 Kukuau St, Unit C, Hilo, HI 96720, Room Count: 24\n"
     ]
    },
    {
     "data": {
      "text/plain": [
       "5"
      ]
     },
     "execution_count": 310,
     "metadata": {},
     "output_type": "execute_result"
    }
   ],
   "source": [
    "check_roomCounts(response_adj)\n",
    "#check_features(response_adj)"
   ]
  },
  {
   "cell_type": "code",
   "execution_count": 311,
   "id": "67cded6c",
   "metadata": {},
   "outputs": [
    {
     "name": "stdout",
     "output_type": "stream",
     "text": [
      "Address: 55 Kukuau St, Hilo, HI 96720, Unit Count: 1\n",
      "Address: 552 Kinoole St, Hilo, HI 96720, Unit Count: 1\n",
      "Address: 302 Ululani St, Unit B, Hilo, HI 96720, Unit Count: 1\n",
      "Address: 98 Ponahawai St, Hilo, HI 96720, Unit Count: 1\n",
      "Address: 110 Ponahawai St, Hilo, HI 96720, Unit Count: 1\n",
      "Address: 929 Ululani St, Hilo, HI 96720, Unit Count: 1\n",
      "Address: 651 Ponahawai St, Hilo, HI 96720, Unit Count: 4\n",
      "Address: 101 Aupuni St, Ste 158, Hilo, HI 96720, Unit Count: 1\n",
      "Address: 101 Aupuni St, Ste 320, Hilo, HI 96720, Unit Count: 1\n",
      "Address: 199 Ululani St, Hilo, HI 96720, Unit Count: 2\n",
      "Address: 101 Aupuni St, Ste 311, Hilo, HI 96720, Unit Count: 1\n",
      "Address: 101 Aupuni St, Ste 243, Hilo, HI 96720, Unit Count: 1\n",
      "Address: 101 Aupuni St, Ste 102, Hilo, HI 96720, Unit Count: 1\n",
      "Address: 101 Aupuni St, Ste 103, Hilo, HI 96720, Unit Count: 1\n",
      "Address: 101 Aupuni St, Ste 111, Hilo, HI 96720, Unit Count: 1\n",
      "Address: 101 Aupuni St, Ste 246, Hilo, HI 96720, Unit Count: 1\n",
      "Address: 101 Aupuni St, Ste 116, Hilo, HI 96720, Unit Count: 1\n",
      "Address: 101 Aupuni St, Ste 213, Hilo, HI 96720, Unit Count: 1\n",
      "Address: 101 Aupuni St, Ste 165, Hilo, HI 96720, Unit Count: 1\n",
      "Address: 101 Aupuni St, Ste 140, Hilo, HI 96720, Unit Count: 1\n",
      "Address: 101 Aupuni St, Ste 114, Hilo, HI 96720, Unit Count: 1\n",
      "Address: 101 Aupuni St, Ste 212, Hilo, HI 96720, Unit Count: 1\n",
      "Address: 101 Aupuni St, Ste 227, Hilo, HI 96720, Unit Count: 1\n",
      "Address: 101 Aupuni St, Ste 238, Hilo, HI 96720, Unit Count: 1\n",
      "Address: 101 Aupuni St, Ste 245, Hilo, HI 96720, Unit Count: 1\n",
      "Address: 101 Aupuni St, Ste 118, Hilo, HI 96720, Unit Count: 1\n",
      "Address: 101 Aupuni St, Ste 250, Hilo, HI 96720, Unit Count: 1\n",
      "Address: 101 Aupuni St, Ste 247, Hilo, HI 96720, Unit Count: 1\n",
      "Address: 101 Aupuni St, Ste 248, Hilo, HI 96720, Unit Count: 1\n",
      "Address: 101 Aupuni St, Ste 237, Hilo, HI 96720, Unit Count: 1\n",
      "Address: 101 Aupuni St, Ste 240, Hilo, HI 96720, Unit Count: 1\n",
      "Address: 101 Aupuni St, Ste 104, Hilo, HI 96720, Unit Count: 1\n",
      "Address: 101 Aupuni St, Ste 112, Hilo, HI 96720, Unit Count: 1\n",
      "Address: 101 Aupuni St, Ste 123, Hilo, HI 96720, Unit Count: 1\n",
      "Address: 101 Aupuni St, Ste 115, Hilo, HI 96720, Unit Count: 1\n",
      "Address: 101 Aupuni St, Ste 204, Hilo, HI 96720, Unit Count: 1\n",
      "Address: 101 Aupuni St, Ste 241, Hilo, HI 96720, Unit Count: 1\n",
      "Address: 101 Aupuni St, Ste 164, Hilo, HI 96720, Unit Count: 1\n",
      "Address: 101 Aupuni St, Ste 225, Hilo, HI 96720, Unit Count: 1\n",
      "Address: 101 Aupuni St, Ste 210, Hilo, HI 96720, Unit Count: 1\n",
      "Address: 101 Aupuni St, Ste 125, Hilo, HI 96720, Unit Count: 1\n",
      "Address: 101 Aupuni St, Ste 202, Hilo, HI 96720, Unit Count: 1\n",
      "Address: 101 Aupuni St, Ste 206, Hilo, HI 96720, Unit Count: 1\n",
      "Address: 101 Aupuni St, Ste 205, Hilo, HI 96720, Unit Count: 1\n",
      "Address: 101 Aupuni St, Ste 209, Hilo, HI 96720, Unit Count: 1\n",
      "Address: 101 Aupuni St, Ste 310, Hilo, HI 96720, Unit Count: 1\n",
      "Address: 101 Aupuni St, Ste 244, Hilo, HI 96720, Unit Count: 1\n",
      "Address: 101 Aupuni St, Ste 313, Hilo, HI 96720, Unit Count: 1\n",
      "Address: 310 Ululani St, Unit C, Hilo, HI 96720, Unit Count: 1\n",
      "Address: 237 Kaumana Dr, Hilo, HI 96720, Unit Count: 1\n"
     ]
    },
    {
     "data": {
      "text/plain": [
       "50"
      ]
     },
     "execution_count": 311,
     "metadata": {},
     "output_type": "execute_result"
    }
   ],
   "source": [
    "check_unitCounts(response_adj)"
   ]
  },
  {
   "cell_type": "code",
   "execution_count": 312,
   "id": "95281b73",
   "metadata": {},
   "outputs": [
    {
     "data": {
      "text/plain": [
       "101"
      ]
     },
     "execution_count": 312,
     "metadata": {},
     "output_type": "execute_result"
    }
   ],
   "source": [
    "len(response_adj)"
   ]
  },
  {
   "cell_type": "code",
   "execution_count": 50,
   "id": "09c3b041",
   "metadata": {},
   "outputs": [],
   "source": [
    "# Townhouses in Hilo:\n",
    "import requests\n",
    "\n",
    "url = \"https://api.rentcast.io/v1/properties?city=Hilo&state=HI&propertyType=Townhouse&limit=500&offset=0\"\n",
    "\n",
    "headers = {\n",
    "    \"accept\": \"application/json\",\n",
    "    \"X-Api-Key\": \"889bfd9166f14faa853a08628f388dbb\"\n",
    "}\n",
    "\n",
    "response_townhouse_HI = requests.get(url, headers=headers).json()"
   ]
  },
  {
   "cell_type": "code",
   "execution_count": 314,
   "id": "69076f7a",
   "metadata": {},
   "outputs": [
    {
     "data": {
      "text/plain": [
       "0"
      ]
     },
     "execution_count": 314,
     "metadata": {},
     "output_type": "execute_result"
    }
   ],
   "source": [
    "# For the townhouse category, we see that the feature column is empty.\n",
    "check_roomCounts(response_townhouse_HI)\n",
    "check_unitCounts(response_townhouse_HI)\n",
    "#check_features(response_townhouse_HI)"
   ]
  },
  {
   "cell_type": "code",
   "execution_count": 108,
   "id": "696cba24",
   "metadata": {},
   "outputs": [],
   "source": [
    "# Multi-family information for Ann Arbor, MI\n",
    "import requests\n",
    "\n",
    "url_Ann_Multi = \"https://api.rentcast.io/v1/properties?city=Ann%20Arbor&state=MI&propertyType=Multi-Family&limit=500&offset=0\"\n",
    "\n",
    "headers_Ann_Multi = {\n",
    "    \"accept\": \"application/json\",\n",
    "    \"X-Api-Key\": \"889bfd9166f14faa853a08628f388dbb\"\n",
    "}\n",
    "\n",
    "response_Ann_Multi = requests.get(url_Ann_Multi, headers=headers_Ann_Multi).json()\n"
   ]
  },
  {
   "cell_type": "code",
   "execution_count": 315,
   "id": "4ae2a004",
   "metadata": {},
   "outputs": [
    {
     "name": "stdout",
     "output_type": "stream",
     "text": [
      "Address: 426 3rd St, Ann Arbor, MI 48103, Room Count: 7\n",
      "Address: 2130 Tremmel Ave, Ann Arbor, MI 48104, Room Count: 4\n",
      "Address: 401 Pauline Blvd, Ann Arbor, MI 48103, Room Count: 6\n",
      "Address: 1619 Long Meadow Trl, Ann Arbor, MI 48108, Room Count: 4\n",
      "Address: 1686 Coburn Dr, Ann Arbor, MI 48108, Room Count: 4\n",
      "Address: 1632 Coburn Dr, Ann Arbor, MI 48108, Room Count: 4\n",
      "Address: 1707 Coburn Ct, Ann Arbor, MI 48108, Room Count: 4\n",
      "Address: 1714 Charlton Ave, Ann Arbor, MI 48103, Room Count: 8\n",
      "Address: 1443 Jewett St, Ann Arbor, MI 48104, Room Count: 8\n",
      "Address: 1705 Coburn Ct, Ann Arbor, MI 48108, Room Count: 4\n",
      "Address: 1608 Oakfield Dr, Ann Arbor, MI 48108, Room Count: 4\n",
      "Address: 1656 Coburn Dr, Ann Arbor, MI 48108, Room Count: 4\n",
      "Address: 1621 Long Meadow Trl, Ann Arbor, MI 48108, Room Count: 4\n",
      "Address: 1678 Weatherstone Dr, Ann Arbor, MI 48108, Room Count: 4\n",
      "Address: 1736 Weatherstone Dr, Ann Arbor, MI 48108, Room Count: 5\n",
      "Address: 1666 Coburn Dr, Ann Arbor, MI 48108, Room Count: 5\n",
      "Address: 1518 Long Meadow Trl, Ann Arbor, MI 48108, Room Count: 9\n"
     ]
    },
    {
     "data": {
      "text/plain": [
       "17"
      ]
     },
     "execution_count": 315,
     "metadata": {},
     "output_type": "execute_result"
    }
   ],
   "source": [
    "check_roomCounts(response_Ann_Multi)\n",
    "#check_features(response_Ann_Multi)"
   ]
  },
  {
   "cell_type": "code",
   "execution_count": 317,
   "id": "a2b9927f",
   "metadata": {},
   "outputs": [
    {
     "name": "stdout",
     "output_type": "stream",
     "text": [
      "Address: 1620 Long Meadow Trl, Ann Arbor, MI 48108, Unit Count: 1\n",
      "Address: 4194 Packard St, Apt 2, Ann Arbor, MI 48108, Unit Count: 1\n",
      "Address: 3460 Bent Trail Dr, Ann Arbor, MI 48108, Unit Count: 1\n",
      "Address: 3454 Bent Trail Dr, Ann Arbor, MI 48108, Unit Count: 1\n",
      "Address: 3612 Meadow Grove Trl, Ann Arbor, MI 48108, Unit Count: 1\n",
      "Address: 3524 Meadow Grove Trl, Ann Arbor, MI 48108, Unit Count: 1\n",
      "Address: 426 3rd St, Ann Arbor, MI 48103, Unit Count: 1\n",
      "Address: 2130 Tremmel Ave, Ann Arbor, MI 48104, Unit Count: 1\n",
      "Address: 4194 Packard St, Apt 5, Ann Arbor, MI 48108, Unit Count: 1\n",
      "Address: 4214 Packard St, Apt 6, Ann Arbor, MI 48108, Unit Count: 1\n",
      "Address: 4214 Packard St, Apt 3, Ann Arbor, MI 48108, Unit Count: 1\n",
      "Address: 4214 Packard St, Apt 4, Ann Arbor, MI 48108, Unit Count: 1\n",
      "Address: 4194 Packard St, Apt 4, Ann Arbor, MI 48108, Unit Count: 1\n",
      "Address: 4214 Packard St, Apt 2, Ann Arbor, MI 48108, Unit Count: 1\n",
      "Address: 4194 Packard St, Apt 6, Ann Arbor, MI 48108, Unit Count: 1\n",
      "Address: 4194 Packard St, Apt 1, Ann Arbor, MI 48108, Unit Count: 1\n",
      "Address: 401 Pauline Blvd, Ann Arbor, MI 48103, Unit Count: 1\n",
      "Address: 4200 Packard St, Apt 2, Ann Arbor, MI 48108, Unit Count: 1\n",
      "Address: 4198 Packard St, Apt 6, Ann Arbor, MI 48108, Unit Count: 1\n",
      "Address: 4190 Packard St, Apt 1, Ann Arbor, MI 48108, Unit Count: 1\n",
      "Address: 4210 Packard St, Apt 2, Ann Arbor, MI 48108, Unit Count: 1\n",
      "Address: 4218 Packard St, Apt 1, Ann Arbor, MI 48108, Unit Count: 1\n",
      "Address: 4200 Packard St, Apt 5, Ann Arbor, MI 48108, Unit Count: 1\n",
      "Address: 4198 Packard St, Apt 2, Ann Arbor, MI 48108, Unit Count: 1\n",
      "Address: 1747 Coburn Ct, Ann Arbor, MI 48108, Unit Count: 1\n",
      "Address: 1647 Coburn Dr, Ann Arbor, MI 48108, Unit Count: 1\n",
      "Address: 1712 Coburn Ct, Ann Arbor, MI 48108, Unit Count: 1\n",
      "Address: 1619 Long Meadow Trl, Ann Arbor, MI 48108, Unit Count: 1\n",
      "Address: 1733 Coburn Ct, Ann Arbor, MI 48108, Unit Count: 1\n",
      "Address: 1737 Coburn Ct, Ann Arbor, MI 48108, Unit Count: 1\n",
      "Address: 1686 Coburn Dr, Ann Arbor, MI 48108, Unit Count: 1\n",
      "Address: 1651 Coburn Dr, Ann Arbor, MI 48108, Unit Count: 1\n",
      "Address: 1660 Coburn Dr, Ann Arbor, MI 48108, Unit Count: 1\n",
      "Address: 1664 Coburn Dr, Ann Arbor, MI 48108, Unit Count: 1\n",
      "Address: 1601 Weatherstone Dr, Ann Arbor, MI 48108, Unit Count: 1\n",
      "Address: 1637 Coburn Dr, Ann Arbor, MI 48108, Unit Count: 1\n",
      "Address: 1722 Coburn Ct, Ann Arbor, MI 48108, Unit Count: 1\n",
      "Address: 1632 Coburn Dr, Ann Arbor, MI 48108, Unit Count: 1\n",
      "Address: 1694 Coburn Ct, Ann Arbor, MI 48108, Unit Count: 1\n",
      "Address: 1673 Coburn Dr, Ann Arbor, MI 48108, Unit Count: 1\n",
      "Address: 1707 Coburn Ct, Ann Arbor, MI 48108, Unit Count: 1\n",
      "Address: 4218 Packard St, Apt 6, Ann Arbor, MI 48108, Unit Count: 1\n",
      "Address: 4206 Packard St, Apt 5, Ann Arbor, MI 48108, Unit Count: 1\n",
      "Address: 4218 Packard St, Apt 4, Ann Arbor, MI 48108, Unit Count: 1\n",
      "Address: 4200 Packard St, Apt 3, Ann Arbor, MI 48108, Unit Count: 1\n",
      "Address: 4210 Packard St, Apt 6, Ann Arbor, MI 48108, Unit Count: 1\n",
      "Address: 4190 Packard St, Apt 4, Ann Arbor, MI 48108, Unit Count: 1\n",
      "Address: 4200 Packard St, Apt 4, Ann Arbor, MI 48108, Unit Count: 1\n",
      "Address: 4190 Packard St, Apt 2, Ann Arbor, MI 48108, Unit Count: 1\n",
      "Address: 4190 Packard St, Apt 3, Ann Arbor, MI 48108, Unit Count: 1\n",
      "Address: 4210 Packard St, Apt 1, Ann Arbor, MI 48108, Unit Count: 1\n",
      "Address: 4198 Packard St, Apt 5, Ann Arbor, MI 48108, Unit Count: 1\n",
      "Address: 4210 Packard St, Apt 5, Ann Arbor, MI 48108, Unit Count: 1\n",
      "Address: 4218 Packard St, Apt 2, Ann Arbor, MI 48108, Unit Count: 1\n",
      "Address: 4206 Packard St, Apt 6, Ann Arbor, MI 48108, Unit Count: 1\n",
      "Address: 4206 Packard St, Apt 3, Ann Arbor, MI 48108, Unit Count: 1\n",
      "Address: 4210 Packard St, Apt 3, Ann Arbor, MI 48108, Unit Count: 1\n",
      "Address: 4218 Packard St, Apt 5, Ann Arbor, MI 48108, Unit Count: 1\n",
      "Address: 4198 Packard St, Apt 1, Ann Arbor, MI 48108, Unit Count: 1\n",
      "Address: 4198 Packard St, Apt 4, Ann Arbor, MI 48108, Unit Count: 1\n",
      "Address: 4210 Packard St, Apt 4, Ann Arbor, MI 48108, Unit Count: 1\n",
      "Address: 1714 Charlton Ave, Ann Arbor, MI 48103, Unit Count: 1\n",
      "Address: 3144 Promenade Cir, Ann Arbor, MI 48108, Unit Count: 1\n",
      "Address: 3128 Promenade Cir, Ann Arbor, MI 48108, Unit Count: 1\n",
      "Address: 4275 Esplanade Ln, Ann Arbor, MI 48108, Unit Count: 1\n",
      "Address: 3109 Promenade Cir, Ann Arbor, MI 48108, Unit Count: 1\n",
      "Address: 4273 Esplanade Ln, Ann Arbor, MI 48108, Unit Count: 1\n",
      "Address: 3126 Promenade Cir, Ann Arbor, MI 48108, Unit Count: 1\n",
      "Address: 3124 Promenade Cir, Ann Arbor, MI 48108, Unit Count: 1\n",
      "Address: 3091 Promenade Cir, Ann Arbor, MI 48108, Unit Count: 1\n",
      "Address: 3122 Promenade Cir, Ann Arbor, MI 48108, Unit Count: 1\n",
      "Address: 3081 Promenade Cir, Ann Arbor, MI 48108, Unit Count: 1\n",
      "Address: 3162 Promenade Cir, Ann Arbor, MI 48108, Unit Count: 1\n",
      "Address: 4279 Esplanade Ln, Ann Arbor, MI 48108, Unit Count: 1\n",
      "Address: 3140 Promenade Cir, Ann Arbor, MI 48108, Unit Count: 1\n",
      "Address: 3113 Promenade Cir, Ann Arbor, MI 48108, Unit Count: 1\n",
      "Address: 3134 Promenade Cir, Ann Arbor, MI 48108, Unit Count: 1\n",
      "Address: 3115 Promenade Cir, Ann Arbor, MI 48108, Unit Count: 1\n",
      "Address: 3154 Promenade Cir, Ann Arbor, MI 48108, Unit Count: 1\n",
      "Address: 1443 Jewett St, Ann Arbor, MI 48104, Unit Count: 1\n",
      "Address: 1419 Heatherwood Ln, Ann Arbor, MI 48108, Unit Count: 1\n",
      "Address: 1419 Millbrook Trl, Ann Arbor, MI 48108, Unit Count: 1\n",
      "Address: 6301 Park Rd, Ann Arbor, MI 48103, Unit Count: 1\n",
      "Address: 1738 Weatherstone Dr, Ann Arbor, MI 48108, Unit Count: 1\n",
      "Address: 1365 Millbrook Trl, Ann Arbor, MI 48108, Unit Count: 1\n",
      "Address: 1301 Millbrook Trl, Ann Arbor, MI 48108, Unit Count: 1\n",
      "Address: 1755 Weatherstone Dr, Ann Arbor, MI 48108, Unit Count: 1\n",
      "Address: 1396 Heatherwood Ln, Ann Arbor, MI 48108, Unit Count: 1\n",
      "Address: 1298 Heatherwood Ln, Ann Arbor, MI 48108, Unit Count: 1\n",
      "Address: 1729 Coburn Ct, Ann Arbor, MI 48108, Unit Count: 1\n",
      "Address: 1380 Heatherwood Ln, Ann Arbor, MI 48108, Unit Count: 1\n",
      "Address: 1368 Heatherwood Ln, Ann Arbor, MI 48108, Unit Count: 1\n",
      "Address: 1334 Heatherwood Ln, Ann Arbor, MI 48108, Unit Count: 1\n",
      "Address: 1637 Weatherstone Dr, Ann Arbor, MI 48108, Unit Count: 1\n",
      "Address: 1544 Oakfield Dr, Ann Arbor, MI 48108, Unit Count: 1\n",
      "Address: 1388 Heatherwood Ln, Ann Arbor, MI 48108, Unit Count: 1\n",
      "Address: 1410 Fox Pointe Cir, Ann Arbor, MI 48108, Unit Count: 1\n",
      "Address: 1542 Oakfield Dr, Ann Arbor, MI 48108, Unit Count: 1\n",
      "Address: 1327 Millbrook Trl, Ann Arbor, MI 48108, Unit Count: 1\n",
      "Address: 1257 Heatherwood Ln, Ann Arbor, MI 48108, Unit Count: 1\n",
      "Address: 1642 Weatherstone Dr, Ann Arbor, MI 48108, Unit Count: 1\n",
      "Address: 1291 Heatherwood Ln, Ann Arbor, MI 48108, Unit Count: 1\n",
      "Address: 1700 Weatherstone Dr, Ann Arbor, MI 48108, Unit Count: 1\n",
      "Address: 1340 Heatherwood Ln, Ann Arbor, MI 48108, Unit Count: 1\n",
      "Address: 1575 Weatherstone Dr, Ann Arbor, MI 48108, Unit Count: 1\n",
      "Address: 1551 Oakfield Dr, Ann Arbor, MI 48108, Unit Count: 1\n",
      "Address: 1445 Heatherwood Ln, Ann Arbor, MI 48108, Unit Count: 1\n",
      "Address: 1399 Millbrook Trl, Ann Arbor, MI 48108, Unit Count: 1\n",
      "Address: 1364 Fox Pointe Cir, Ann Arbor, MI 48108, Unit Count: 1\n",
      "Address: 1623 Long Meadow Trl, Ann Arbor, MI 48108, Unit Count: 1\n",
      "Address: 1359 Fox Pointe Cir, Ann Arbor, MI 48108, Unit Count: 1\n",
      "Address: 1360 Heatherwood Ln, Ann Arbor, MI 48108, Unit Count: 1\n",
      "Address: 1705 Coburn Ct, Ann Arbor, MI 48108, Unit Count: 1\n",
      "Address: 1487 Fox Pointe Cir, Ann Arbor, MI 48108, Unit Count: 1\n",
      "Address: 1247 Heatherwood Ln, Ann Arbor, MI 48108, Unit Count: 1\n",
      "Address: 1559 Oakfield Dr, Ann Arbor, MI 48108, Unit Count: 1\n",
      "Address: 1474 Millbrook Trl, Ann Arbor, MI 48108, Unit Count: 1\n",
      "Address: 1327 Heatherwood Ln, Ann Arbor, MI 48108, Unit Count: 1\n",
      "Address: 1514 Oakfield Dr, Ann Arbor, MI 48108, Unit Count: 1\n",
      "Address: 1666 Weatherstone Dr, Ann Arbor, MI 48108, Unit Count: 1\n",
      "Address: 1448 Fox Pointe Cir, Ann Arbor, MI 48108, Unit Count: 1\n",
      "Address: 1362 Fox Pointe Cir, Ann Arbor, MI 48108, Unit Count: 1\n",
      "Address: 1361 Heatherwood Ln, Ann Arbor, MI 48108, Unit Count: 1\n",
      "Address: 1698 Coburn Ct, Ann Arbor, MI 48108, Unit Count: 1\n",
      "Address: 1296 Heatherwood Ln, Ann Arbor, MI 48108, Unit Count: 1\n",
      "Address: 1518 Oakfield Dr, Ann Arbor, MI 48108, Unit Count: 1\n",
      "Address: 1332 Heatherwood Ln, Ann Arbor, MI 48108, Unit Count: 1\n",
      "Address: 1531 Long Meadow Trl, Ann Arbor, MI 48108, Unit Count: 1\n",
      "Address: 1608 Oakfield Dr, Ann Arbor, MI 48108, Unit Count: 1\n",
      "Address: 1522 Oakfield Dr, Ann Arbor, MI 48108, Unit Count: 1\n",
      "Address: 1512 Long Meadow Trl, Ann Arbor, MI 48108, Unit Count: 1\n",
      "Address: 1263 Millbrook Trl, Ann Arbor, MI 48108, Unit Count: 1\n",
      "Address: 2094 Bent Trail Ct, Ann Arbor, MI 48108, Unit Count: 1\n",
      "Address: 1695 Weatherstone Dr, Ann Arbor, MI 48108, Unit Count: 1\n",
      "Address: 1726 Weatherstone Dr, Ann Arbor, MI 48108, Unit Count: 1\n",
      "Address: 1734 Weatherstone Dr, Ann Arbor, MI 48108, Unit Count: 1\n",
      "Address: 1675 Weatherstone Dr, Ann Arbor, MI 48108, Unit Count: 1\n",
      "Address: 1299 Millbrook Trl, Ann Arbor, MI 48108, Unit Count: 1\n",
      "Address: 1377 Millbrook Trl, Ann Arbor, MI 48108, Unit Count: 1\n",
      "Address: 1526 Oakfield Dr, Ann Arbor, MI 48108, Unit Count: 1\n",
      "Address: 1456 Millbrook Trl, Ann Arbor, MI 48108, Unit Count: 1\n",
      "Address: 1733 Weatherstone Dr, Ann Arbor, MI 48108, Unit Count: 1\n",
      "Address: 1676 Weatherstone Dr, Ann Arbor, MI 48108, Unit Count: 1\n",
      "Address: 1777 Weatherstone Dr, Ann Arbor, MI 48108, Unit Count: 1\n",
      "Address: 1432 Fox Pointe Cir, Ann Arbor, MI 48108, Unit Count: 1\n",
      "Address: 1409 Heatherwood Ln, Ann Arbor, MI 48108, Unit Count: 1\n",
      "Address: 1338 Heatherwood Ln, Ann Arbor, MI 48108, Unit Count: 1\n",
      "Address: 1370 Heatherwood Ln, Ann Arbor, MI 48108, Unit Count: 1\n",
      "Address: 1462 Millbrook Trl, Ann Arbor, MI 48108, Unit Count: 1\n",
      "Address: 1273 Millbrook Trl, Ann Arbor, MI 48108, Unit Count: 1\n",
      "Address: 1392 Heatherwood Ln, Ann Arbor, MI 48108, Unit Count: 1\n",
      "Address: 1413 Heatherwood Ln, Ann Arbor, MI 48108, Unit Count: 1\n",
      "Address: 1745 Coburn Ct, Ann Arbor, MI 48108, Unit Count: 1\n",
      "Address: 1326 Heatherwood Ln, Ann Arbor, MI 48108, Unit Count: 1\n",
      "Address: 1291 Millbrook Trl, Ann Arbor, MI 48108, Unit Count: 1\n",
      "Address: 1679 Coburn Dr, Ann Arbor, MI 48108, Unit Count: 1\n",
      "Address: 1428 Fox Pointe Cir, Ann Arbor, MI 48108, Unit Count: 1\n",
      "Address: 1444 Millbrook Trl, Ann Arbor, MI 48108, Unit Count: 1\n",
      "Address: 1440 Fox Pointe Cir, Ann Arbor, MI 48108, Unit Count: 1\n",
      "Address: 1639 Coburn Dr, Ann Arbor, MI 48108, Unit Count: 1\n",
      "Address: 1357 Fox Pointe Cir, Ann Arbor, MI 48108, Unit Count: 1\n",
      "Address: 1770 Weatherstone Dr, Ann Arbor, MI 48108, Unit Count: 1\n",
      "Address: 1374 Fox Pointe Cir, Ann Arbor, MI 48108, Unit Count: 1\n",
      "Address: 1356 Fox Pointe Cir, Ann Arbor, MI 48108, Unit Count: 1\n",
      "Address: 2075 Bent Trail Ct, Ann Arbor, MI 48108, Unit Count: 1\n",
      "Address: 1464 Millbrook Trl, Ann Arbor, MI 48108, Unit Count: 1\n",
      "Address: 1599 Weatherstone Dr, Ann Arbor, MI 48108, Unit Count: 1\n",
      "Address: 1491 Fox Pointe Cir, Ann Arbor, MI 48108, Unit Count: 1\n",
      "Address: 1450 Fox Pointe Cir, Ann Arbor, MI 48108, Unit Count: 1\n",
      "Address: 1669 Coburn Dr, Ann Arbor, MI 48108, Unit Count: 1\n",
      "Address: 1382 Fox Pointe Cir, Ann Arbor, MI 48108, Unit Count: 1\n",
      "Address: 1446 Millbrook Trl, Ann Arbor, MI 48108, Unit Count: 1\n",
      "Address: 1359 Heatherwood Ln, Ann Arbor, MI 48108, Unit Count: 1\n",
      "Address: 1763 Weatherstone Dr, Ann Arbor, MI 48108, Unit Count: 1\n",
      "Address: 1731 Coburn Ct, Ann Arbor, MI 48108, Unit Count: 1\n",
      "Address: 1377 Heatherwood Ln, Ann Arbor, MI 48108, Unit Count: 1\n",
      "Address: 1760 Weatherstone Dr, Ann Arbor, MI 48108, Unit Count: 1\n",
      "Address: 1349 Heatherwood Ln, Ann Arbor, MI 48108, Unit Count: 1\n",
      "Address: 1714 Coburn Ct, Ann Arbor, MI 48108, Unit Count: 1\n",
      "Address: 1753 Weatherstone Dr, Ann Arbor, MI 48108, Unit Count: 1\n",
      "Address: 2086 Bent Trail Ct, Ann Arbor, MI 48108, Unit Count: 1\n",
      "Address: 1719 Weatherstone Dr, Ann Arbor, MI 48108, Unit Count: 1\n",
      "Address: 2079 Bent Trail Ct, Ann Arbor, MI 48108, Unit Count: 1\n",
      "Address: 1485 Fox Pointe Cir, Ann Arbor, MI 48108, Unit Count: 1\n",
      "Address: 1644 Weatherstone Dr, Ann Arbor, MI 48108, Unit Count: 1\n",
      "Address: 2067 Bent Trail Ct, Ann Arbor, MI 48108, Unit Count: 1\n",
      "Address: 1691 Weatherstone Dr, Ann Arbor, MI 48108, Unit Count: 1\n",
      "Address: 1430 Fox Pointe Cir, Ann Arbor, MI 48108, Unit Count: 1\n",
      "Address: 2063 Bent Trail Ct, Ann Arbor, MI 48108, Unit Count: 1\n",
      "Address: 1668 Coburn Dr, Ann Arbor, MI 48108, Unit Count: 1\n",
      "Address: 2078 Bent Trail Ct, Ann Arbor, MI 48108, Unit Count: 1\n",
      "Address: 1671 Weatherstone Dr, Ann Arbor, MI 48108, Unit Count: 1\n",
      "Address: 1347 Heatherwood Ln, Ann Arbor, MI 48108, Unit Count: 1\n",
      "Address: 1381 Fox Pointe Cir, Ann Arbor, MI 48108, Unit Count: 1\n",
      "Address: 1640 Weatherstone Dr, Ann Arbor, MI 48108, Unit Count: 1\n",
      "Address: 1360 Fox Pointe Cir, Ann Arbor, MI 48108, Unit Count: 1\n",
      "Address: 1681 Coburn Dr, Ann Arbor, MI 48108, Unit Count: 1\n",
      "Address: 1645 Coburn Dr, Ann Arbor, MI 48108, Unit Count: 1\n",
      "Address: 1255 Heatherwood Ln, Ann Arbor, MI 48108, Unit Count: 1\n",
      "Address: 1389 Heatherwood Ln, Ann Arbor, MI 48108, Unit Count: 1\n",
      "Address: 1482 Fox Pointe Cir, Ann Arbor, MI 48108, Unit Count: 1\n",
      "Address: 1739 Coburn Ct, Ann Arbor, MI 48108, Unit Count: 1\n",
      "Address: 1454 Fox Pointe Cir, Ann Arbor, MI 48108, Unit Count: 1\n",
      "Address: 1636 Coburn Dr, Ann Arbor, MI 48108, Unit Count: 1\n",
      "Address: 1379 Fox Pointe Cir, Ann Arbor, MI 48108, Unit Count: 1\n",
      "Address: 1656 Coburn Dr, Ann Arbor, MI 48108, Unit Count: 1\n",
      "Address: 1630 Weatherstone Dr, Ann Arbor, MI 48108, Unit Count: 1\n",
      "Address: 1621 Long Meadow Trl, Ann Arbor, MI 48108, Unit Count: 1\n",
      "Address: 1764 Weatherstone Dr, Ann Arbor, MI 48108, Unit Count: 1\n",
      "Address: 1710 Weatherstone Dr, Ann Arbor, MI 48108, Unit Count: 1\n",
      "Address: 1426 Fox Pointe Cir, Ann Arbor, MI 48108, Unit Count: 1\n",
      "Address: 1287 Heatherwood Ln, Ann Arbor, MI 48108, Unit Count: 1\n",
      "Address: 2071 Bent Trail Ct, Ann Arbor, MI 48108, Unit Count: 1\n",
      "Address: 1716 Coburn Ct, Ann Arbor, MI 48108, Unit Count: 1\n",
      "Address: 1380 Fox Pointe Cir, Ann Arbor, MI 48108, Unit Count: 1\n",
      "Address: 2090 Bent Trail Ct, Ann Arbor, MI 48108, Unit Count: 1\n",
      "Address: 1373 Fox Pointe Cir, Ann Arbor, MI 48108, Unit Count: 1\n",
      "Address: 2110 Bent Trail Ct, Ann Arbor, MI 48108, Unit Count: 1\n",
      "Address: 1412 Fox Pointe Cir, Ann Arbor, MI 48108, Unit Count: 1\n",
      "Address: 2055 Bent Trail Ct, Ann Arbor, MI 48108, Unit Count: 1\n",
      "Address: 1434 Fox Pointe Cir, Ann Arbor, MI 48108, Unit Count: 1\n",
      "Address: 2062 Bent Trail Ct, Ann Arbor, MI 48108, Unit Count: 1\n",
      "Address: 1350 Fox Pointe Cir, Ann Arbor, MI 48108, Unit Count: 1\n",
      "Address: 1402 Fox Pointe Cir, Ann Arbor, MI 48108, Unit Count: 1\n",
      "Address: 1319 Heatherwood Ln, Ann Arbor, MI 48108, Unit Count: 1\n",
      "Address: 1704 Coburn Ct, Ann Arbor, MI 48108, Unit Count: 1\n",
      "Address: 2070 Bent Trail Ct, Ann Arbor, MI 48108, Unit Count: 1\n",
      "Address: 1696 Weatherstone Dr, Ann Arbor, MI 48108, Unit Count: 1\n",
      "Address: 1421 Heatherwood Ln, Ann Arbor, MI 48108, Unit Count: 1\n",
      "Address: 1723 Weatherstone Dr, Ann Arbor, MI 48108, Unit Count: 1\n",
      "Address: 1781 Weatherstone Dr, Ann Arbor, MI 48108, Unit Count: 1\n",
      "Address: 2083 Bent Trail Ct, Ann Arbor, MI 48108, Unit Count: 1\n",
      "Address: 1376 Fox Pointe Cir, Ann Arbor, MI 48108, Unit Count: 1\n",
      "Address: 1665 Weatherstone Dr, Ann Arbor, MI 48108, Unit Count: 1\n",
      "Address: 1333 Heatherwood Ln, Ann Arbor, MI 48108, Unit Count: 1\n",
      "Address: 1385 Fox Pointe Cir, Ann Arbor, MI 48108, Unit Count: 1\n",
      "Address: 1678 Weatherstone Dr, Ann Arbor, MI 48108, Unit Count: 1\n",
      "Address: 1460 Fox Pointe Cir, Ann Arbor, MI 48108, Unit Count: 1\n",
      "Address: 2114 Bent Trail Ct, Ann Arbor, MI 48108, Unit Count: 1\n",
      "Address: 1655 Coburn Dr, Ann Arbor, MI 48108, Unit Count: 1\n",
      "Address: 1462 Fox Pointe Cir, Ann Arbor, MI 48108, Unit Count: 1\n",
      "Address: 1443 Heatherwood Ln, Ann Arbor, MI 48108, Unit Count: 1\n",
      "Address: 1375 Heatherwood Ln, Ann Arbor, MI 48108, Unit Count: 1\n",
      "Address: 1730 Weatherstone Dr, Ann Arbor, MI 48108, Unit Count: 1\n",
      "Address: 1414 Fox Pointe Cir, Ann Arbor, MI 48108, Unit Count: 1\n",
      "Address: 1488 Fox Pointe Cir, Ann Arbor, MI 48108, Unit Count: 1\n",
      "Address: 1706 Coburn Ct, Ann Arbor, MI 48108, Unit Count: 1\n",
      "Address: 2106 Bent Trail Ct, Ann Arbor, MI 48108, Unit Count: 1\n",
      "Address: 1645 Weatherstone Dr, Ann Arbor, MI 48108, Unit Count: 1\n",
      "Address: 1400 Fox Pointe Cir, Ann Arbor, MI 48108, Unit Count: 1\n",
      "Address: 1408 Fox Pointe Cir, Ann Arbor, MI 48108, Unit Count: 1\n",
      "Address: 1387 Fox Pointe Cir, Ann Arbor, MI 48108, Unit Count: 1\n",
      "Address: 1243 Heatherwood Ln, Ann Arbor, MI 48108, Unit Count: 1\n",
      "Address: 1718 Coburn Ct, Ann Arbor, MI 48108, Unit Count: 1\n",
      "Address: 1370 Fox Pointe Cir, Ann Arbor, MI 48108, Unit Count: 1\n",
      "Address: 1664 Weatherstone Dr, Ann Arbor, MI 48108, Unit Count: 1\n",
      "Address: 1446 Fox Pointe Cir, Ann Arbor, MI 48108, Unit Count: 1\n",
      "Address: 2102 Bent Trail Ct, Ann Arbor, MI 48108, Unit Count: 1\n",
      "Address: 1490 Fox Pointe Cir, Ann Arbor, MI 48108, Unit Count: 1\n",
      "Address: 1774 Weatherstone Dr, Ann Arbor, MI 48108, Unit Count: 1\n",
      "Address: 1361 Fox Pointe Cir, Ann Arbor, MI 48108, Unit Count: 1\n",
      "Address: 1302 Heatherwood Ln, Ann Arbor, MI 48108, Unit Count: 1\n",
      "Address: 1468 Fox Pointe Cir, Ann Arbor, MI 48108, Unit Count: 1\n",
      "Address: 1297 Heatherwood Ln, Ann Arbor, MI 48108, Unit Count: 1\n",
      "Address: 1641 Weatherstone Dr, Ann Arbor, MI 48108, Unit Count: 1\n",
      "Address: 1457 Heatherwood Ln, Ann Arbor, MI 48108, Unit Count: 1\n",
      "Address: 1387 Heatherwood Ln, Ann Arbor, MI 48108, Unit Count: 1\n",
      "Address: 1442 Fox Pointe Cir, Ann Arbor, MI 48108, Unit Count: 1\n",
      "Address: 1593 Weatherstone Dr, Ann Arbor, MI 48108, Unit Count: 1\n",
      "Address: 1674 Weatherstone Dr, Ann Arbor, MI 48108, Unit Count: 1\n",
      "Address: 1743 Coburn Ct, Ann Arbor, MI 48108, Unit Count: 1\n",
      "Address: 1727 Coburn Ct, Ann Arbor, MI 48108, Unit Count: 1\n",
      "Address: 1372 Fox Pointe Cir, Ann Arbor, MI 48108, Unit Count: 1\n",
      "Address: 1495 Fox Pointe Cir, Ann Arbor, MI 48108, Unit Count: 1\n",
      "Address: 1483 Fox Pointe Cir, Ann Arbor, MI 48108, Unit Count: 1\n",
      "Address: 2098 Bent Trail Ct, Ann Arbor, MI 48108, Unit Count: 1\n",
      "Address: 1787 Weatherstone Dr, Ann Arbor, MI 48108, Unit Count: 1\n",
      "Address: 1464 Fox Pointe Cir, Ann Arbor, MI 48108, Unit Count: 1\n",
      "Address: 1668 Weatherstone Dr, Ann Arbor, MI 48108, Unit Count: 1\n",
      "Address: 1377 Fox Pointe Cir, Ann Arbor, MI 48108, Unit Count: 1\n",
      "Address: 1729 Weatherstone Dr, Ann Arbor, MI 48108, Unit Count: 1\n",
      "Address: 1480 Fox Pointe Cir, Ann Arbor, MI 48108, Unit Count: 1\n",
      "Address: 1375 Fox Pointe Cir, Ann Arbor, MI 48108, Unit Count: 1\n",
      "Address: 1472 Fox Pointe Cir, Ann Arbor, MI 48108, Unit Count: 1\n",
      "Address: 1703 Weatherstone Dr, Ann Arbor, MI 48108, Unit Count: 1\n",
      "Address: 1384 Fox Pointe Cir, Ann Arbor, MI 48108, Unit Count: 1\n",
      "Address: 1591 Weatherstone Dr, Ann Arbor, MI 48108, Unit Count: 1\n",
      "Address: 1352 Fox Pointe Cir, Ann Arbor, MI 48108, Unit Count: 1\n",
      "Address: 1300 Heatherwood Ln, Ann Arbor, MI 48108, Unit Count: 1\n",
      "Address: 1736 Weatherstone Dr, Ann Arbor, MI 48108, Unit Count: 1\n",
      "Address: 2054 Bent Trail Ct, Ann Arbor, MI 48108, Unit Count: 1\n",
      "Address: 1661 Weatherstone Dr, Ann Arbor, MI 48108, Unit Count: 1\n",
      "Address: 1476 Millbrook Trl, Ann Arbor, MI 48108, Unit Count: 1\n",
      "Address: 1261 Millbrook Trl, Ann Arbor, MI 48108, Unit Count: 1\n",
      "Address: 1631 Weatherstone Dr, Ann Arbor, MI 48108, Unit Count: 1\n",
      "Address: 2058 Bent Trail Ct, Ann Arbor, MI 48108, Unit Count: 1\n",
      "Address: 1331 Heatherwood Ln, Ann Arbor, MI 48108, Unit Count: 1\n",
      "Address: 1474 Fox Pointe Cir, Ann Arbor, MI 48108, Unit Count: 1\n",
      "Address: 1444 Fox Pointe Cir, Ann Arbor, MI 48108, Unit Count: 1\n",
      "Address: 2082 Bent Trail Ct, Ann Arbor, MI 48108, Unit Count: 1\n",
      "Address: 1634 Weatherstone Dr, Ann Arbor, MI 48108, Unit Count: 1\n",
      "Address: 1641 Coburn Dr, Ann Arbor, MI 48108, Unit Count: 1\n",
      "Address: 1497 Fox Pointe Cir, Ann Arbor, MI 48108, Unit Count: 1\n",
      "Address: 1285 Heatherwood Ln, Ann Arbor, MI 48108, Unit Count: 1\n",
      "Address: 1470 Fox Pointe Cir, Ann Arbor, MI 48108, Unit Count: 1\n",
      "Address: 1492 Fox Pointe Cir, Ann Arbor, MI 48108, Unit Count: 1\n",
      "Address: 1494 Fox Pointe Cir, Ann Arbor, MI 48108, Unit Count: 1\n",
      "Address: 1696 Coburn Ct, Ann Arbor, MI 48108, Unit Count: 1\n",
      "Address: 1622 Long Meadow Trl, Ann Arbor, MI 48108, Unit Count: 1\n",
      "Address: 1407 Heatherwood Ln, Ann Arbor, MI 48108, Unit Count: 1\n",
      "Address: 1720 Coburn Ct, Ann Arbor, MI 48108, Unit Count: 1\n",
      "Address: 1703 Coburn Ct, Ann Arbor, MI 48108, Unit Count: 1\n",
      "Address: 1466 Fox Pointe Cir, Ann Arbor, MI 48108, Unit Count: 1\n",
      "Address: 1666 Coburn Dr, Ann Arbor, MI 48108, Unit Count: 1\n",
      "Address: 1363 Millbrook Trl, Ann Arbor, MI 48108, Unit Count: 1\n",
      "Address: 1510 Long Meadow Trl, Ann Arbor, MI 48108, Unit Count: 1\n",
      "Address: 1324 Heatherwood Ln, Ann Arbor, MI 48108, Unit Count: 1\n",
      "Address: 1518 Long Meadow Trl, Ann Arbor, MI 48108, Unit Count: 1\n",
      "Address: 1413 Millbrook Trl, Ann Arbor, MI 48108, Unit Count: 1\n",
      "Address: 1435 Millbrook Trl, Ann Arbor, MI 48108, Unit Count: 1\n",
      "Address: 1546 Oakfield Dr, Ann Arbor, MI 48108, Unit Count: 1\n",
      "Address: 1503 Long Meadow Trl, Ann Arbor, MI 48108, Unit Count: 1\n",
      "Address: 1537 Oakfield Dr, Ann Arbor, MI 48108, Unit Count: 1\n",
      "Address: 1385 Millbrook Trl, Ann Arbor, MI 48108, Unit Count: 1\n",
      "Address: 1375 Millbrook Trl, Ann Arbor, MI 48108, Unit Count: 1\n",
      "Address: 1527 Weatherstone Dr, Ann Arbor, MI 48108, Unit Count: 1\n",
      "Address: 3539 Bent Trail Dr, Ann Arbor, MI 48108, Unit Count: 1\n",
      "Address: 1366 Heatherwood Ln, Ann Arbor, MI 48108, Unit Count: 1\n",
      "Address: 1313 Millbrook Trl, Ann Arbor, MI 48108, Unit Count: 1\n",
      "Address: 1517 Long Meadow Trl, Ann Arbor, MI 48108, Unit Count: 1\n",
      "Address: 1535 Oakfield Dr, Ann Arbor, MI 48108, Unit Count: 1\n",
      "Address: 1557 Oakfield Dr, Ann Arbor, MI 48108, Unit Count: 1\n",
      "Address: 1589 Long Meadow Trl, Ann Arbor, MI 48108, Unit Count: 1\n",
      "Address: 1532 Long Meadow Trl, Ann Arbor, MI 48108, Unit Count: 1\n",
      "Address: 1293 Millbrook Trl, Ann Arbor, MI 48108, Unit Count: 1\n",
      "Address: 1541 Long Meadow Trl, Ann Arbor, MI 48108, Unit Count: 1\n",
      "Address: 1333 Millbrook Trl, Ann Arbor, MI 48108, Unit Count: 1\n",
      "Address: 1534 Oakfield Dr, Ann Arbor, MI 48108, Unit Count: 1\n",
      "Address: 1322 Heatherwood Ln, Ann Arbor, MI 48108, Unit Count: 1\n",
      "Address: 1319 Millbrook Trl, Ann Arbor, MI 48108, Unit Count: 1\n",
      "Address: 1309 Millbrook Trl, Ann Arbor, MI 48108, Unit Count: 1\n",
      "Address: 1353 Millbrook Trl, Ann Arbor, MI 48108, Unit Count: 1\n",
      "Address: 1519 Long Meadow Trl, Ann Arbor, MI 48108, Unit Count: 1\n",
      "Address: 1539 Long Meadow Trl, Ann Arbor, MI 48108, Unit Count: 1\n",
      "Address: 1397 Millbrook Trl, Ann Arbor, MI 48108, Unit Count: 1\n",
      "Address: 1537 Weatherstone Dr, Ann Arbor, MI 48108, Unit Count: 1\n",
      "Address: 1565 Weatherstone Dr, Ann Arbor, MI 48108, Unit Count: 1\n",
      "Address: 1379 Millbrook Trl, Ann Arbor, MI 48108, Unit Count: 1\n",
      "Address: 1561 Long Meadow Trl, Ann Arbor, MI 48108, Unit Count: 1\n"
     ]
    },
    {
     "data": {
      "text/plain": [
       "349"
      ]
     },
     "execution_count": 317,
     "metadata": {},
     "output_type": "execute_result"
    }
   ],
   "source": [
    "check_unitCounts(response_Ann_Multi)"
   ]
  },
  {
   "cell_type": "code",
   "execution_count": 112,
   "id": "c4c62566",
   "metadata": {},
   "outputs": [],
   "source": [
    "# We see that multi-family could be important to consider.\n",
    "# Multi-family information for Hilo, Hi:\n",
    "import requests\n",
    "\n",
    "url_Hilo_Multi = \"https://api.rentcast.io/v1/properties?city=Hilo&state=HI&propertyType=Multi-Family&limit=500&offset=0\"\n",
    "\n",
    "headers_Hilo_Multi = {\n",
    "    \"accept\": \"application/json\",\n",
    "    \"X-Api-Key\": \"889bfd9166f14faa853a08628f388dbb\"\n",
    "}\n",
    "\n",
    "response_Hilo_Multi = requests.get(url_Hilo_Multi, headers=headers_Hilo_Multi).json()"
   ]
  },
  {
   "cell_type": "code",
   "execution_count": 320,
   "id": "0a31d022",
   "metadata": {},
   "outputs": [
    {
     "name": "stdout",
     "output_type": "stream",
     "text": [
      "Address: 453 Waianuenue Ave Unit B, Hilo, HI 96720, Unit Count: 3\n",
      "{'floorCount': 1, 'garage': True, 'unitCount': 3}\n"
     ]
    }
   ],
   "source": [
    "check_roomCounts(response_Hilo_Multi)\n",
    "check_unitCounts(response_Hilo_Multi)\n",
    "check_features(response_Hilo_Multi)"
   ]
  },
  {
   "cell_type": "markdown",
   "id": "0263f461",
   "metadata": {},
   "source": [
    "# Galveston, Texas\n",
    "## 1. Multi-family"
   ]
  },
  {
   "cell_type": "code",
   "execution_count": 115,
   "id": "964f7d4f",
   "metadata": {},
   "outputs": [],
   "source": [
    "import requests\n",
    "\n",
    "url_TX_Multi = \"https://api.rentcast.io/v1/properties?city=Galveston&state=TX&propertyType=Multi-Family&limit=500&offset=0\"\n",
    "\n",
    "headers_TX_Multi = {\n",
    "    \"accept\": \"application/json\",\n",
    "    \"X-Api-Key\": \"889bfd9166f14faa853a08628f388dbb\"\n",
    "}\n",
    "\n",
    "response_TX_Multi = requests.get(url_TX_Multi, headers=headers_TX_Multi).json()"
   ]
  },
  {
   "cell_type": "code",
   "execution_count": 322,
   "id": "4a964ca0",
   "metadata": {},
   "outputs": [
    {
     "name": "stdout",
     "output_type": "stream",
     "text": [
      "Address: 1015 19th St, Galveston, TX 77550, Room Count: 8\n",
      "Address: 902 Church St, Galveston, TX 77550, Room Count: 10\n",
      "Address: 1902 27th St, Galveston, TX 77550, Room Count: 10\n",
      "Address: 2116 25th St, Galveston, TX 77550, Room Count: 10\n",
      "Address: 2114 Sealy St, Galveston, TX 77550, Room Count: 18\n",
      "Address: 1721 22nd St, Galveston, TX 77550, Room Count: 2\n",
      "Address: 811 7th St, Galveston, TX 77550, Room Count: 2\n",
      "Address: 2524 Ave K, Galveston, TX 77550, Room Count: 2\n",
      "Address: 1117 31st St, Galveston, TX 77550, Room Count: 6\n",
      "Address: 2302 54th St, Galveston, TX 77551, Room Count: 4\n",
      "Address: 909 18th St, Galveston, TX 77550, Room Count: 2\n",
      "Address: 1606 23rd St, Galveston, TX 77550, Room Count: 2\n",
      "Address: 517 University Blvd, Galveston, TX 77550, Room Count: 8\n",
      "Address: 2012 57th St, Galveston, TX 77551, Room Count: 3\n",
      "Address: 1128 Winnie St, Galveston, TX 77550, Room Count: 2\n",
      "Address: 1912 Ave K, Galveston, TX 77550, Room Count: 2\n",
      "Address: 3002 Ave R, Galveston, TX 77550, Room Count: 8\n",
      "Address: 1604 23rd St, Galveston, TX 77550, Room Count: 2\n",
      "Address: 3809 Ave O, Galveston, TX 77550, Room Count: 2\n",
      "Address: 915 11th St, Galveston, TX 77550, Room Count: 2\n",
      "Address: 1012 Broadway St, Galveston, TX 77550, Room Count: 2\n",
      "Address: 820 Broadway St, Galveston, TX 77550, Room Count: 2\n",
      "Address: 724 Broadway St, Galveston, TX 77550, Room Count: 2\n",
      "Address: 1124 Winnie St, Galveston, TX 77550, Room Count: 2\n",
      "Address: 1710 Sealy St, Galveston, TX 77550, Room Count: 2\n",
      "Address: 2214 Ave O, Galveston, TX 77550, Room Count: 8\n",
      "Address: 1827 Ave O, Galveston, TX 77550, Room Count: 10\n",
      "500\n"
     ]
    }
   ],
   "source": [
    "check_roomCounts(response_TX_Multi)\n",
    "#check_features(response_TX_Multi)\n",
    "print(len(response_TX_Multi))"
   ]
  },
  {
   "cell_type": "code",
   "execution_count": 323,
   "id": "87d06223",
   "metadata": {},
   "outputs": [
    {
     "name": "stdout",
     "output_type": "stream",
     "text": [
      "Address: 1015 19th St, Galveston, TX 77550, Unit Count: 2\n",
      "Address: 902 Church St, Galveston, TX 77550, Unit Count: 2\n",
      "Address: 2116 25th St, Galveston, TX 77550, Unit Count: 2\n",
      "Address: 1802 Seawall Blvd, Galveston, TX 77550, Unit Count: 2\n",
      "Address: 1525 Biovu Dr, Galveston, TX 77551, Unit Count: 2\n",
      "Address: 2114 Sealy St, Galveston, TX 77550, Unit Count: 2\n",
      "Address: 309 17th St, Galveston, TX 77550, Unit Count: 1\n",
      "Address: 1601 Biovu Dr, Galveston, TX 77551, Unit Count: 2\n",
      "Address: 2014 53rd St, Galveston, TX 77551, Unit Count: 2\n",
      "Address: 2115 52nd St, Galveston, TX 77551, Unit Count: 2\n",
      "Address: 5418 Ave P, 1/2, Galveston, TX 77551, Unit Count: 1\n",
      "Address: 1513 35th St, Galveston, TX 77550, Unit Count: 2\n",
      "Address: 1513 33rd St, Galveston, TX 77550, Unit Count: 1\n",
      "Address: 1817 Ave K, Galveston, TX 77550, Unit Count: 1\n",
      "Address: 1925 Ave L, Galveston, TX 77550, Unit Count: 2\n",
      "Address: 2119 Ave N, Galveston, TX 77550, Unit Count: 2\n",
      "Address: 2120 Ave N, Galveston, TX 77550, Unit Count: 1\n",
      "Address: 1508 20th St, Galveston, TX 77550, Unit Count: 2\n",
      "Address: 2127 Ave O, Galveston, TX 77550, Unit Count: 1\n",
      "Address: 1721 22nd St, Galveston, TX 77550, Unit Count: 2\n",
      "Address: 1202 Jack Johnson Blvd, Galveston, TX 77550, Unit Count: 1\n",
      "Address: 3408 Ave R, Galveston, TX 77550, Unit Count: 1\n",
      "Address: 3204 Ave Q, 1/2, Galveston, TX 77550, Unit Count: 1\n",
      "Address: 902 Ball St, Galveston, TX 77550, Unit Count: 1\n",
      "Address: 2215 51st St, Galveston, TX 77551, Unit Count: 2\n",
      "Address: 811 7th St, Galveston, TX 77550, Unit Count: 1\n",
      "Address: 2015 46th St, Galveston, TX 77551, Unit Count: 1\n",
      "Address: 2814 Ave O, 1/2, Galveston, TX 77550, Unit Count: 2\n",
      "Address: 2727 Ave P, Galveston, TX 77550, Unit Count: 2\n",
      "Address: 1901 29th St, Galveston, TX 77550, Unit Count: 2\n",
      "Address: 3020 Ave P, Galveston, TX 77550, Unit Count: 2\n",
      "Address: 3017 Ave P, 1/2, Galveston, TX 77550, Unit Count: 2\n",
      "Address: 1809 24th St, Galveston, TX 77550, Unit Count: 2\n",
      "Address: 3706 Ave K, Galveston, TX 77550, Unit Count: 2\n",
      "Address: 3510 Ave L, Galveston, TX 77550, Unit Count: 1\n",
      "Address: 3428 Sealy St, Galveston, TX 77550, Unit Count: 2\n",
      "Address: 1203 37th St, Galveston, TX 77550, Unit Count: 2\n",
      "Address: 2127 Ave K, Galveston, TX 77550, Unit Count: 2\n",
      "Address: 2116 Ave K, Galveston, TX 77550, Unit Count: 2\n",
      "Address: 2205 71st St, Galveston, TX 77551, Unit Count: 2\n",
      "Address: 2301 43rd St, Galveston, TX 77550, Unit Count: 2\n",
      "Address: 2616 43rd St, Galveston, TX 77550, Unit Count: 2\n",
      "Address: 4212 Ave S, Galveston, TX 77550, Unit Count: 1\n",
      "Address: 1601 Market St, Galveston, TX 77550, Unit Count: 2\n",
      "Address: 4501 Broadway St, Galveston, TX 77551, Unit Count: 2\n",
      "Address: 4820 Ave K, Galveston, TX 77551, Unit Count: 1\n",
      "Address: 1107 13th St, Galveston, TX 77550, Unit Count: 1\n",
      "Address: 4007 Ave P, Galveston, TX 77550, Unit Count: 2\n",
      "Address: 1614 Jack Johnson Blvd, Galveston, TX 77550, Unit Count: 1\n",
      "Address: 2101 30th St, Galveston, TX 77550, Unit Count: 2\n",
      "Address: 1824 Ave N, Galveston, TX 77550, Unit Count: 1\n",
      "Address: 2127 Saladia St, Galveston, TX 77551, Unit Count: 1\n",
      "Address: 1009 44th St, Galveston, TX 77550, Unit Count: 2\n",
      "Address: 1215 28th St, Galveston, TX 77550, Unit Count: 2\n",
      "Address: 1213 29th St, Galveston, TX 77550, Unit Count: 2\n",
      "Address: 1117 31st St, Galveston, TX 77550, Unit Count: 1\n",
      "Address: 511 12th St, Galveston, TX 77550, Unit Count: 2\n",
      "Address: 3919 Ball St, Galveston, TX 77550, Unit Count: 2\n",
      "Address: 3717 Winnie St, Galveston, TX 77550, Unit Count: 2\n",
      "Address: 3719 Winnie St, Galveston, TX 77550, Unit Count: 2\n",
      "Address: 2125 Ave P, Galveston, TX 77550, Unit Count: 2\n",
      "Address: 3312 Ave P, Galveston, TX 77550, Unit Count: 2\n",
      "Address: 5619 Ave P, Galveston, TX 77551, Unit Count: 2\n",
      "Address: 5402 Ave R, Galveston, TX 77551, Unit Count: 2\n",
      "Address: 5227 Ave P, 1/2, Galveston, TX 77551, Unit Count: 2\n",
      "Address: 1914 52nd St, Galveston, TX 77551, Unit Count: 1\n",
      "Address: 2302 54th St, Galveston, TX 77551, Unit Count: 2\n",
      "Address: 3917 Ave M, 1/2, Galveston, TX 77550, Unit Count: 1\n",
      "Address: 1314 Jack Johnson Blvd, Galveston, TX 77550, Unit Count: 2\n",
      "Address: 4022 Ave O, Galveston, TX 77550, Unit Count: 2\n",
      "Address: 1514 Jack Johnson Blvd, Galveston, TX 77550, Unit Count: 2\n",
      "Address: 3518 Ave O, Galveston, TX 77550, Unit Count: 2\n",
      "Address: 3514 Ave M, 1/2, Galveston, TX 77550, Unit Count: 2\n",
      "Address: 1516 34th St, Galveston, TX 77550, Unit Count: 2\n",
      "Address: 1512 33rd St, Galveston, TX 77550, Unit Count: 2\n",
      "Address: 1827 Ave M, Galveston, TX 77550, Unit Count: 2\n",
      "Address: 1806 Ave M, Galveston, TX 77550, Unit Count: 1\n",
      "Address: 1102 19th St, Galveston, TX 77550, Unit Count: 2\n",
      "Address: 1815 Ave L, Galveston, TX 77550, Unit Count: 1\n",
      "Address: 909 18th St, Galveston, TX 77550, Unit Count: 2\n",
      "Address: 1420 21st St, Galveston, TX 77550, Unit Count: 2\n",
      "Address: 2002 Ave O, 1/2, Galveston, TX 77550, Unit Count: 2\n",
      "Address: 1919 Ave N, Galveston, TX 77550, Unit Count: 2\n",
      "Address: 2119 Ave O, 1/2, Galveston, TX 77550, Unit Count: 2\n",
      "Address: 1606 23rd St, Galveston, TX 77550, Unit Count: 2\n",
      "Address: 2206 Ave N, Galveston, TX 77550, Unit Count: 2\n",
      "Address: 3901 Ave L, Galveston, TX 77550, Unit Count: 2\n",
      "Address: 1206 Jack Johnson Blvd, Galveston, TX 77550, Unit Count: 2\n",
      "Address: 1218 Jack Johnson Blvd, Galveston, TX 77550, Unit Count: 2\n",
      "Address: 3105 Ave P, 1/2, Galveston, TX 77550, Unit Count: 2\n",
      "Address: 3116 Ave R, 1/2, Galveston, TX 77550, Unit Count: 2\n",
      "Address: 2716 Winnie St, Galveston, TX 77550, Unit Count: 2\n",
      "Address: 2802 Ave M, Galveston, TX 77550, Unit Count: 2\n",
      "Address: 1013 27th St, Galveston, TX 77550, Unit Count: 2\n",
      "Address: 2305 30th St, Galveston, TX 77550, Unit Count: 2\n",
      "Address: 2401 30th St, Galveston, TX 77550, Unit Count: 2\n",
      "Address: 2919 Ave R, Galveston, TX 77550, Unit Count: 2\n",
      "Address: 2309 30th St, Galveston, TX 77550, Unit Count: 2\n",
      "Address: 3118 Ave S, Galveston, TX 77550, Unit Count: 2\n",
      "Address: 802 Ball St, Galveston, TX 77550, Unit Count: 1\n",
      "Address: 526 11th St, Galveston, TX 77550, Unit Count: 2\n",
      "Address: 817 10th St, Galveston, TX 77550, Unit Count: 2\n",
      "Address: 512 9th St, Galveston, TX 77550, Unit Count: 2\n",
      "Address: 611 8th St, Galveston, TX 77550, Unit Count: 2\n",
      "Address: 819 Church St, Galveston, TX 77550, Unit Count: 2\n",
      "Address: 828 Ball St, Galveston, TX 77550, Unit Count: 2\n",
      "Address: 1016 Winnie St, Galveston, TX 77550, Unit Count: 2\n",
      "Address: 815 10th St, Galveston, TX 77550, Unit Count: 2\n",
      "Address: 1605 Post Office St, Galveston, TX 77550, Unit Count: 2\n",
      "Address: 1310 Ball St, Galveston, TX 77550, Unit Count: 2\n",
      "Address: 1226 Post Office St, Galveston, TX 77550, Unit Count: 1\n",
      "Address: 1321 Winnie St, Galveston, TX 77550, Unit Count: 2\n",
      "Address: 4906 Ave P, 1/2, Galveston, TX 77551, Unit Count: 2\n",
      "Address: 4919 Ave O, Galveston, TX 77551, Unit Count: 2\n",
      "Address: 5301 Ave R, 1/2, Galveston, TX 77551, Unit Count: 2\n",
      "Address: 4726 Ave S, Galveston, TX 77551, Unit Count: 2\n",
      "Address: 4608 Ave S, Galveston, TX 77551, Unit Count: 2\n",
      "Address: 4728 Ave S, Galveston, TX 77551, Unit Count: 2\n",
      "Address: 4316 Ave R, 1/2, Galveston, TX 77550, Unit Count: 2\n",
      "Address: 2525 45th St, Galveston, TX 77550, Unit Count: 2\n",
      "Address: 4828 Ave Q, 1/2, Galveston, TX 77551, Unit Count: 1\n",
      "Address: 2928 Ave O, Galveston, TX 77550, Unit Count: 2\n",
      "Address: 2523 Ave P, 1/2, Galveston, TX 77550, Unit Count: 2\n",
      "Address: 3013 Ave P, Galveston, TX 77550, Unit Count: 2\n",
      "Address: 2523 Ave P, Galveston, TX 77550, Unit Count: 2\n",
      "Address: 3102 Ave P, Galveston, TX 77550, Unit Count: 2\n",
      "Address: 2524 Ave P, Galveston, TX 77550, Unit Count: 1\n",
      "Address: 2823 Ave Q, 1/2, Galveston, TX 77550, Unit Count: 2\n",
      "Address: 2623 Ave P, Galveston, TX 77550, Unit Count: 2\n",
      "Address: 2916 Ave Q, 1/2, Galveston, TX 77550, Unit Count: 2\n",
      "Address: 2927 Ave O, 1/2, Galveston, TX 77550, Unit Count: 1\n",
      "Address: 2109 29th St, Galveston, TX 77550, Unit Count: 2\n",
      "Address: 2108 25th St, Galveston, TX 77550, Unit Count: 1\n",
      "Address: 2415 Ave P, 1/2, Galveston, TX 77550, Unit Count: 2\n",
      "Address: 2101 29th St, Galveston, TX 77550, Unit Count: 2\n",
      "Address: 1906 24th St, Galveston, TX 77550, Unit Count: 2\n",
      "Address: 3010 Ave P, Galveston, TX 77550, Unit Count: 1\n",
      "Address: 915 34th St, Galveston, TX 77550, Unit Count: 2\n",
      "Address: 1014 38th St, Galveston, TX 77550, Unit Count: 2\n",
      "Address: 1110 36th St, Galveston, TX 77550, Unit Count: 2\n",
      "Address: 812 37th St, Galveston, TX 77550, Unit Count: 2\n",
      "Address: 3718 Ave O, Galveston, TX 77550, Unit Count: 2\n",
      "Address: 1102 36th St, Galveston, TX 77550, Unit Count: 2\n",
      "Address: 1102 35th St, Galveston, TX 77550, Unit Count: 2\n",
      "Address: 3718 Ave M, Galveston, TX 77550, Unit Count: 2\n",
      "Address: 1516 38th St, Galveston, TX 77550, Unit Count: 2\n",
      "Address: 3510 Ave M, Galveston, TX 77550, Unit Count: 2\n",
      "Address: 3625 Ave O, Galveston, TX 77550, Unit Count: 2\n",
      "Address: 1015 38th St, Galveston, TX 77550, Unit Count: 2\n",
      "Address: 3605 Sealy St, Galveston, TX 77550, Unit Count: 2\n",
      "Address: 3725 Sealy St, Galveston, TX 77550, Unit Count: 2\n",
      "Address: 3411 Ave K, Galveston, TX 77550, Unit Count: 2\n",
      "Address: 3724 Ave K, Galveston, TX 77550, Unit Count: 2\n",
      "Address: 912 Jack Johnson Blvd, Galveston, TX 77550, Unit Count: 1\n",
      "Address: 4011 Sealy St, Galveston, TX 77550, Unit Count: 1\n",
      "Address: 714 35th St, Galveston, TX 77550, Unit Count: 2\n",
      "Address: 4019 Sealy St, Galveston, TX 77550, Unit Count: 1\n",
      "Address: 914 37th St, Galveston, TX 77550, Unit Count: 1\n",
      "Address: 3804 Ave K, Galveston, TX 77550, Unit Count: 2\n",
      "Address: 1708 Ave N, Galveston, TX 77550, Unit Count: 2\n",
      "Address: 2201 Ave P, Galveston, TX 77550, Unit Count: 2\n",
      "Address: 1405 23rd St, Galveston, TX 77550, Unit Count: 2\n",
      "Address: 1811 Ave N, 1/2, Galveston, TX 77550, Unit Count: 2\n",
      "Address: 1309 19th St, Galveston, TX 77550, Unit Count: 2\n",
      "Address: 1809 Ave O, 1/2, Galveston, TX 77550, Unit Count: 2\n",
      "Address: 2323 Ave O, 1/2, Galveston, TX 77550, Unit Count: 2\n",
      "Address: 1107 21st St, Galveston, TX 77550, Unit Count: 2\n",
      "Address: 1909 22nd St, Galveston, TX 77550, Unit Count: 2\n",
      "Address: 1826 Ave N, 1/2, Galveston, TX 77550, Unit Count: 2\n",
      "Address: 1718 Ave O, Galveston, TX 77550, Unit Count: 2\n",
      "Address: 1808 Bayou Homes Dr, Galveston, TX 77551, Unit Count: 2\n",
      "Address: 1620 Bayou Homes Dr, Galveston, TX 77551, Unit Count: 2\n",
      "Address: 1521 Bayou Homes Dr, Galveston, TX 77551, Unit Count: 2\n",
      "Address: 1609 Bayou Homes Dr, Galveston, TX 77551, Unit Count: 2\n",
      "Address: 2223 35th St, Galveston, TX 77550, Unit Count: 1\n",
      "Address: 3723 Ave S, 1/2, Galveston, TX 77550, Unit Count: 2\n",
      "Address: 4002 Ave S, 1/2, Galveston, TX 77550, Unit Count: 2\n",
      "Address: 4025 Ave S, 1/2, Galveston, TX 77550, Unit Count: 2\n",
      "Address: 2602 42nd St, Galveston, TX 77550, Unit Count: 2\n",
      "Address: 5711 Ave Q, 1/2, Galveston, TX 77551, Unit Count: 1\n",
      "Address: 5316 Ave S, Galveston, TX 77551, Unit Count: 2\n",
      "Address: 1315 51st St, Galveston, TX 77551, Unit Count: 1\n",
      "Address: 1122 Sealy St, Galveston, TX 77550, Unit Count: 2\n",
      "Address: 1415 Ave M, 1/2, Galveston, TX 77550, Unit Count: 2\n",
      "Address: 1701 Ave M, 1/2, Galveston, TX 77550, Unit Count: 2\n",
      "Address: 1426 17th St, Galveston, TX 77550, Unit Count: 2\n",
      "Address: 517 University Blvd, Galveston, TX 77550, Unit Count: 2\n",
      "Address: 5605 Ave K, Galveston, TX 77551, Unit Count: 2\n",
      "Address: 5515 Ave L, Galveston, TX 77551, Unit Count: 2\n",
      "Address: 6207 Ave P, 1/2, Galveston, TX 77551, Unit Count: 2\n",
      "Address: 1607 Biovu Dr, Galveston, TX 77551, Unit Count: 2\n",
      "Address: 2012 57th St, Galveston, TX 77551, Unit Count: 1\n",
      "Address: 1515 Bayou Homes Dr, Galveston, TX 77551, Unit Count: 2\n",
      "Address: 4226 Winnie St, Galveston, TX 77550, Unit Count: 1\n",
      "Address: 902 44th St, Galveston, TX 77550, Unit Count: 2\n",
      "Address: 1014 44th St, Galveston, TX 77550, Unit Count: 2\n",
      "Address: 1124 47th St, Galveston, TX 77551, Unit Count: 1\n",
      "Address: 411 12th St, Galveston, TX 77550, Unit Count: 2\n",
      "Address: 1419 Broadway St, Galveston, TX 77550, Unit Count: 1\n",
      "Address: 1128 Ave L, Galveston, TX 77550, Unit Count: 2\n",
      "Address: 1517 Ave K, Galveston, TX 77550, Unit Count: 2\n",
      "Address: 1623 Ave M, Galveston, TX 77550, Unit Count: 2\n",
      "Address: 1628 Ave M, Galveston, TX 77550, Unit Count: 2\n",
      "Address: 1501 Mechanic St, Galveston, TX 77550, Unit Count: 2\n",
      "Address: 613 18th St, Galveston, TX 77550, Unit Count: 2\n",
      "Address: 1720 Ball St, Galveston, TX 77550, Unit Count: 2\n",
      "Address: 1626 Church St, Galveston, TX 77550, Unit Count: 2\n",
      "Address: 3525 Ave Q, Galveston, TX 77550, Unit Count: 2\n",
      "Address: 1915 32nd St, Galveston, TX 77550, Unit Count: 2\n",
      "Address: 3510 Ave S, 1/2, Galveston, TX 77550, Unit Count: 1\n",
      "Address: 3501 Ave S, Galveston, TX 77550, Unit Count: 2\n",
      "Address: 3123 Ave O, 1/2, Galveston, TX 77550, Unit Count: 2\n",
      "Address: 4001 Ave R, 1/2, Galveston, TX 77550, Unit Count: 2\n",
      "Address: 3517 Ave K, Galveston, TX 77550, Unit Count: 2\n",
      "Address: 1806 Bayou Homes Dr, Galveston, TX 77551, Unit Count: 2\n",
      "Address: 6203 Ave P, 1/2, Galveston, TX 77551, Unit Count: 1\n",
      "Address: 5623 Ave Q, Galveston, TX 77551, Unit Count: 1\n",
      "Address: 3520 Ave L, Galveston, TX 77550, Unit Count: 2\n",
      "Address: 1112 27th St, Galveston, TX 77550, Unit Count: 2\n",
      "Address: 407 12th St, Galveston, TX 77550, Unit Count: 2\n",
      "Address: 3011 Sealy St, Galveston, TX 77550, Unit Count: 2\n",
      "Address: 4105 Ave M, 1/2, Galveston, TX 77550, Unit Count: 1\n",
      "Address: 3328 Ave M, 1/2, Galveston, TX 77550, Unit Count: 2\n",
      "Address: 1513 34th St, Galveston, TX 77550, Unit Count: 2\n",
      "Address: 3414 Ave N, Galveston, TX 77550, Unit Count: 2\n",
      "Address: 1512 21st St, Galveston, TX 77550, Unit Count: 2\n",
      "Address: 3009 Ave Q, 1/2, Galveston, TX 77550, Unit Count: 2\n",
      "Address: 2706 Ave K, Galveston, TX 77550, Unit Count: 2\n",
      "Address: 811 14th St, Galveston, TX 77550, Unit Count: 2\n",
      "Address: 2126 45th St, Galveston, TX 77550, Unit Count: 2\n",
      "Address: 2019 46th St, Galveston, TX 77551, Unit Count: 2\n",
      "Address: 2912 Ave Q, 1/2, Galveston, TX 77550, Unit Count: 2\n",
      "Address: 2123 29th St, Galveston, TX 77550, Unit Count: 2\n",
      "Address: 3012 Ave O, 1/2, Galveston, TX 77550, Unit Count: 1\n",
      "Address: 3010 Ave P, 1/2, Galveston, TX 77550, Unit Count: 2\n",
      "Address: 3711 Ave N, 1/2, Galveston, TX 77550, Unit Count: 2\n",
      "Address: 3424 Sealy St, Galveston, TX 77550, Unit Count: 2\n",
      "Address: 3728 Ave K, Galveston, TX 77550, Unit Count: 2\n",
      "Address: 3623 Ave N, Galveston, TX 77550, Unit Count: 2\n",
      "Address: 808 36th St, Galveston, TX 77550, Unit Count: 2\n",
      "Address: 3511 Winnie St, Galveston, TX 77550, Unit Count: 2\n",
      "Address: 4101 Sealy St, Galveston, TX 77550, Unit Count: 1\n",
      "Address: 3627 Ave R, Galveston, TX 77550, Unit Count: 2\n",
      "Address: 5502 Ave S, Galveston, TX 77551, Unit Count: 2\n",
      "Address: 2002 Church St, Galveston, TX 77550, Unit Count: 2\n",
      "Address: 1522 Ave M, Galveston, TX 77550, Unit Count: 2\n",
      "Address: 1202 Ave N, Galveston, TX 77550, Unit Count: 2\n",
      "Address: 5610 Ave S, Galveston, TX 77551, Unit Count: 2\n",
      "Address: 513 27th St, Galveston, TX 77550, Unit Count: 2\n",
      "Address: 4424 Broadway St, Galveston, TX 77550, Unit Count: 2\n",
      "Address: 1202 Winnie St, Apt 2, Galveston, TX 77550, Unit Count: 1\n",
      "Address: 1414 Ave M, 1/2, Galveston, TX 77550, Unit Count: 1\n",
      "Address: 1209 Sealy St, Galveston, TX 77550, Unit Count: 2\n",
      "Address: 1912 Ave K, Galveston, TX 77550, Unit Count: 2\n",
      "Address: 2024 Ave N, Galveston, TX 77550, Unit Count: 1\n",
      "Address: 2017 Ave M, 1/2, Galveston, TX 77550, Unit Count: 2\n",
      "Address: 3016 Ave R, 1/2, Galveston, TX 77550, Unit Count: 2\n",
      "Address: 928 Church St, Galveston, TX 77550, Unit Count: 2\n",
      "Address: 4728 Ave R, 1/2, Galveston, TX 77551, Unit Count: 2\n",
      "Address: 2416 Ave Q, Galveston, TX 77550, Unit Count: 2\n",
      "Address: 3414 Sealy St, Galveston, TX 77550, Unit Count: 2\n",
      "Address: 1212 38th St, Galveston, TX 77550, Unit Count: 2\n",
      "Address: 910 37th St, Galveston, TX 77550, Unit Count: 2\n",
      "Address: 3814 Ave K, Galveston, TX 77550, Unit Count: 2\n",
      "Address: 3411 Ball St, Galveston, TX 77550, Unit Count: 2\n",
      "Address: 5202 Ave O, 1/2, Galveston, TX 77551, Unit Count: 2\n",
      "Address: 901 Ave L, Galveston, TX 77550, Unit Count: 2\n",
      "Address: 1214 13th St, Galveston, TX 77550, Unit Count: 2\n",
      "Address: 4424 Ball St, Galveston, TX 77550, Unit Count: 1\n",
      "Address: 2826 Ave M, Galveston, TX 77550, Unit Count: 1\n",
      "Address: 3102 Ave R, Galveston, TX 77550, Unit Count: 2\n",
      "Address: 1217 38th St, Apt 6, Galveston, TX 77550, Unit Count: 2\n",
      "Address: 2726 Winnie St, Galveston, TX 77550, Unit Count: 2\n",
      "Address: 4101 Ave S, 1/2, Galveston, TX 77550, Unit Count: 1\n",
      "Address: 3913 Winnie St, Galveston, TX 77550, Unit Count: 2\n",
      "Address: 508 10th St, Galveston, TX 77550, Unit Count: 1\n",
      "Address: 3002 Ave R, Galveston, TX 77550, Unit Count: 2\n",
      "Address: 5728 Leeland Dr, Galveston, TX 77551, Unit Count: 1\n",
      "Address: 5318 Ave P, 1/2, Galveston, TX 77551, Unit Count: 2\n",
      "Address: 1604 23rd St, Galveston, TX 77550, Unit Count: 2\n",
      "Address: 3809 Ave O, Galveston, TX 77550, Unit Count: 2\n",
      "Address: 915 11th St, Galveston, TX 77550, Unit Count: 1\n",
      "Address: 1619 Bayou Homes Dr, Galveston, TX 77551, Unit Count: 2\n",
      "Address: 1402 Ave K, Galveston, TX 77550, Unit Count: 1\n",
      "Address: 1816 20th St, Galveston, TX 77550, Unit Count: 2\n",
      "Address: 1012 Broadway St, Galveston, TX 77550, Unit Count: 2\n",
      "Address: 1301 14th St, Galveston, TX 77550, Unit Count: 2\n",
      "Address: 1218 35th St, Galveston, TX 77550, Unit Count: 2\n",
      "Address: 4818 Austin Dr, Galveston, TX 77551, Unit Count: 2\n",
      "Address: 820 Broadway St, Galveston, TX 77550, Unit Count: 2\n",
      "Address: 1810 Church St, Galveston, TX 77550, Unit Count: 2\n",
      "Address: 1124 Winnie St, Galveston, TX 77550, Unit Count: 2\n",
      "Address: 1710 Sealy St, Galveston, TX 77550, Unit Count: 2\n",
      "Address: 1801 21st St, Galveston, TX 77550, Unit Count: 2\n",
      "Address: 1803 21st St, Galveston, TX 77550, Unit Count: 2\n",
      "Address: 1321 35th St, Galveston, TX 77550, Unit Count: 1\n",
      "Address: 1113 28th St, Galveston, TX 77550, Unit Count: 2\n",
      "Address: 1111 Market St, Galveston, TX 77550, Unit Count: 1\n",
      "Address: 1710 Market St, Galveston, TX 77550, Unit Count: 2\n",
      "Address: 1019 31st St, Galveston, TX 77550, Unit Count: 1\n",
      "Address: 1711 Bayou Homes Dr, Galveston, TX 77551, Unit Count: 2\n",
      "Address: 4007 Ball St, Galveston, TX 77550, Unit Count: 1\n",
      "Address: 3710 Winnie St, Galveston, TX 77550, Unit Count: 1\n",
      "Address: 5027 Ave O, 1/2, Galveston, TX 77551, Unit Count: 1\n",
      "Address: 2121 Ave K, Galveston, TX 77550, Unit Count: 2\n",
      "Address: 2801 Ball St, Galveston, TX 77550, Unit Count: 1\n",
      "Address: 5019 Ave Q, Galveston, TX 77551, Unit Count: 1\n",
      "Address: 4309 Ave N, Galveston, TX 77550, Unit Count: 2\n"
     ]
    },
    {
     "data": {
      "text/plain": [
       "308"
      ]
     },
     "execution_count": 323,
     "metadata": {},
     "output_type": "execute_result"
    }
   ],
   "source": [
    "check_unitCounts(response_TX_Multi)"
   ]
  },
  {
   "cell_type": "code",
   "execution_count": 241,
   "id": "0513469f",
   "metadata": {},
   "outputs": [],
   "source": [
    "import requests\n",
    "\n",
    "url_TX_Multi_2 = \"https://api.rentcast.io/v1/properties?city=Galveston&state=TX&propertyType=Multi-Family&limit=500&offset=501\"\n",
    "\n",
    "headers_TX_Multi_2 = {\n",
    "    \"accept\": \"application/json\",\n",
    "    \"X-Api-Key\": \"889bfd9166f14faa853a08628f388dbb\"\n",
    "}\n",
    "\n",
    "response_TX_Multi_2 = requests.get(url_TX_Multi_2, headers=headers_TX_Multi_2).json()\n"
   ]
  },
  {
   "cell_type": "code",
   "execution_count": 242,
   "id": "b92e5679",
   "metadata": {},
   "outputs": [
    {
     "data": {
      "text/plain": [
       "372"
      ]
     },
     "execution_count": 242,
     "metadata": {},
     "output_type": "execute_result"
    }
   ],
   "source": [
    "len(response_TX_Multi_2)\n",
    "# in total, we have 500+372=872 multi-family type properties."
   ]
  },
  {
   "cell_type": "markdown",
   "id": "ccfe5656",
   "metadata": {},
   "source": [
    "# Galveston, Texas\n",
    "## 2. Manufactured"
   ]
  },
  {
   "cell_type": "code",
   "execution_count": 123,
   "id": "e062186a",
   "metadata": {},
   "outputs": [],
   "source": [
    "# Texas Manufactured category\n",
    "import requests\n",
    "\n",
    "url_TX_Manu = \"https://api.rentcast.io/v1/properties?city=Galveston&state=TX&propertyType=Manufactured&limit=500&offset=0\"\n",
    "\n",
    "headers_TX_Manu = {\n",
    "    \"accept\": \"application/json\",\n",
    "    \"X-Api-Key\": \"889bfd9166f14faa853a08628f388dbb\"\n",
    "}\n",
    "\n",
    "response_TX_Manu = requests.get(url_TX_Manu, headers=headers_TX_Manu).json()"
   ]
  },
  {
   "cell_type": "code",
   "execution_count": 324,
   "id": "617edeee",
   "metadata": {},
   "outputs": [
    {
     "name": "stdout",
     "output_type": "stream",
     "text": [
      "Address: 1015 19th St, Galveston, TX 77550, Unit Count: 2\n",
      "Address: 902 Church St, Galveston, TX 77550, Unit Count: 2\n",
      "Address: 2116 25th St, Galveston, TX 77550, Unit Count: 2\n",
      "Address: 1802 Seawall Blvd, Galveston, TX 77550, Unit Count: 2\n",
      "Address: 1525 Biovu Dr, Galveston, TX 77551, Unit Count: 2\n",
      "Address: 2114 Sealy St, Galveston, TX 77550, Unit Count: 2\n",
      "Address: 309 17th St, Galveston, TX 77550, Unit Count: 1\n",
      "Address: 1601 Biovu Dr, Galveston, TX 77551, Unit Count: 2\n",
      "Address: 2014 53rd St, Galveston, TX 77551, Unit Count: 2\n",
      "Address: 2115 52nd St, Galveston, TX 77551, Unit Count: 2\n",
      "Address: 5418 Ave P, 1/2, Galveston, TX 77551, Unit Count: 1\n",
      "Address: 1513 35th St, Galveston, TX 77550, Unit Count: 2\n",
      "Address: 1513 33rd St, Galveston, TX 77550, Unit Count: 1\n",
      "Address: 1817 Ave K, Galveston, TX 77550, Unit Count: 1\n",
      "Address: 1925 Ave L, Galveston, TX 77550, Unit Count: 2\n",
      "Address: 2119 Ave N, Galveston, TX 77550, Unit Count: 2\n",
      "Address: 2120 Ave N, Galveston, TX 77550, Unit Count: 1\n",
      "Address: 1508 20th St, Galveston, TX 77550, Unit Count: 2\n",
      "Address: 2127 Ave O, Galveston, TX 77550, Unit Count: 1\n",
      "Address: 1721 22nd St, Galveston, TX 77550, Unit Count: 2\n",
      "Address: 1202 Jack Johnson Blvd, Galveston, TX 77550, Unit Count: 1\n",
      "Address: 3408 Ave R, Galveston, TX 77550, Unit Count: 1\n",
      "Address: 3204 Ave Q, 1/2, Galveston, TX 77550, Unit Count: 1\n",
      "Address: 902 Ball St, Galveston, TX 77550, Unit Count: 1\n",
      "Address: 2215 51st St, Galveston, TX 77551, Unit Count: 2\n",
      "Address: 811 7th St, Galveston, TX 77550, Unit Count: 1\n",
      "Address: 2015 46th St, Galveston, TX 77551, Unit Count: 1\n",
      "Address: 2814 Ave O, 1/2, Galveston, TX 77550, Unit Count: 2\n",
      "Address: 2727 Ave P, Galveston, TX 77550, Unit Count: 2\n",
      "Address: 1901 29th St, Galveston, TX 77550, Unit Count: 2\n",
      "Address: 3020 Ave P, Galveston, TX 77550, Unit Count: 2\n",
      "Address: 3017 Ave P, 1/2, Galveston, TX 77550, Unit Count: 2\n",
      "Address: 1809 24th St, Galveston, TX 77550, Unit Count: 2\n",
      "Address: 3706 Ave K, Galveston, TX 77550, Unit Count: 2\n",
      "Address: 3510 Ave L, Galveston, TX 77550, Unit Count: 1\n",
      "Address: 3428 Sealy St, Galveston, TX 77550, Unit Count: 2\n",
      "Address: 1203 37th St, Galveston, TX 77550, Unit Count: 2\n",
      "Address: 2127 Ave K, Galveston, TX 77550, Unit Count: 2\n",
      "Address: 2116 Ave K, Galveston, TX 77550, Unit Count: 2\n",
      "Address: 2205 71st St, Galveston, TX 77551, Unit Count: 2\n",
      "Address: 2301 43rd St, Galveston, TX 77550, Unit Count: 2\n",
      "Address: 2616 43rd St, Galveston, TX 77550, Unit Count: 2\n",
      "Address: 4212 Ave S, Galveston, TX 77550, Unit Count: 1\n",
      "Address: 1601 Market St, Galveston, TX 77550, Unit Count: 2\n",
      "Address: 4501 Broadway St, Galveston, TX 77551, Unit Count: 2\n",
      "Address: 4820 Ave K, Galveston, TX 77551, Unit Count: 1\n",
      "Address: 1107 13th St, Galveston, TX 77550, Unit Count: 1\n",
      "Address: 4007 Ave P, Galveston, TX 77550, Unit Count: 2\n",
      "Address: 1614 Jack Johnson Blvd, Galveston, TX 77550, Unit Count: 1\n",
      "Address: 2101 30th St, Galveston, TX 77550, Unit Count: 2\n",
      "Address: 1824 Ave N, Galveston, TX 77550, Unit Count: 1\n",
      "Address: 2127 Saladia St, Galveston, TX 77551, Unit Count: 1\n",
      "Address: 1009 44th St, Galveston, TX 77550, Unit Count: 2\n",
      "Address: 1215 28th St, Galveston, TX 77550, Unit Count: 2\n",
      "Address: 1213 29th St, Galveston, TX 77550, Unit Count: 2\n",
      "Address: 1117 31st St, Galveston, TX 77550, Unit Count: 1\n",
      "Address: 511 12th St, Galveston, TX 77550, Unit Count: 2\n",
      "Address: 3919 Ball St, Galveston, TX 77550, Unit Count: 2\n",
      "Address: 3717 Winnie St, Galveston, TX 77550, Unit Count: 2\n",
      "Address: 3719 Winnie St, Galveston, TX 77550, Unit Count: 2\n",
      "Address: 2125 Ave P, Galveston, TX 77550, Unit Count: 2\n",
      "Address: 3312 Ave P, Galveston, TX 77550, Unit Count: 2\n",
      "Address: 5619 Ave P, Galveston, TX 77551, Unit Count: 2\n",
      "Address: 5402 Ave R, Galveston, TX 77551, Unit Count: 2\n",
      "Address: 5227 Ave P, 1/2, Galveston, TX 77551, Unit Count: 2\n",
      "Address: 1914 52nd St, Galveston, TX 77551, Unit Count: 1\n",
      "Address: 2302 54th St, Galveston, TX 77551, Unit Count: 2\n",
      "Address: 3917 Ave M, 1/2, Galveston, TX 77550, Unit Count: 1\n",
      "Address: 1314 Jack Johnson Blvd, Galveston, TX 77550, Unit Count: 2\n",
      "Address: 4022 Ave O, Galveston, TX 77550, Unit Count: 2\n",
      "Address: 1514 Jack Johnson Blvd, Galveston, TX 77550, Unit Count: 2\n",
      "Address: 3518 Ave O, Galveston, TX 77550, Unit Count: 2\n",
      "Address: 3514 Ave M, 1/2, Galveston, TX 77550, Unit Count: 2\n",
      "Address: 1516 34th St, Galveston, TX 77550, Unit Count: 2\n",
      "Address: 1512 33rd St, Galveston, TX 77550, Unit Count: 2\n",
      "Address: 1827 Ave M, Galveston, TX 77550, Unit Count: 2\n",
      "Address: 1806 Ave M, Galveston, TX 77550, Unit Count: 1\n",
      "Address: 1102 19th St, Galveston, TX 77550, Unit Count: 2\n",
      "Address: 1815 Ave L, Galveston, TX 77550, Unit Count: 1\n",
      "Address: 909 18th St, Galveston, TX 77550, Unit Count: 2\n",
      "Address: 1420 21st St, Galveston, TX 77550, Unit Count: 2\n",
      "Address: 2002 Ave O, 1/2, Galveston, TX 77550, Unit Count: 2\n",
      "Address: 1919 Ave N, Galveston, TX 77550, Unit Count: 2\n",
      "Address: 2119 Ave O, 1/2, Galveston, TX 77550, Unit Count: 2\n",
      "Address: 1606 23rd St, Galveston, TX 77550, Unit Count: 2\n",
      "Address: 2206 Ave N, Galveston, TX 77550, Unit Count: 2\n",
      "Address: 3901 Ave L, Galveston, TX 77550, Unit Count: 2\n",
      "Address: 1206 Jack Johnson Blvd, Galveston, TX 77550, Unit Count: 2\n",
      "Address: 1218 Jack Johnson Blvd, Galveston, TX 77550, Unit Count: 2\n",
      "Address: 3105 Ave P, 1/2, Galveston, TX 77550, Unit Count: 2\n",
      "Address: 3116 Ave R, 1/2, Galveston, TX 77550, Unit Count: 2\n",
      "Address: 2716 Winnie St, Galveston, TX 77550, Unit Count: 2\n",
      "Address: 2802 Ave M, Galveston, TX 77550, Unit Count: 2\n",
      "Address: 1013 27th St, Galveston, TX 77550, Unit Count: 2\n",
      "Address: 2305 30th St, Galveston, TX 77550, Unit Count: 2\n",
      "Address: 2401 30th St, Galveston, TX 77550, Unit Count: 2\n",
      "Address: 2919 Ave R, Galveston, TX 77550, Unit Count: 2\n",
      "Address: 2309 30th St, Galveston, TX 77550, Unit Count: 2\n",
      "Address: 3118 Ave S, Galveston, TX 77550, Unit Count: 2\n",
      "Address: 802 Ball St, Galveston, TX 77550, Unit Count: 1\n",
      "Address: 526 11th St, Galveston, TX 77550, Unit Count: 2\n",
      "Address: 817 10th St, Galveston, TX 77550, Unit Count: 2\n",
      "Address: 512 9th St, Galveston, TX 77550, Unit Count: 2\n",
      "Address: 611 8th St, Galveston, TX 77550, Unit Count: 2\n",
      "Address: 819 Church St, Galveston, TX 77550, Unit Count: 2\n",
      "Address: 828 Ball St, Galveston, TX 77550, Unit Count: 2\n",
      "Address: 1016 Winnie St, Galveston, TX 77550, Unit Count: 2\n",
      "Address: 815 10th St, Galveston, TX 77550, Unit Count: 2\n",
      "Address: 1605 Post Office St, Galveston, TX 77550, Unit Count: 2\n",
      "Address: 1310 Ball St, Galveston, TX 77550, Unit Count: 2\n",
      "Address: 1226 Post Office St, Galveston, TX 77550, Unit Count: 1\n",
      "Address: 1321 Winnie St, Galveston, TX 77550, Unit Count: 2\n",
      "Address: 4906 Ave P, 1/2, Galveston, TX 77551, Unit Count: 2\n",
      "Address: 4919 Ave O, Galveston, TX 77551, Unit Count: 2\n",
      "Address: 5301 Ave R, 1/2, Galveston, TX 77551, Unit Count: 2\n",
      "Address: 4726 Ave S, Galveston, TX 77551, Unit Count: 2\n",
      "Address: 4608 Ave S, Galveston, TX 77551, Unit Count: 2\n",
      "Address: 4728 Ave S, Galveston, TX 77551, Unit Count: 2\n",
      "Address: 4316 Ave R, 1/2, Galveston, TX 77550, Unit Count: 2\n",
      "Address: 2525 45th St, Galveston, TX 77550, Unit Count: 2\n",
      "Address: 4828 Ave Q, 1/2, Galveston, TX 77551, Unit Count: 1\n",
      "Address: 2928 Ave O, Galveston, TX 77550, Unit Count: 2\n",
      "Address: 2523 Ave P, 1/2, Galveston, TX 77550, Unit Count: 2\n",
      "Address: 3013 Ave P, Galveston, TX 77550, Unit Count: 2\n",
      "Address: 2523 Ave P, Galveston, TX 77550, Unit Count: 2\n",
      "Address: 3102 Ave P, Galveston, TX 77550, Unit Count: 2\n",
      "Address: 2524 Ave P, Galveston, TX 77550, Unit Count: 1\n",
      "Address: 2823 Ave Q, 1/2, Galveston, TX 77550, Unit Count: 2\n",
      "Address: 2623 Ave P, Galveston, TX 77550, Unit Count: 2\n",
      "Address: 2916 Ave Q, 1/2, Galveston, TX 77550, Unit Count: 2\n",
      "Address: 2927 Ave O, 1/2, Galveston, TX 77550, Unit Count: 1\n",
      "Address: 2109 29th St, Galveston, TX 77550, Unit Count: 2\n",
      "Address: 2108 25th St, Galveston, TX 77550, Unit Count: 1\n",
      "Address: 2415 Ave P, 1/2, Galveston, TX 77550, Unit Count: 2\n",
      "Address: 2101 29th St, Galveston, TX 77550, Unit Count: 2\n",
      "Address: 1906 24th St, Galveston, TX 77550, Unit Count: 2\n",
      "Address: 3010 Ave P, Galveston, TX 77550, Unit Count: 1\n",
      "Address: 915 34th St, Galveston, TX 77550, Unit Count: 2\n",
      "Address: 1014 38th St, Galveston, TX 77550, Unit Count: 2\n",
      "Address: 1110 36th St, Galveston, TX 77550, Unit Count: 2\n",
      "Address: 812 37th St, Galveston, TX 77550, Unit Count: 2\n",
      "Address: 3718 Ave O, Galveston, TX 77550, Unit Count: 2\n",
      "Address: 1102 36th St, Galveston, TX 77550, Unit Count: 2\n",
      "Address: 1102 35th St, Galveston, TX 77550, Unit Count: 2\n",
      "Address: 3718 Ave M, Galveston, TX 77550, Unit Count: 2\n",
      "Address: 1516 38th St, Galveston, TX 77550, Unit Count: 2\n",
      "Address: 3510 Ave M, Galveston, TX 77550, Unit Count: 2\n",
      "Address: 3625 Ave O, Galveston, TX 77550, Unit Count: 2\n",
      "Address: 1015 38th St, Galveston, TX 77550, Unit Count: 2\n",
      "Address: 3605 Sealy St, Galveston, TX 77550, Unit Count: 2\n",
      "Address: 3725 Sealy St, Galveston, TX 77550, Unit Count: 2\n",
      "Address: 3411 Ave K, Galveston, TX 77550, Unit Count: 2\n",
      "Address: 3724 Ave K, Galveston, TX 77550, Unit Count: 2\n",
      "Address: 912 Jack Johnson Blvd, Galveston, TX 77550, Unit Count: 1\n",
      "Address: 4011 Sealy St, Galveston, TX 77550, Unit Count: 1\n",
      "Address: 714 35th St, Galveston, TX 77550, Unit Count: 2\n",
      "Address: 4019 Sealy St, Galveston, TX 77550, Unit Count: 1\n",
      "Address: 914 37th St, Galveston, TX 77550, Unit Count: 1\n",
      "Address: 3804 Ave K, Galveston, TX 77550, Unit Count: 2\n",
      "Address: 1708 Ave N, Galveston, TX 77550, Unit Count: 2\n",
      "Address: 2201 Ave P, Galveston, TX 77550, Unit Count: 2\n",
      "Address: 1405 23rd St, Galveston, TX 77550, Unit Count: 2\n",
      "Address: 1811 Ave N, 1/2, Galveston, TX 77550, Unit Count: 2\n",
      "Address: 1309 19th St, Galveston, TX 77550, Unit Count: 2\n",
      "Address: 1809 Ave O, 1/2, Galveston, TX 77550, Unit Count: 2\n",
      "Address: 2323 Ave O, 1/2, Galveston, TX 77550, Unit Count: 2\n",
      "Address: 1107 21st St, Galveston, TX 77550, Unit Count: 2\n",
      "Address: 1909 22nd St, Galveston, TX 77550, Unit Count: 2\n",
      "Address: 1826 Ave N, 1/2, Galveston, TX 77550, Unit Count: 2\n",
      "Address: 1718 Ave O, Galveston, TX 77550, Unit Count: 2\n",
      "Address: 1808 Bayou Homes Dr, Galveston, TX 77551, Unit Count: 2\n",
      "Address: 1620 Bayou Homes Dr, Galveston, TX 77551, Unit Count: 2\n",
      "Address: 1521 Bayou Homes Dr, Galveston, TX 77551, Unit Count: 2\n",
      "Address: 1609 Bayou Homes Dr, Galveston, TX 77551, Unit Count: 2\n",
      "Address: 2223 35th St, Galveston, TX 77550, Unit Count: 1\n",
      "Address: 3723 Ave S, 1/2, Galveston, TX 77550, Unit Count: 2\n",
      "Address: 4002 Ave S, 1/2, Galveston, TX 77550, Unit Count: 2\n",
      "Address: 4025 Ave S, 1/2, Galveston, TX 77550, Unit Count: 2\n",
      "Address: 2602 42nd St, Galveston, TX 77550, Unit Count: 2\n",
      "Address: 5711 Ave Q, 1/2, Galveston, TX 77551, Unit Count: 1\n",
      "Address: 5316 Ave S, Galveston, TX 77551, Unit Count: 2\n",
      "Address: 1315 51st St, Galveston, TX 77551, Unit Count: 1\n",
      "Address: 1122 Sealy St, Galveston, TX 77550, Unit Count: 2\n",
      "Address: 1415 Ave M, 1/2, Galveston, TX 77550, Unit Count: 2\n",
      "Address: 1701 Ave M, 1/2, Galveston, TX 77550, Unit Count: 2\n",
      "Address: 1426 17th St, Galveston, TX 77550, Unit Count: 2\n",
      "Address: 517 University Blvd, Galveston, TX 77550, Unit Count: 2\n",
      "Address: 5605 Ave K, Galveston, TX 77551, Unit Count: 2\n",
      "Address: 5515 Ave L, Galveston, TX 77551, Unit Count: 2\n",
      "Address: 6207 Ave P, 1/2, Galveston, TX 77551, Unit Count: 2\n",
      "Address: 1607 Biovu Dr, Galveston, TX 77551, Unit Count: 2\n",
      "Address: 2012 57th St, Galveston, TX 77551, Unit Count: 1\n",
      "Address: 1515 Bayou Homes Dr, Galveston, TX 77551, Unit Count: 2\n",
      "Address: 4226 Winnie St, Galveston, TX 77550, Unit Count: 1\n",
      "Address: 902 44th St, Galveston, TX 77550, Unit Count: 2\n",
      "Address: 1014 44th St, Galveston, TX 77550, Unit Count: 2\n",
      "Address: 1124 47th St, Galveston, TX 77551, Unit Count: 1\n",
      "Address: 411 12th St, Galveston, TX 77550, Unit Count: 2\n",
      "Address: 1419 Broadway St, Galveston, TX 77550, Unit Count: 1\n",
      "Address: 1128 Ave L, Galveston, TX 77550, Unit Count: 2\n",
      "Address: 1517 Ave K, Galveston, TX 77550, Unit Count: 2\n",
      "Address: 1623 Ave M, Galveston, TX 77550, Unit Count: 2\n",
      "Address: 1628 Ave M, Galveston, TX 77550, Unit Count: 2\n",
      "Address: 1501 Mechanic St, Galveston, TX 77550, Unit Count: 2\n",
      "Address: 613 18th St, Galveston, TX 77550, Unit Count: 2\n",
      "Address: 1720 Ball St, Galveston, TX 77550, Unit Count: 2\n",
      "Address: 1626 Church St, Galveston, TX 77550, Unit Count: 2\n",
      "Address: 3525 Ave Q, Galveston, TX 77550, Unit Count: 2\n",
      "Address: 1915 32nd St, Galveston, TX 77550, Unit Count: 2\n",
      "Address: 3510 Ave S, 1/2, Galveston, TX 77550, Unit Count: 1\n",
      "Address: 3501 Ave S, Galveston, TX 77550, Unit Count: 2\n",
      "Address: 3123 Ave O, 1/2, Galveston, TX 77550, Unit Count: 2\n",
      "Address: 4001 Ave R, 1/2, Galveston, TX 77550, Unit Count: 2\n",
      "Address: 3517 Ave K, Galveston, TX 77550, Unit Count: 2\n",
      "Address: 1806 Bayou Homes Dr, Galveston, TX 77551, Unit Count: 2\n",
      "Address: 6203 Ave P, 1/2, Galveston, TX 77551, Unit Count: 1\n",
      "Address: 5623 Ave Q, Galveston, TX 77551, Unit Count: 1\n",
      "Address: 3520 Ave L, Galveston, TX 77550, Unit Count: 2\n",
      "Address: 1112 27th St, Galveston, TX 77550, Unit Count: 2\n",
      "Address: 407 12th St, Galveston, TX 77550, Unit Count: 2\n",
      "Address: 3011 Sealy St, Galveston, TX 77550, Unit Count: 2\n",
      "Address: 4105 Ave M, 1/2, Galveston, TX 77550, Unit Count: 1\n",
      "Address: 3328 Ave M, 1/2, Galveston, TX 77550, Unit Count: 2\n",
      "Address: 1513 34th St, Galveston, TX 77550, Unit Count: 2\n",
      "Address: 3414 Ave N, Galveston, TX 77550, Unit Count: 2\n",
      "Address: 1512 21st St, Galveston, TX 77550, Unit Count: 2\n",
      "Address: 3009 Ave Q, 1/2, Galveston, TX 77550, Unit Count: 2\n",
      "Address: 2706 Ave K, Galveston, TX 77550, Unit Count: 2\n",
      "Address: 811 14th St, Galveston, TX 77550, Unit Count: 2\n",
      "Address: 2126 45th St, Galveston, TX 77550, Unit Count: 2\n",
      "Address: 2019 46th St, Galveston, TX 77551, Unit Count: 2\n",
      "Address: 2912 Ave Q, 1/2, Galveston, TX 77550, Unit Count: 2\n",
      "Address: 2123 29th St, Galveston, TX 77550, Unit Count: 2\n",
      "Address: 3012 Ave O, 1/2, Galveston, TX 77550, Unit Count: 1\n",
      "Address: 3010 Ave P, 1/2, Galveston, TX 77550, Unit Count: 2\n",
      "Address: 3711 Ave N, 1/2, Galveston, TX 77550, Unit Count: 2\n",
      "Address: 3424 Sealy St, Galveston, TX 77550, Unit Count: 2\n",
      "Address: 3728 Ave K, Galveston, TX 77550, Unit Count: 2\n",
      "Address: 3623 Ave N, Galveston, TX 77550, Unit Count: 2\n",
      "Address: 808 36th St, Galveston, TX 77550, Unit Count: 2\n",
      "Address: 3511 Winnie St, Galveston, TX 77550, Unit Count: 2\n",
      "Address: 4101 Sealy St, Galveston, TX 77550, Unit Count: 1\n",
      "Address: 3627 Ave R, Galveston, TX 77550, Unit Count: 2\n",
      "Address: 5502 Ave S, Galveston, TX 77551, Unit Count: 2\n",
      "Address: 2002 Church St, Galveston, TX 77550, Unit Count: 2\n",
      "Address: 1522 Ave M, Galveston, TX 77550, Unit Count: 2\n",
      "Address: 1202 Ave N, Galveston, TX 77550, Unit Count: 2\n",
      "Address: 5610 Ave S, Galveston, TX 77551, Unit Count: 2\n",
      "Address: 513 27th St, Galveston, TX 77550, Unit Count: 2\n",
      "Address: 4424 Broadway St, Galveston, TX 77550, Unit Count: 2\n",
      "Address: 1202 Winnie St, Apt 2, Galveston, TX 77550, Unit Count: 1\n",
      "Address: 1414 Ave M, 1/2, Galveston, TX 77550, Unit Count: 1\n",
      "Address: 1209 Sealy St, Galveston, TX 77550, Unit Count: 2\n",
      "Address: 1912 Ave K, Galveston, TX 77550, Unit Count: 2\n",
      "Address: 2024 Ave N, Galveston, TX 77550, Unit Count: 1\n",
      "Address: 2017 Ave M, 1/2, Galveston, TX 77550, Unit Count: 2\n",
      "Address: 3016 Ave R, 1/2, Galveston, TX 77550, Unit Count: 2\n",
      "Address: 928 Church St, Galveston, TX 77550, Unit Count: 2\n",
      "Address: 4728 Ave R, 1/2, Galveston, TX 77551, Unit Count: 2\n",
      "Address: 2416 Ave Q, Galveston, TX 77550, Unit Count: 2\n",
      "Address: 3414 Sealy St, Galveston, TX 77550, Unit Count: 2\n",
      "Address: 1212 38th St, Galveston, TX 77550, Unit Count: 2\n",
      "Address: 910 37th St, Galveston, TX 77550, Unit Count: 2\n",
      "Address: 3814 Ave K, Galveston, TX 77550, Unit Count: 2\n",
      "Address: 3411 Ball St, Galveston, TX 77550, Unit Count: 2\n",
      "Address: 5202 Ave O, 1/2, Galveston, TX 77551, Unit Count: 2\n",
      "Address: 901 Ave L, Galveston, TX 77550, Unit Count: 2\n",
      "Address: 1214 13th St, Galveston, TX 77550, Unit Count: 2\n",
      "Address: 4424 Ball St, Galveston, TX 77550, Unit Count: 1\n",
      "Address: 2826 Ave M, Galveston, TX 77550, Unit Count: 1\n",
      "Address: 3102 Ave R, Galveston, TX 77550, Unit Count: 2\n",
      "Address: 1217 38th St, Apt 6, Galveston, TX 77550, Unit Count: 2\n",
      "Address: 2726 Winnie St, Galveston, TX 77550, Unit Count: 2\n",
      "Address: 4101 Ave S, 1/2, Galveston, TX 77550, Unit Count: 1\n",
      "Address: 3913 Winnie St, Galveston, TX 77550, Unit Count: 2\n",
      "Address: 508 10th St, Galveston, TX 77550, Unit Count: 1\n",
      "Address: 3002 Ave R, Galveston, TX 77550, Unit Count: 2\n",
      "Address: 5728 Leeland Dr, Galveston, TX 77551, Unit Count: 1\n",
      "Address: 5318 Ave P, 1/2, Galveston, TX 77551, Unit Count: 2\n",
      "Address: 1604 23rd St, Galveston, TX 77550, Unit Count: 2\n",
      "Address: 3809 Ave O, Galveston, TX 77550, Unit Count: 2\n",
      "Address: 915 11th St, Galveston, TX 77550, Unit Count: 1\n",
      "Address: 1619 Bayou Homes Dr, Galveston, TX 77551, Unit Count: 2\n",
      "Address: 1402 Ave K, Galveston, TX 77550, Unit Count: 1\n",
      "Address: 1816 20th St, Galveston, TX 77550, Unit Count: 2\n",
      "Address: 1012 Broadway St, Galveston, TX 77550, Unit Count: 2\n",
      "Address: 1301 14th St, Galveston, TX 77550, Unit Count: 2\n",
      "Address: 1218 35th St, Galveston, TX 77550, Unit Count: 2\n",
      "Address: 4818 Austin Dr, Galveston, TX 77551, Unit Count: 2\n",
      "Address: 820 Broadway St, Galveston, TX 77550, Unit Count: 2\n",
      "Address: 1810 Church St, Galveston, TX 77550, Unit Count: 2\n",
      "Address: 1124 Winnie St, Galveston, TX 77550, Unit Count: 2\n",
      "Address: 1710 Sealy St, Galveston, TX 77550, Unit Count: 2\n",
      "Address: 1801 21st St, Galveston, TX 77550, Unit Count: 2\n",
      "Address: 1803 21st St, Galveston, TX 77550, Unit Count: 2\n",
      "Address: 1321 35th St, Galveston, TX 77550, Unit Count: 1\n",
      "Address: 1113 28th St, Galveston, TX 77550, Unit Count: 2\n",
      "Address: 1111 Market St, Galveston, TX 77550, Unit Count: 1\n",
      "Address: 1710 Market St, Galveston, TX 77550, Unit Count: 2\n",
      "Address: 1019 31st St, Galveston, TX 77550, Unit Count: 1\n",
      "Address: 1711 Bayou Homes Dr, Galveston, TX 77551, Unit Count: 2\n",
      "Address: 4007 Ball St, Galveston, TX 77550, Unit Count: 1\n",
      "Address: 3710 Winnie St, Galveston, TX 77550, Unit Count: 1\n",
      "Address: 5027 Ave O, 1/2, Galveston, TX 77551, Unit Count: 1\n",
      "Address: 2121 Ave K, Galveston, TX 77550, Unit Count: 2\n",
      "Address: 2801 Ball St, Galveston, TX 77550, Unit Count: 1\n",
      "Address: 5019 Ave Q, Galveston, TX 77551, Unit Count: 1\n",
      "Address: 4309 Ave N, Galveston, TX 77550, Unit Count: 2\n",
      "{'architectureType': 'Mobile Home', 'floorCount': 1, 'garage': True, 'garageSpaces': 1, 'garageType': 'Carport', 'unitCount': 1}\n",
      "{'floorCount': 1, 'garage': True, 'garageType': 'Detached', 'unitCount': 1}\n",
      "{'floorCount': 1}\n",
      "{'floorCount': 1}\n",
      "{'floorCount': 1, 'unitCount': 1}\n",
      "{'architectureType': 'Conventional', 'cooling': True, 'coolingType': 'Central', 'exteriorType': 'Wood Frame / Siding', 'floorCount': 2, 'foundationType': 'Pile', 'garage': True, 'garageType': 'Carport', 'heating': True, 'heatingType': 'Central', 'roofType': 'Composition Shingle'}\n",
      "{'architectureType': 'Mobile Home', 'cooling': True, 'coolingType': 'Central', 'foundationType': 'Pile', 'garage': True, 'garageType': 'Mixed', 'heating': True, 'heatingType': 'Central', 'roofType': 'Composition Shingle'}\n",
      "7\n"
     ]
    }
   ],
   "source": [
    "check_roomCounts(response_TX_Manu)\n",
    "check_unitCounts(response_TX_Multi)\n",
    "check_features(response_TX_Manu)\n",
    "print(len(response_TX_Manu))\n",
    "# Not a lot under the Manufactured category"
   ]
  },
  {
   "cell_type": "markdown",
   "id": "2fb354d8",
   "metadata": {},
   "source": [
    "# Galveston, Texas\n",
    "## 3. Land"
   ]
  },
  {
   "cell_type": "code",
   "execution_count": 126,
   "id": "b739062d",
   "metadata": {},
   "outputs": [],
   "source": [
    "# Texas Land category\n",
    "import requests\n",
    "\n",
    "url_TX_Land = \"https://api.rentcast.io/v1/properties?city=Galveston&state=TX&propertyType=Land&limit=500&offset=0\"\n",
    "\n",
    "headers_TX_Land = {\n",
    "    \"accept\": \"application/json\",\n",
    "    \"X-Api-Key\": \"889bfd9166f14faa853a08628f388dbb\"\n",
    "}\n",
    "\n",
    "response_TX_Land = requests.get(url_TX_Land, headers=headers_TX_Land).json()"
   ]
  },
  {
   "cell_type": "code",
   "execution_count": 127,
   "id": "9363dbb6",
   "metadata": {},
   "outputs": [
    {
     "name": "stdout",
     "output_type": "stream",
     "text": [
      "{'floorCount': 1, 'unitCount': 1}\n",
      "{'architectureType': 'Traditional', 'cooling': True, 'coolingType': 'Commercial', 'exteriorType': 'Wood Frame / Siding', 'floorCount': 2, 'foundationType': 'Pier', 'garage': True, 'garageType': 'Carport', 'heating': True, 'heatingType': 'Floor Furnace', 'roofType': 'Gravel', 'unitCount': 1}\n"
     ]
    }
   ],
   "source": [
    "check_roomCounts(response_TX_Land)\n",
    "check_features(response_TX_Land)"
   ]
  },
  {
   "cell_type": "markdown",
   "id": "9378263c",
   "metadata": {},
   "source": [
    "# Galveston, Texas\n",
    "## 4. Condo"
   ]
  },
  {
   "cell_type": "code",
   "execution_count": 130,
   "id": "60193968",
   "metadata": {},
   "outputs": [],
   "source": [
    "# Texas Condo category\n",
    "import requests\n",
    "\n",
    "url_TX_Condo = \"https://api.rentcast.io/v1/properties?city=Galveston&state=TX&propertyType=Condo&limit=500&offset=0\"\n",
    "\n",
    "headers_TX_Condo = {\n",
    "    \"accept\": \"application/json\",\n",
    "    \"X-Api-Key\": \"889bfd9166f14faa853a08628f388dbb\"\n",
    "}\n",
    "\n",
    "response_TX_Condo = requests.get(url_TX_Condo, headers=headers_TX_Condo).json()"
   ]
  },
  {
   "cell_type": "code",
   "execution_count": 325,
   "id": "c2c0426c",
   "metadata": {},
   "outputs": [
    {
     "data": {
      "text/plain": [
       "0"
      ]
     },
     "execution_count": 325,
     "metadata": {},
     "output_type": "execute_result"
    }
   ],
   "source": [
    "check_roomCounts(response_TX_Condo)\n",
    "#check_features(response_TX_Condo)"
   ]
  },
  {
   "cell_type": "code",
   "execution_count": 225,
   "id": "9bd44b14",
   "metadata": {},
   "outputs": [],
   "source": [
    "len(response_TX_Condo)\n",
    "# Offset!\n",
    "# Texas Condo category\n",
    "import requests\n",
    "\n",
    "url_TX_Condo_2 = \"https://api.rentcast.io/v1/properties?city=Galveston&state=TX&propertyType=Condo&limit=500&offset=501\"\n",
    "\n",
    "headers_TX_Condo_2 = {\n",
    "    \"accept\": \"application/json\",\n",
    "    \"X-Api-Key\": \"889bfd9166f14faa853a08628f388dbb\"\n",
    "}\n",
    "\n",
    "response_TX_Condo_2 = requests.get(url_TX_Condo_2, headers=headers_TX_Condo_2).json()\n"
   ]
  },
  {
   "cell_type": "code",
   "execution_count": 228,
   "id": "5104d82d",
   "metadata": {},
   "outputs": [],
   "source": [
    "len(response_TX_Condo_2)\n",
    "# 500, offset=1001\n",
    "import requests\n",
    "\n",
    "url_TX_Condo_3 = \"https://api.rentcast.io/v1/properties?city=Galveston&state=TX&propertyType=Condo&limit=500&offset=1001\"\n",
    "\n",
    "headers_TX_Condo_3 = {\n",
    "    \"accept\": \"application/json\",\n",
    "    \"X-Api-Key\": \"889bfd9166f14faa853a08628f388dbb\"\n",
    "}\n",
    "\n",
    "response_TX_Condo_3 = requests.get(url_TX_Condo_3, headers=headers_TX_Condo_3).json()"
   ]
  },
  {
   "cell_type": "code",
   "execution_count": 229,
   "id": "226d4f60",
   "metadata": {},
   "outputs": [
    {
     "data": {
      "text/plain": [
       "500"
      ]
     },
     "execution_count": 229,
     "metadata": {},
     "output_type": "execute_result"
    }
   ],
   "source": [
    "len(response_TX_Condo_3)"
   ]
  },
  {
   "cell_type": "code",
   "execution_count": 230,
   "id": "1966b3e5",
   "metadata": {},
   "outputs": [],
   "source": [
    "import requests\n",
    "\n",
    "url_TX_Condo_4 = \"https://api.rentcast.io/v1/properties?city=Galveston&state=TX&propertyType=Condo&limit=500&offset=1501\"\n",
    "\n",
    "headers_TX_Condo_4 = {\n",
    "    \"accept\": \"application/json\",\n",
    "    \"X-Api-Key\": \"889bfd9166f14faa853a08628f388dbb\"\n",
    "}\n",
    "\n",
    "response_TX_Condo_4 = requests.get(url_TX_Condo_4, headers=headers_TX_Condo_4).json()"
   ]
  },
  {
   "cell_type": "code",
   "execution_count": 231,
   "id": "1e519c46",
   "metadata": {},
   "outputs": [
    {
     "data": {
      "text/plain": [
       "500"
      ]
     },
     "execution_count": 231,
     "metadata": {},
     "output_type": "execute_result"
    }
   ],
   "source": [
    "len(response_TX_Condo_4)"
   ]
  },
  {
   "cell_type": "code",
   "execution_count": 232,
   "id": "5d9c2a9c",
   "metadata": {},
   "outputs": [],
   "source": [
    "import requests\n",
    "\n",
    "url_TX_Condo_5 = \"https://api.rentcast.io/v1/properties?city=Galveston&state=TX&propertyType=Condo&limit=500&offset=2001\"\n",
    "\n",
    "headers_TX_Condo_5 = {\n",
    "    \"accept\": \"application/json\",\n",
    "    \"X-Api-Key\": \"889bfd9166f14faa853a08628f388dbb\"\n",
    "}\n",
    "\n",
    "response_TX_Condo_5 = requests.get(url_TX_Condo_5, headers=headers_TX_Condo_5).json()"
   ]
  },
  {
   "cell_type": "code",
   "execution_count": 233,
   "id": "af720249",
   "metadata": {},
   "outputs": [
    {
     "data": {
      "text/plain": [
       "500"
      ]
     },
     "execution_count": 233,
     "metadata": {},
     "output_type": "execute_result"
    }
   ],
   "source": [
    "len(response_TX_Condo_5)"
   ]
  },
  {
   "cell_type": "code",
   "execution_count": 234,
   "id": "ffd873a8",
   "metadata": {},
   "outputs": [],
   "source": [
    "import requests\n",
    "\n",
    "url_TX_Condo_6 = \"https://api.rentcast.io/v1/properties?city=Galveston&state=TX&propertyType=Condo&limit=500&offset=2501\"\n",
    "\n",
    "headers_TX_Condo_6 = {\n",
    "    \"accept\": \"application/json\",\n",
    "    \"X-Api-Key\": \"889bfd9166f14faa853a08628f388dbb\"\n",
    "}\n",
    "\n",
    "response_TX_Condo_6 = requests.get(url_TX_Condo_6, headers=headers_TX_Condo_6).json()\n"
   ]
  },
  {
   "cell_type": "code",
   "execution_count": 235,
   "id": "c01fc8e3",
   "metadata": {},
   "outputs": [
    {
     "data": {
      "text/plain": [
       "500"
      ]
     },
     "execution_count": 235,
     "metadata": {},
     "output_type": "execute_result"
    }
   ],
   "source": [
    "len(response_TX_Condo_6)"
   ]
  },
  {
   "cell_type": "code",
   "execution_count": 236,
   "id": "533f2934",
   "metadata": {},
   "outputs": [],
   "source": [
    "import requests\n",
    "\n",
    "url_TX_Condo_7 = \"https://api.rentcast.io/v1/properties?city=Galveston&state=TX&propertyType=Condo&limit=500&offset=3001\"\n",
    "\n",
    "headers_TX_Condo_7 = {\n",
    "    \"accept\": \"application/json\",\n",
    "    \"X-Api-Key\": \"889bfd9166f14faa853a08628f388dbb\"\n",
    "}\n",
    "\n",
    "response_TX_Condo_7 = requests.get(url_TX_Condo_7, headers=headers_TX_Condo_7).json()\n"
   ]
  },
  {
   "cell_type": "code",
   "execution_count": 237,
   "id": "284d410a",
   "metadata": {},
   "outputs": [
    {
     "data": {
      "text/plain": [
       "37"
      ]
     },
     "execution_count": 237,
     "metadata": {},
     "output_type": "execute_result"
    }
   ],
   "source": [
    "len(response_TX_Condo_7)"
   ]
  },
  {
   "cell_type": "markdown",
   "id": "3cf42fc1",
   "metadata": {},
   "source": [
    "### We see that there are a lot of properties under the condo category!"
   ]
  },
  {
   "cell_type": "markdown",
   "id": "27e22ece",
   "metadata": {},
   "source": [
    "# Galveston, Texas\n",
    "## 5. Single Family"
   ]
  },
  {
   "cell_type": "code",
   "execution_count": 246,
   "id": "ad779a3f",
   "metadata": {},
   "outputs": [],
   "source": [
    "import requests\n",
    "\n",
    "url_TX_single = \"https://api.rentcast.io/v1/properties?city=Galveston&state=TX&propertyType=Single%20Family&limit=500&offset=0\"\n",
    "\n",
    "headers_TX_single = {\n",
    "    \"accept\": \"application/json\",\n",
    "    \"X-Api-Key\": \"889bfd9166f14faa853a08628f388dbb\"\n",
    "}\n",
    "\n",
    "response_TX_single = requests.get(url_TX_single, headers=headers_TX_single).json()\n"
   ]
  },
  {
   "cell_type": "code",
   "execution_count": 248,
   "id": "ad68d07c",
   "metadata": {},
   "outputs": [
    {
     "data": {
      "text/plain": [
       "500"
      ]
     },
     "execution_count": 248,
     "metadata": {},
     "output_type": "execute_result"
    }
   ],
   "source": [
    "len(response_TX_single)"
   ]
  },
  {
   "cell_type": "code",
   "execution_count": 250,
   "id": "ebac2daf",
   "metadata": {},
   "outputs": [],
   "source": [
    "import requests\n",
    "\n",
    "url_TX_single_2 = \"https://api.rentcast.io/v1/properties?city=Galveston&state=TX&propertyType=Single%20Family&limit=500&offset=501\"\n",
    "\n",
    "headers_TX_single_2 = {\n",
    "    \"accept\": \"application/json\",\n",
    "    \"X-Api-Key\": \"889bfd9166f14faa853a08628f388dbb\"\n",
    "}\n",
    "\n",
    "response_TX_single_2 = requests.get(url_TX_single_2, headers=headers_TX_single_2).json()\n"
   ]
  },
  {
   "cell_type": "code",
   "execution_count": 251,
   "id": "5f195094",
   "metadata": {},
   "outputs": [
    {
     "data": {
      "text/plain": [
       "500"
      ]
     },
     "execution_count": 251,
     "metadata": {},
     "output_type": "execute_result"
    }
   ],
   "source": [
    "len(response_TX_single_2)"
   ]
  },
  {
   "cell_type": "code",
   "execution_count": 253,
   "id": "582cf2a0",
   "metadata": {},
   "outputs": [],
   "source": [
    "import requests\n",
    "\n",
    "url_TX_single_3 = \"https://api.rentcast.io/v1/properties?city=Galveston&state=TX&propertyType=Single%20Family&limit=500&offset=1001\"\n",
    "\n",
    "headers_TX_single_3 = {\n",
    "    \"accept\": \"application/json\",\n",
    "    \"X-Api-Key\": \"889bfd9166f14faa853a08628f388dbb\"\n",
    "}\n",
    "\n",
    "response_TX_single_3 = requests.get(url_TX_single_3, headers=headers_TX_single_3).json()\n"
   ]
  },
  {
   "cell_type": "code",
   "execution_count": 254,
   "id": "e47043d4",
   "metadata": {},
   "outputs": [
    {
     "data": {
      "text/plain": [
       "500"
      ]
     },
     "execution_count": 254,
     "metadata": {},
     "output_type": "execute_result"
    }
   ],
   "source": [
    "len(response_TX_single_3)"
   ]
  },
  {
   "cell_type": "code",
   "execution_count": 255,
   "id": "24f2e7cf",
   "metadata": {},
   "outputs": [],
   "source": [
    "import requests\n",
    "\n",
    "url_TX_single_4 = \"https://api.rentcast.io/v1/properties?city=Galveston&state=TX&propertyType=Single%20Family&limit=500&offset=1501\"\n",
    "\n",
    "headers_TX_single_4 = {\n",
    "    \"accept\": \"application/json\",\n",
    "    \"X-Api-Key\": \"889bfd9166f14faa853a08628f388dbb\"\n",
    "}\n",
    "\n",
    "response_TX_single_4 = requests.get(url_TX_single_4, headers=headers_TX_single_4).json()\n"
   ]
  },
  {
   "cell_type": "code",
   "execution_count": 256,
   "id": "b420f155",
   "metadata": {},
   "outputs": [
    {
     "data": {
      "text/plain": [
       "500"
      ]
     },
     "execution_count": 256,
     "metadata": {},
     "output_type": "execute_result"
    }
   ],
   "source": [
    "len(response_TX_single_4)"
   ]
  },
  {
   "cell_type": "code",
   "execution_count": 257,
   "id": "6ddf3108",
   "metadata": {},
   "outputs": [],
   "source": [
    "import requests\n",
    "\n",
    "url_TX_single_5 = \"https://api.rentcast.io/v1/properties?city=Galveston&state=TX&propertyType=Single%20Family&limit=500&offset=2001\"\n",
    "\n",
    "headers_TX_single_5 = {\n",
    "    \"accept\": \"application/json\",\n",
    "    \"X-Api-Key\": \"889bfd9166f14faa853a08628f388dbb\"\n",
    "}\n",
    "\n",
    "response_TX_single_5 = requests.get(url_TX_single_5, headers=headers_TX_single_5).json()\n"
   ]
  },
  {
   "cell_type": "code",
   "execution_count": 258,
   "id": "100fef2c",
   "metadata": {},
   "outputs": [
    {
     "data": {
      "text/plain": [
       "500"
      ]
     },
     "execution_count": 258,
     "metadata": {},
     "output_type": "execute_result"
    }
   ],
   "source": [
    "len(response_TX_single_5)"
   ]
  },
  {
   "cell_type": "code",
   "execution_count": 259,
   "id": "5b0f5841",
   "metadata": {},
   "outputs": [],
   "source": [
    "import requests\n",
    "\n",
    "url_TX_single_6 = \"https://api.rentcast.io/v1/properties?city=Galveston&state=TX&propertyType=Single%20Family&limit=500&offset=2501\"\n",
    "\n",
    "headers_TX_single_6 = {\n",
    "    \"accept\": \"application/json\",\n",
    "    \"X-Api-Key\": \"889bfd9166f14faa853a08628f388dbb\"\n",
    "}\n",
    "\n",
    "response_TX_single_6 = requests.get(url_TX_single_6, headers=headers_TX_single_6).json()\n"
   ]
  },
  {
   "cell_type": "code",
   "execution_count": 261,
   "id": "65934a22",
   "metadata": {},
   "outputs": [
    {
     "data": {
      "text/plain": [
       "500"
      ]
     },
     "execution_count": 261,
     "metadata": {},
     "output_type": "execute_result"
    }
   ],
   "source": [
    "len(response_TX_single_6)"
   ]
  },
  {
   "cell_type": "code",
   "execution_count": 263,
   "id": "975c19ec",
   "metadata": {},
   "outputs": [],
   "source": [
    "import requests\n",
    "\n",
    "url_TX_single_7 = \"https://api.rentcast.io/v1/properties?city=Galveston&state=TX&propertyType=Single%20Family&limit=500&offset=2501\"\n",
    "\n",
    "headers_TX_single_7 = {\n",
    "    \"accept\": \"application/json\",\n",
    "    \"X-Api-Key\": \"889bfd9166f14faa853a08628f388dbb\"\n",
    "}\n",
    "\n",
    "response_TX_single_7 = requests.get(url_TX_single_7, headers=headers_TX_single_7).json()\n"
   ]
  },
  {
   "cell_type": "code",
   "execution_count": 264,
   "id": "45338c28",
   "metadata": {},
   "outputs": [
    {
     "data": {
      "text/plain": [
       "500"
      ]
     },
     "execution_count": 264,
     "metadata": {},
     "output_type": "execute_result"
    }
   ],
   "source": [
    "len(response_TX_single_7)"
   ]
  },
  {
   "cell_type": "code",
   "execution_count": 265,
   "id": "1eb61960",
   "metadata": {},
   "outputs": [],
   "source": [
    "import requests\n",
    "\n",
    "url_TX_single_8 = \"https://api.rentcast.io/v1/properties?city=Galveston&state=TX&propertyType=Single%20Family&limit=500&offset=3001\"\n",
    "\n",
    "headers_TX_single_8 = {\n",
    "    \"accept\": \"application/json\",\n",
    "    \"X-Api-Key\": \"889bfd9166f14faa853a08628f388dbb\"\n",
    "}\n",
    "\n",
    "response_TX_single_8 = requests.get(url_TX_single_8, headers=headers_TX_single_8).json()\n"
   ]
  },
  {
   "cell_type": "code",
   "execution_count": 266,
   "id": "3a0de8ac",
   "metadata": {},
   "outputs": [
    {
     "data": {
      "text/plain": [
       "500"
      ]
     },
     "execution_count": 266,
     "metadata": {},
     "output_type": "execute_result"
    }
   ],
   "source": [
    "len(response_TX_single_8)"
   ]
  },
  {
   "cell_type": "code",
   "execution_count": 267,
   "id": "bdec803b",
   "metadata": {},
   "outputs": [],
   "source": [
    "import requests\n",
    "\n",
    "url_TX_single_9 = \"https://api.rentcast.io/v1/properties?city=Galveston&state=TX&propertyType=Single%20Family&limit=500&offset=3501\"\n",
    "\n",
    "headers_TX_single_9 = {\n",
    "    \"accept\": \"application/json\",\n",
    "    \"X-Api-Key\": \"889bfd9166f14faa853a08628f388dbb\"\n",
    "}\n",
    "\n",
    "response_TX_single_9 = requests.get(url_TX_single_9, headers=headers_TX_single_9).json()\n"
   ]
  },
  {
   "cell_type": "code",
   "execution_count": 268,
   "id": "e2096acf",
   "metadata": {},
   "outputs": [
    {
     "data": {
      "text/plain": [
       "500"
      ]
     },
     "execution_count": 268,
     "metadata": {},
     "output_type": "execute_result"
    }
   ],
   "source": [
    "len(response_TX_single_9)"
   ]
  },
  {
   "cell_type": "code",
   "execution_count": null,
   "id": "05e7fbd9",
   "metadata": {},
   "outputs": [],
   "source": []
  },
  {
   "cell_type": "markdown",
   "id": "91bb69b0",
   "metadata": {},
   "source": [
    "# Galveston, Texas\n",
    "## 6. Apartment"
   ]
  },
  {
   "cell_type": "code",
   "execution_count": 139,
   "id": "ee088176",
   "metadata": {},
   "outputs": [],
   "source": [
    "import requests\n",
    "\n",
    "url_TX_Apar = \"https://api.rentcast.io/v1/properties?city=Galveston&state=TX&propertyType=Apartment&limit=500&offset=0\"\n",
    "\n",
    "headers_TX_Apar = {\n",
    "    \"accept\": \"application/json\",\n",
    "    \"X-Api-Key\": \"889bfd9166f14faa853a08628f388dbb\"\n",
    "}\n",
    "\n",
    "response_TX_Apar = requests.get(url_TX_Apar, headers=headers_TX_Apar).json()"
   ]
  },
  {
   "cell_type": "code",
   "execution_count": 326,
   "id": "fcb94910",
   "metadata": {},
   "outputs": [],
   "source": [
    "#response_TX_Apar"
   ]
  },
  {
   "cell_type": "code",
   "execution_count": 163,
   "id": "20626270",
   "metadata": {},
   "outputs": [
    {
     "data": {
      "text/plain": [
       "500"
      ]
     },
     "execution_count": 163,
     "metadata": {},
     "output_type": "execute_result"
    }
   ],
   "source": [
    "len(response_TX_Apar)\n",
    "# We need to call the API again, use offset to get more apartments"
   ]
  },
  {
   "cell_type": "code",
   "execution_count": 145,
   "id": "00daac69",
   "metadata": {},
   "outputs": [],
   "source": [
    "import requests\n",
    "\n",
    "url_TX_Apar_2 = \"https://api.rentcast.io/v1/properties?city=Galveston&state=TX&propertyType=Apartment&limit=500&offset=501\"\n",
    "\n",
    "headers_TX_Apar_2 = {\n",
    "    \"accept\": \"application/json\",\n",
    "    \"X-Api-Key\": \"889bfd9166f14faa853a08628f388dbb\"\n",
    "}\n",
    "\n",
    "response_TX_Apar_2 = requests.get(url_TX_Apar_2, headers=headers_TX_Apar_2).json()"
   ]
  },
  {
   "cell_type": "code",
   "execution_count": 162,
   "id": "d9a9ce96",
   "metadata": {},
   "outputs": [
    {
     "data": {
      "text/plain": [
       "500"
      ]
     },
     "execution_count": 162,
     "metadata": {},
     "output_type": "execute_result"
    }
   ],
   "source": [
    "len(response_TX_Apar_2)\n",
    "#response_TX_Apar_2"
   ]
  },
  {
   "cell_type": "code",
   "execution_count": 150,
   "id": "012a4f80",
   "metadata": {},
   "outputs": [],
   "source": [
    "import requests\n",
    "\n",
    "url_TX_Apar_3 = \"https://api.rentcast.io/v1/properties?city=Galveston&state=TX&propertyType=Apartment&limit=500&offset=1001\"\n",
    "\n",
    "headers_TX_Apar_3 = {\n",
    "    \"accept\": \"application/json\",\n",
    "    \"X-Api-Key\": \"889bfd9166f14faa853a08628f388dbb\"\n",
    "}\n",
    "\n",
    "response_TX_Apar_3 = requests.get(url_TX_Apar_3, headers=headers_TX_Apar_3).json()"
   ]
  },
  {
   "cell_type": "code",
   "execution_count": 152,
   "id": "90fcf3f9",
   "metadata": {},
   "outputs": [
    {
     "data": {
      "text/plain": [
       "106"
      ]
     },
     "execution_count": 152,
     "metadata": {},
     "output_type": "execute_result"
    }
   ],
   "source": [
    "len(url_TX_Apar_3)\n",
    "# We have exausted all the apartments in Galveston, TX\n",
    "# We now merge the three Json data objects into one"
   ]
  },
  {
   "cell_type": "code",
   "execution_count": 180,
   "id": "4de1eb42",
   "metadata": {},
   "outputs": [
    {
     "name": "stdout",
     "output_type": "stream",
     "text": [
      "Total number of Apartments available for Galveston,TX is:1246\n"
     ]
    }
   ],
   "source": [
    "# Merging url_TX_Apar, url_TX_Apar_2, and url_TX_Apar_3\n",
    "combined_json_TX_apar = response_TX_Apar+response_TX_Apar_2+response_TX_Apar_3\n",
    "total_apart_tx = len(combined_json_TX_apar)\n",
    "print(f\"Total number of Apartments available for Galveston,TX is:{total_apart_tx}\")"
   ]
  },
  {
   "cell_type": "code",
   "execution_count": 193,
   "id": "66c4cbc1",
   "metadata": {},
   "outputs": [
    {
     "name": "stdout",
     "output_type": "stream",
     "text": [
      "Address: 3421 Ave N, Galveston, TX 77550, Room Count: 10\n",
      "Address: 1302 39th St, Galveston, TX 77550, Room Count: 10\n",
      "Address: 2802 Winnie St, Galveston, TX 77550, Room Count: 9\n",
      "Address: 3114 Seawall Blvd, Galveston, TX 77550, Room Count: 8\n",
      "Address: 2728 Ave Q, Galveston, TX 77550, Room Count: 1\n",
      "Address: 2805 Ave M, Galveston, TX 77550, Room Count: 8\n",
      "Address: 16602 Termini San Luis Pass Rd, Galveston, TX 77554, Room Count: 8\n",
      "Address: 7114 N Holiday Dr, Galveston, TX 77550, Room Count: 8\n",
      "Address: 7093 N Holiday Dr, Galveston, TX 77550, Room Count: 8\n",
      "Address: 3426 Ave S, Galveston, TX 77550, Room Count: 10\n",
      "Address: 7032 N Holiday Dr, Galveston, TX 77550, Room Count: 8\n",
      "Address: 3916 Broadway St, Galveston, TX 77550, Room Count: 12\n",
      "Address: 1004 Broadway St, Galveston, TX 77550, Room Count: 10\n",
      "Address: 1401 Bayou Shore Dr, Galveston, TX 77551, Room Count: 10\n",
      "Address: 713 Ball St, Galveston, TX 77550, Room Count: 8\n",
      "Address: 5615 Ave R, Galveston, TX 77551, Room Count: 8\n",
      "Address: 2308 53rd St, Galveston, TX 77551, Room Count: 8\n",
      "Address: 711 7th St, Galveston, TX 77550, Room Count: 8\n",
      "Address: 2828 Church St, Galveston, TX 77550, Room Count: 9\n",
      "Address: 5710 Ave Q, Galveston, TX 77551, Room Count: 8\n",
      "Address: 909 University Blvd, Galveston, TX 77550, Room Count: 10\n",
      "Address: 1201 Sealy St, Galveston, TX 77550, Room Count: 8\n",
      "Address: 1015 8th St, Galveston, TX 77550, Room Count: 8\n",
      "Address: 2428 Ave P, Galveston, TX 77550, Room Count: 8\n",
      "Address: 502 Holiday Dr, Galveston, TX 77550, Room Count: 8\n",
      "Address: 2422 Ave Q, Galveston, TX 77550, Room Count: 10\n"
     ]
    },
    {
     "data": {
      "text/plain": [
       "26"
      ]
     },
     "execution_count": 193,
     "metadata": {},
     "output_type": "execute_result"
    }
   ],
   "source": [
    "# Analyze \n",
    "check_roomCounts(combined_json_TX_apar)"
   ]
  },
  {
   "cell_type": "code",
   "execution_count": 196,
   "id": "5a7984ae",
   "metadata": {},
   "outputs": [
    {
     "name": "stdout",
     "output_type": "stream",
     "text": [
      "Address: 3421 Ave N, Galveston, TX 77550, Room Count: 10\n",
      "Address: 1302 39th St, Galveston, TX 77550, Room Count: 10\n",
      "Address: 2802 Winnie St, Galveston, TX 77550, Room Count: 9\n",
      "Address: 3114 Seawall Blvd, Galveston, TX 77550, Room Count: 8\n",
      "Address: 2728 Ave Q, Galveston, TX 77550, Room Count: 1\n",
      "Address: 2805 Ave M, Galveston, TX 77550, Room Count: 8\n",
      "Address: 16602 Termini San Luis Pass Rd, Galveston, TX 77554, Room Count: 8\n",
      "Address: 7114 N Holiday Dr, Galveston, TX 77550, Room Count: 8\n",
      "Address: 7093 N Holiday Dr, Galveston, TX 77550, Room Count: 8\n",
      "Address: 3426 Ave S, Galveston, TX 77550, Room Count: 10\n",
      "Address: 7032 N Holiday Dr, Galveston, TX 77550, Room Count: 8\n",
      "Address: 3916 Broadway St, Galveston, TX 77550, Room Count: 12\n",
      "Address: 1004 Broadway St, Galveston, TX 77550, Room Count: 10\n",
      "Address: 1401 Bayou Shore Dr, Galveston, TX 77551, Room Count: 10\n",
      "Address: 713 Ball St, Galveston, TX 77550, Room Count: 8\n",
      "Address: 5615 Ave R, Galveston, TX 77551, Room Count: 8\n",
      "Address: 2308 53rd St, Galveston, TX 77551, Room Count: 8\n",
      "Address: 711 7th St, Galveston, TX 77550, Room Count: 8\n",
      "Address: 2828 Church St, Galveston, TX 77550, Room Count: 9\n",
      "Address: 5710 Ave Q, Galveston, TX 77551, Room Count: 8\n",
      "Address: 909 University Blvd, Galveston, TX 77550, Room Count: 10\n",
      "Address: 1201 Sealy St, Galveston, TX 77550, Room Count: 8\n",
      "Address: 1015 8th St, Galveston, TX 77550, Room Count: 8\n",
      "Address: 2428 Ave P, Galveston, TX 77550, Room Count: 8\n",
      "Address: 502 Holiday Dr, Galveston, TX 77550, Room Count: 8\n",
      "Address: 2422 Ave Q, Galveston, TX 77550, Room Count: 10\n"
     ]
    }
   ],
   "source": [
    "# Determine roughly how many times building unit counts are left blank or null.\n",
    "number_contains_roomCount_TX = check_roomCounts(combined_json_TX_apar)\n",
    "# Ratio of buildings that are left blank or null\n",
    "ratio_TX_apart = number_contains_roomCount_TX / total_apart_tx"
   ]
  },
  {
   "cell_type": "code",
   "execution_count": 197,
   "id": "21c7970d",
   "metadata": {},
   "outputs": [
    {
     "name": "stdout",
     "output_type": "stream",
     "text": [
      "Number of properties with null or blank 'unitCount': 0.02086677367576244\n"
     ]
    }
   ],
   "source": [
    "print(f\"Number of properties with null or blank 'unitCount': {ratio_TX_apart}\")"
   ]
  },
  {
   "cell_type": "markdown",
   "id": "f278d958",
   "metadata": {},
   "source": [
    "We see that around 2% of the apartments in Galveston, TX contains unitCount information."
   ]
  },
  {
   "cell_type": "code",
   "execution_count": 327,
   "id": "c0bad309",
   "metadata": {},
   "outputs": [],
   "source": [
    "#combined_json_TX_apar"
   ]
  },
  {
   "cell_type": "markdown",
   "id": "d64cb4ce",
   "metadata": {},
   "source": [
    "### Read the Padlet for Galveston, TX"
   ]
  },
  {
   "cell_type": "code",
   "execution_count": 211,
   "id": "7883d9ee",
   "metadata": {},
   "outputs": [
    {
     "data": {
      "text/html": [
       "<div>\n",
       "<style scoped>\n",
       "    .dataframe tbody tr th:only-of-type {\n",
       "        vertical-align: middle;\n",
       "    }\n",
       "\n",
       "    .dataframe tbody tr th {\n",
       "        vertical-align: top;\n",
       "    }\n",
       "\n",
       "    .dataframe thead th {\n",
       "        text-align: right;\n",
       "    }\n",
       "</style>\n",
       "<table border=\"1\" class=\"dataframe\">\n",
       "  <thead>\n",
       "    <tr style=\"text-align: right;\">\n",
       "      <th></th>\n",
       "      <th>Post number</th>\n",
       "      <th>Section</th>\n",
       "      <th>Subject</th>\n",
       "      <th>Body</th>\n",
       "      <th>Attachment</th>\n",
       "      <th>Attachment caption</th>\n",
       "      <th>Location</th>\n",
       "      <th>Latitude</th>\n",
       "      <th>Longitude</th>\n",
       "      <th>Author</th>\n",
       "      <th>Created At</th>\n",
       "      <th>Updated At</th>\n",
       "    </tr>\n",
       "  </thead>\n",
       "  <tbody>\n",
       "    <tr>\n",
       "      <th>0</th>\n",
       "      <td>1</td>\n",
       "      <td>Outdoor Bins</td>\n",
       "      <td>Leeland House</td>\n",
       "      <td>Source: yelp\\nCategories: Restaurants</td>\n",
       "      <td>https://www.yelp.com/biz/leeland-house-galvest...</td>\n",
       "      <td>Website Url</td>\n",
       "      <td>2711 Market St, Galveston, TX 77550</td>\n",
       "      <td>29.303881</td>\n",
       "      <td>-94.798849</td>\n",
       "      <td>Launa Greer (launagreer)</td>\n",
       "      <td>2024-03-29 21:15:17 UTC</td>\n",
       "      <td>2024-03-29 21:15:17 UTC</td>\n",
       "    </tr>\n",
       "    <tr>\n",
       "      <th>1</th>\n",
       "      <td>2</td>\n",
       "      <td>Outdoor Bins</td>\n",
       "      <td>Chick-fil-A</td>\n",
       "      <td>Source: yelp\\nCategories: Fast Food|Chicken Sh...</td>\n",
       "      <td>https://www.yelp.com/biz/chick-fil-a-galveston...</td>\n",
       "      <td>Website Url</td>\n",
       "      <td>2501 Seawall Blvd, Galveston, TX 77550</td>\n",
       "      <td>29.288736</td>\n",
       "      <td>-94.790329</td>\n",
       "      <td>Launa Greer (launagreer)</td>\n",
       "      <td>2024-03-29 21:15:18 UTC</td>\n",
       "      <td>2024-03-29 21:15:18 UTC</td>\n",
       "    </tr>\n",
       "    <tr>\n",
       "      <th>2</th>\n",
       "      <td>3</td>\n",
       "      <td>Outdoor Bins</td>\n",
       "      <td>Peking Buffet</td>\n",
       "      <td>Source: yelp\\nCategories: Chinese|Buffets|Asia...</td>\n",
       "      <td>https://www.yelp.com/biz/peking-buffet-galvest...</td>\n",
       "      <td>Website Url</td>\n",
       "      <td>6125 Central City Blvd, Galveston, TX 77551</td>\n",
       "      <td>29.268920</td>\n",
       "      <td>-94.828520</td>\n",
       "      <td>Launa Greer (launagreer)</td>\n",
       "      <td>2024-03-29 21:15:18 UTC</td>\n",
       "      <td>2024-03-29 21:15:18 UTC</td>\n",
       "    </tr>\n",
       "    <tr>\n",
       "      <th>3</th>\n",
       "      <td>4</td>\n",
       "      <td>Outdoor Bins</td>\n",
       "      <td>Henry's Mexican Restaurant</td>\n",
       "      <td>Source: yelp\\nCategories: Mexican|Seafood|Burgers</td>\n",
       "      <td>https://www.yelp.com/biz/henrys-mexican-restau...</td>\n",
       "      <td>Website Url</td>\n",
       "      <td>2823 Broadway St, Galveston, TX 77550</td>\n",
       "      <td>29.297983</td>\n",
       "      <td>-94.798500</td>\n",
       "      <td>Launa Greer (launagreer)</td>\n",
       "      <td>2024-03-29 21:15:19 UTC</td>\n",
       "      <td>2024-03-29 21:15:19 UTC</td>\n",
       "    </tr>\n",
       "    <tr>\n",
       "      <th>4</th>\n",
       "      <td>5</td>\n",
       "      <td>Outdoor Bins</td>\n",
       "      <td>Blake's Bistro</td>\n",
       "      <td>Source: yelp\\nCategories: American|Breakfast &amp;...</td>\n",
       "      <td>https://www.yelp.com/biz/blakes-bistro-galvest...</td>\n",
       "      <td>Website Url</td>\n",
       "      <td>5222 Seawall Blvd, Galveston, TX 77551</td>\n",
       "      <td>29.272540</td>\n",
       "      <td>-94.818292</td>\n",
       "      <td>Launa Greer (launagreer)</td>\n",
       "      <td>2024-03-29 21:15:21 UTC</td>\n",
       "      <td>2024-03-29 21:15:21 UTC</td>\n",
       "    </tr>\n",
       "  </tbody>\n",
       "</table>\n",
       "</div>"
      ],
      "text/plain": [
       "   Post number       Section                     Subject  \\\n",
       "0            1  Outdoor Bins               Leeland House   \n",
       "1            2  Outdoor Bins                 Chick-fil-A   \n",
       "2            3  Outdoor Bins               Peking Buffet   \n",
       "3            4  Outdoor Bins  Henry's Mexican Restaurant   \n",
       "4            5  Outdoor Bins              Blake's Bistro   \n",
       "\n",
       "                                                Body  \\\n",
       "0              Source: yelp\\nCategories: Restaurants   \n",
       "1  Source: yelp\\nCategories: Fast Food|Chicken Sh...   \n",
       "2  Source: yelp\\nCategories: Chinese|Buffets|Asia...   \n",
       "3  Source: yelp\\nCategories: Mexican|Seafood|Burgers   \n",
       "4  Source: yelp\\nCategories: American|Breakfast &...   \n",
       "\n",
       "                                          Attachment Attachment caption  \\\n",
       "0  https://www.yelp.com/biz/leeland-house-galvest...        Website Url   \n",
       "1  https://www.yelp.com/biz/chick-fil-a-galveston...        Website Url   \n",
       "2  https://www.yelp.com/biz/peking-buffet-galvest...        Website Url   \n",
       "3  https://www.yelp.com/biz/henrys-mexican-restau...        Website Url   \n",
       "4  https://www.yelp.com/biz/blakes-bistro-galvest...        Website Url   \n",
       "\n",
       "                                      Location   Latitude  Longitude  \\\n",
       "0          2711 Market St, Galveston, TX 77550  29.303881 -94.798849   \n",
       "1       2501 Seawall Blvd, Galveston, TX 77550  29.288736 -94.790329   \n",
       "2  6125 Central City Blvd, Galveston, TX 77551  29.268920 -94.828520   \n",
       "3        2823 Broadway St, Galveston, TX 77550  29.297983 -94.798500   \n",
       "4       5222 Seawall Blvd, Galveston, TX 77551  29.272540 -94.818292   \n",
       "\n",
       "                     Author               Created At               Updated At  \n",
       "0  Launa Greer (launagreer)  2024-03-29 21:15:17 UTC  2024-03-29 21:15:17 UTC  \n",
       "1  Launa Greer (launagreer)  2024-03-29 21:15:18 UTC  2024-03-29 21:15:18 UTC  \n",
       "2  Launa Greer (launagreer)  2024-03-29 21:15:18 UTC  2024-03-29 21:15:18 UTC  \n",
       "3  Launa Greer (launagreer)  2024-03-29 21:15:19 UTC  2024-03-29 21:15:19 UTC  \n",
       "4  Launa Greer (launagreer)  2024-03-29 21:15:21 UTC  2024-03-29 21:15:21 UTC  "
      ]
     },
     "execution_count": 211,
     "metadata": {},
     "output_type": "execute_result"
    }
   ],
   "source": [
    "import pandas as pd\n",
    "\n",
    "df_excel = pd.read_excel('/Users/kd6801/Desktop/padlet-TX.xlsx')\n",
    "# Display the first few rows of the dataframe\n",
    "df_excel.head()"
   ]
  },
  {
   "cell_type": "code",
   "execution_count": 220,
   "id": "f616b134",
   "metadata": {},
   "outputs": [
    {
     "data": {
      "text/plain": [
       "249"
      ]
     },
     "execution_count": 220,
     "metadata": {},
     "output_type": "execute_result"
    }
   ],
   "source": [
    "# Create a set of locations from the 'Location' column\n",
    "padlet_locations_TX = set(df_excel['Location'].unique())\n",
    "#padlet_locations_TX\n",
    "len(padlet_locations_TX)"
   ]
  },
  {
   "cell_type": "code",
   "execution_count": 221,
   "id": "f64048a0",
   "metadata": {},
   "outputs": [
    {
     "data": {
      "text/plain": [
       "1246"
      ]
     },
     "execution_count": 221,
     "metadata": {},
     "output_type": "execute_result"
    }
   ],
   "source": [
    "# Create a set of formatted addresses from API data\n",
    "api_addresses = {item['formattedAddress'] for item in combined_json_TX_apar}\n",
    "#api_addresses\n",
    "len(api_addresses)"
   ]
  },
  {
   "cell_type": "code",
   "execution_count": 219,
   "id": "e982da9e",
   "metadata": {},
   "outputs": [
    {
     "name": "stdout",
     "output_type": "stream",
     "text": [
      "Number of matching locations: 17\n"
     ]
    }
   ],
   "source": [
    "# Find matches between API addresses and Padlet locations\n",
    "matches = api_addresses.intersection(padlet_locations_TX)\n",
    "\n",
    "# Count and print the number of matches\n",
    "print(f\"Number of matching locations: {len(matches)}\")\n"
   ]
  },
  {
   "cell_type": "markdown",
   "id": "b9608954",
   "metadata": {},
   "source": [
    "#### We have 249 Outdoor Bins locations in the padlet excel file, and we see that Number of matching locations is 17. Maybe we can combine all the API Response data for all types and again figure out the number of matching locations. "
   ]
  },
  {
   "cell_type": "code",
   "execution_count": 277,
   "id": "e3134c12",
   "metadata": {},
   "outputs": [],
   "source": [
    "# Combined all categories\n",
    "TX_final_combined = combined_json_TX_apar + response_TX_single + response_TX_single_2 + response_TX_single_3 + response_TX_single_4 + response_TX_single_5 + response_TX_single_6 + response_TX_single_7 + response_TX_single_8 + response_TX_single_9+response_TX_Condo + response_TX_Condo_2 + response_TX_Condo_3 + response_TX_Condo_4 + response_TX_Condo_5 + response_TX_Condo_6 + response_TX_Condo_7+response_TX_Land+response_TX_Manu+response_TX_Multi+response_TX_Multi_2"
   ]
  },
  {
   "cell_type": "code",
   "execution_count": 278,
   "id": "d2b4842b",
   "metadata": {},
   "outputs": [
    {
     "name": "stdout",
     "output_type": "stream",
     "text": [
      "10162\n"
     ]
    }
   ],
   "source": [
    "print(len(TX_final_combined))\n",
    "# We now have 10162 entries"
   ]
  },
  {
   "cell_type": "code",
   "execution_count": 283,
   "id": "d3835ad7",
   "metadata": {},
   "outputs": [
    {
     "data": {
      "text/plain": [
       "9662"
      ]
     },
     "execution_count": 283,
     "metadata": {},
     "output_type": "execute_result"
    }
   ],
   "source": [
    "# Create a set of formatted addresses from API data\n",
    "api_addresses_combined = {item['formattedAddress'] for item in TX_final_combined}\n",
    "# See how many of these we have\n",
    "len(api_addresses_combined)"
   ]
  },
  {
   "cell_type": "code",
   "execution_count": 282,
   "id": "b1f93042",
   "metadata": {},
   "outputs": [
    {
     "name": "stdout",
     "output_type": "stream",
     "text": [
      "Number of matching locations, from a larger API dataset: 27\n"
     ]
    }
   ],
   "source": [
    "# Find matches between API addresses and Padlet locations\n",
    "matches_2 = api_addresses_combined.intersection(padlet_locations_TX_combined)\n",
    "\n",
    "# Count and print the number of matches\n",
    "print(f\"Number of matching locations, from a larger API dataset: {len(matches_2)}\")\n"
   ]
  },
  {
   "cell_type": "markdown",
   "id": "57bb8993",
   "metadata": {},
   "source": [
    "We see that our number matching location increases from 17 to 27."
   ]
  },
  {
   "cell_type": "code",
   "execution_count": 285,
   "id": "e32fdfdb",
   "metadata": {},
   "outputs": [
    {
     "name": "stdout",
     "output_type": "stream",
     "text": [
      "Number of entries for Apartments or Condominiums: 30\n"
     ]
    }
   ],
   "source": [
    "# The number of entries/properties classified as Apartments/Condo:\n",
    "apartment_condo_entries = df_excel['Body'].str.contains('Apartments|Condominiums', case=False, na=False)\n",
    "# Count the number of true entries in the filtered result\n",
    "count = apartment_condo_entries.sum()\n",
    "\n",
    "print(f\"Number of entries for Apartments or Condominiums: {count}\")"
   ]
  },
  {
   "cell_type": "markdown",
   "id": "5fa8337b",
   "metadata": {},
   "source": [
    "### We see that 27 out of 30 locations are covered by the RentCast API. For Galveston, TX, the coverage rate is 27/30=90%."
   ]
  },
  {
   "cell_type": "code",
   "execution_count": 286,
   "id": "4918020f",
   "metadata": {},
   "outputs": [
    {
     "data": {
      "text/plain": [
       "{'1108 Ave L, Galveston, TX 77550',\n",
       " '1302 39th St, Galveston, TX 77550',\n",
       " '1524 Strand St, Galveston, TX 77550',\n",
       " '2016 Strand St, Galveston, TX 77550',\n",
       " '2027 25th St, Galveston, TX 77550',\n",
       " '210 Strand St, Galveston, TX 77550',\n",
       " '215 Market St, Galveston, TX 77550',\n",
       " '2208 Post Office St, Galveston, TX 77550',\n",
       " '2415 Ave N, Galveston, TX 77550',\n",
       " '2915 Ball St, Galveston, TX 77550',\n",
       " '302 25th St, Galveston, TX 77550',\n",
       " '3102 Cove View Blvd, Galveston, TX 77554',\n",
       " '3219 69th St, Galveston, TX 77551',\n",
       " '3222 69th St, Galveston, TX 77551',\n",
       " '3428 Cove View Blvd, Galveston, TX 77554',\n",
       " '3433 Cove View Blvd, Galveston, TX 77554',\n",
       " '3506 Cove View Blvd, Galveston, TX 77554',\n",
       " '4400 Ave N, Galveston, TX 77550',\n",
       " '4925 Fort Crockett Blvd, Galveston, TX 77551',\n",
       " '6102 Seawall Blvd, Galveston, TX 77551',\n",
       " '6300 Seawall Blvd, Galveston, TX 77551',\n",
       " '6424 Central City Blvd, Galveston, TX 77551',\n",
       " '7019 Lasker Dr, Galveston, TX 77551',\n",
       " '7310 Seawall Blvd, Apt 505, Galveston, TX 77551',\n",
       " '8020 Stewart Rd, Galveston, TX 77551',\n",
       " '8701 Teichman Rd, Galveston, TX 77554',\n",
       " '902 32nd St, Galveston, TX 77550'}"
      ]
     },
     "execution_count": 286,
     "metadata": {},
     "output_type": "execute_result"
    }
   ],
   "source": [
    "# Here are the matched locations\n",
    "matches_2"
   ]
  },
  {
   "cell_type": "code",
   "execution_count": 291,
   "id": "61c923e4",
   "metadata": {
    "scrolled": true
   },
   "outputs": [
    {
     "name": "stdout",
     "output_type": "stream",
     "text": [
      "4400 Ave N, Galveston, TX 77550: Unit Count = Not Specified\n",
      "3428 Cove View Blvd, Galveston, TX 77554: Unit Count = Not Specified\n",
      "4925 Fort Crockett Blvd, Galveston, TX 77551: Unit Count = Not Specified\n",
      "1302 39th St, Galveston, TX 77550: Unit Count = Not Specified\n",
      "8701 Teichman Rd, Galveston, TX 77554: Unit Count = Not Specified\n",
      "1108 Ave L, Galveston, TX 77550: Unit Count = 1\n",
      "3102 Cove View Blvd, Galveston, TX 77554: Unit Count = 8\n",
      "7019 Lasker Dr, Galveston, TX 77551: Unit Count = Not Specified\n",
      "1524 Strand St, Galveston, TX 77550: Unit Count = Not Specified\n",
      "215 Market St, Galveston, TX 77550: Unit Count = Not Specified\n",
      "3433 Cove View Blvd, Galveston, TX 77554: Unit Count = Not Specified\n",
      "8020 Stewart Rd, Galveston, TX 77551: Unit Count = Not Specified\n",
      "6424 Central City Blvd, Galveston, TX 77551: Unit Count = Not Specified\n",
      "3219 69th St, Galveston, TX 77551: Unit Count = Not Specified\n",
      "3222 69th St, Galveston, TX 77551: Unit Count = Not Specified\n",
      "210 Strand St, Galveston, TX 77550: Unit Count = Not Specified\n",
      "2915 Ball St, Galveston, TX 77550: Unit Count = Not Specified\n",
      "902 32nd St, Galveston, TX 77550: Unit Count = Not Specified\n",
      "2415 Ave N, Galveston, TX 77550: Unit Count = 1\n",
      "7310 Seawall Blvd, Apt 505, Galveston, TX 77551: Unit Count = 1\n",
      "6300 Seawall Blvd, Galveston, TX 77551: Unit Count = Not Specified\n",
      "3506 Cove View Blvd, Galveston, TX 77554: Unit Count = Not Specified\n",
      "2208 Post Office St, Galveston, TX 77550: Unit Count = Not Specified\n",
      "6102 Seawall Blvd, Galveston, TX 77551: Unit Count = Not Specified\n",
      "2016 Strand St, Galveston, TX 77550: Unit Count = Not Specified\n",
      "302 25th St, Galveston, TX 77550: Unit Count = Not Specified\n",
      "2027 25th St, Galveston, TX 77550: Unit Count = 2\n"
     ]
    }
   ],
   "source": [
    "# Verify the data from API source\n",
    "\n",
    "# Filter API response to include only properties with a matched location\n",
    "filtered_properties = [prop for prop in TX_final_combined if prop['formattedAddress'] in matches_2]\n",
    "\n",
    "# Initialize a dictionary to hold the roomCount for each matched property\n",
    "unit_counts = {}\n",
    "\n",
    "# Extract unitCount for each filtered property\n",
    "for prop in filtered_properties:\n",
    "    # Extracting formattedAddress for identification\n",
    "    address = prop['formattedAddress']\n",
    "    # Checking if 'features' is present and if 'roomCount' is available within 'features'\n",
    "    unit_count = prop.get('features', {}).get('unitCount', 'Not Specified')\n",
    "    unit_counts[address] = unit_count\n",
    "\n",
    "# Print unit counts for matched locations\n",
    "for address, count in unit_counts.items():\n",
    "    print(f\"{address}: Unit Count = {count}\")\n"
   ]
  },
  {
   "cell_type": "code",
   "execution_count": 294,
   "id": "247ac7a7",
   "metadata": {},
   "outputs": [
    {
     "name": "stdout",
     "output_type": "stream",
     "text": [
      "4400 Ave N, Galveston, TX 77550: room Count = Not Specified\n",
      "3428 Cove View Blvd, Galveston, TX 77554: room Count = Not Specified\n",
      "4925 Fort Crockett Blvd, Galveston, TX 77551: room Count = Not Specified\n",
      "1302 39th St, Galveston, TX 77550: room Count = 10\n",
      "8701 Teichman Rd, Galveston, TX 77554: room Count = Not Specified\n",
      "1108 Ave L, Galveston, TX 77550: room Count = Not Specified\n",
      "3102 Cove View Blvd, Galveston, TX 77554: room Count = Not Specified\n",
      "7019 Lasker Dr, Galveston, TX 77551: room Count = Not Specified\n",
      "1524 Strand St, Galveston, TX 77550: room Count = Not Specified\n",
      "215 Market St, Galveston, TX 77550: room Count = Not Specified\n",
      "3433 Cove View Blvd, Galveston, TX 77554: room Count = Not Specified\n",
      "8020 Stewart Rd, Galveston, TX 77551: room Count = Not Specified\n",
      "6424 Central City Blvd, Galveston, TX 77551: room Count = Not Specified\n",
      "3219 69th St, Galveston, TX 77551: room Count = Not Specified\n",
      "3222 69th St, Galveston, TX 77551: room Count = Not Specified\n",
      "210 Strand St, Galveston, TX 77550: room Count = Not Specified\n",
      "2915 Ball St, Galveston, TX 77550: room Count = Not Specified\n",
      "902 32nd St, Galveston, TX 77550: room Count = Not Specified\n",
      "2415 Ave N, Galveston, TX 77550: room Count = Not Specified\n",
      "7310 Seawall Blvd, Apt 505, Galveston, TX 77551: room Count = 5\n",
      "6300 Seawall Blvd, Galveston, TX 77551: room Count = Not Specified\n",
      "3506 Cove View Blvd, Galveston, TX 77554: room Count = Not Specified\n",
      "2208 Post Office St, Galveston, TX 77550: room Count = Not Specified\n",
      "6102 Seawall Blvd, Galveston, TX 77551: room Count = Not Specified\n",
      "2016 Strand St, Galveston, TX 77550: room Count = Not Specified\n",
      "302 25th St, Galveston, TX 77550: room Count = Not Specified\n",
      "2027 25th St, Galveston, TX 77550: room Count = 8\n"
     ]
    }
   ],
   "source": [
    "\n",
    "# For roomCount:\n",
    "filtered_properties = [prop for prop in TX_final_combined if prop['formattedAddress'] in matches_2]\n",
    "\n",
    "# Initialize a dictionary to hold the roomCount for each matched property\n",
    "unit_counts = {}\n",
    "\n",
    "# Extract unitCount for each filtered property\n",
    "for prop in filtered_properties:\n",
    "    # Extracting formattedAddress for identification\n",
    "    address = prop['formattedAddress']\n",
    "    # Checking if 'features' is present and if 'roomCount' is available within 'features'\n",
    "    unit_count = prop.get('features', {}).get('roomCount', 'Not Specified')\n",
    "    unit_counts[address] = unit_count\n",
    "\n",
    "# Print unit counts for matched locations\n",
    "for address, count in unit_counts.items():\n",
    "    print(f\"{address}: room Count = {count}\")\n"
   ]
  },
  {
   "cell_type": "markdown",
   "id": "2a4a3a00",
   "metadata": {},
   "source": [
    "## We see that 5 of the properties have unit count, and 3 of them have room count information."
   ]
  },
  {
   "cell_type": "markdown",
   "id": "520c587d",
   "metadata": {},
   "source": [
    "Perhaps we cannot only rely on these two parameters. We might want to do some exploratory analysis on other parameters and use them to predict the size of residential buildings. Ohterwise, I might need to explore footprint datasets from Microsoft and U.S. Federal Emergency Management Authority (FEMA). \n",
    "\n",
    "Take for example, when we look at the (motel) at 2027 25th St, Galveston, TX 77550\n",
    "The API provides us information that it has room count =8 and Unit Count = 2. This is an outdoor bin location, but probably API won't tell use it exceeds 90 units.\n",
    "\n",
    "\n",
    "### Conclusion\n",
    "Overall, (only) around 2% of the apartments in Galveston, TX contains roomCount information, which is the parameter of interest. After importing the padlet data, I see that 27 out of 30 locations are covered by the RentCast API. For Galveston, TX, the coverage rate is 27/30=90%, which is relatively decent. However, I also found that only 5 of the properties have unit count, and 3 of them have room count information."
   ]
  },
  {
   "cell_type": "code",
   "execution_count": null,
   "id": "d98ee4c7",
   "metadata": {},
   "outputs": [],
   "source": []
  }
 ],
 "metadata": {
  "kernelspec": {
   "display_name": "Python 3 (ipykernel)",
   "language": "python",
   "name": "python3"
  },
  "language_info": {
   "codemirror_mode": {
    "name": "ipython",
    "version": 3
   },
   "file_extension": ".py",
   "mimetype": "text/x-python",
   "name": "python",
   "nbconvert_exporter": "python",
   "pygments_lexer": "ipython3",
   "version": "3.9.12"
  }
 },
 "nbformat": 4,
 "nbformat_minor": 5
}
