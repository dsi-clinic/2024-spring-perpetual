{
 "cells": [
  {
   "cell_type": "code",
   "execution_count": 16,
   "id": "8352af20",
   "metadata": {},
   "outputs": [],
   "source": [
    "# Import all necessary libraries\n",
    "import pandas as pd\n",
    "import geopandas as gpd\n",
    "from shapely.geometry import Point\n",
    "import seaborn as sns\n",
    "%matplotlib inline\n",
    "from shapely.geometry import Polygon\n",
    "from shapely.geometry import Point,Polygon\n",
    "from pyproj import Proj, Transformer\n",
    "import matplotlib.pyplot as plt\n",
    "from geopy.geocoders import Nominatim\n",
    "from geopy.geocoders import GoogleV3\n",
    "import fiona\n",
    "import pyarrow as pa\n",
    "import pyarrow.parquet as pq\n",
    "import matplotlib.pyplot as plt\n",
    "import matplotlib.patches as mpatches\n",
    "import json\n",
    "import requests\n",
    "import pandas as pd\n",
    "import geopandas as gpd\n",
    "from geopy.geocoders import Nominatim\n",
    "from shapely.geometry import Point\n",
    "from shapely.ops import nearest_points\n",
    "from pyproj import CRS\n",
    "import geopandas as gpd\n",
    "from geopy.geocoders import Nominatim\n",
    "from shapely.geometry import Point\n",
    "from functools import lru_cache\n",
    "import concurrent.futures\n",
    "import pandas as pd\n",
    "import geopandas as gpd\n",
    "from shapely.geometry import Point, MultiPoint\n",
    "from sklearn.neighbors import BallTree\n",
    "import numpy as np\n",
    "\n",
    "\n",
    "#!pip install pyarrow\n",
    "#!pip install geopy\n",
    "#!pip install fiona"
   ]
  },
  {
   "cell_type": "markdown",
   "id": "38a99932",
   "metadata": {},
   "source": [
    "### Galveston"
   ]
  },
  {
   "cell_type": "code",
   "execution_count": 17,
   "id": "db11fa0d",
   "metadata": {},
   "outputs": [],
   "source": [
    "# Function to check if a DataFrame is a GeoDataFrame and has valid geometries\n",
    "def check_geodataframe(gdf, name):\n",
    "    # Check if it is a GeoDataFrame\n",
    "    if isinstance(gdf, gpd.GeoDataFrame):\n",
    "        print(f\"'{name}' is a GeoDataFrame.\")\n",
    "    else:\n",
    "        print(f\"'{name}' is not a GeoDataFrame.\")\n",
    "        return  # Stop further checks if it's not a GeoDataFrame\n",
    "    \n",
    "    # Check if the geometry column exists and has valid geometries\n",
    "    if 'geometry' in gdf.columns:\n",
    "        print(f\"'{name}' contains a 'geometry' column.\")\n",
    "        # Check for any invalid geometries\n",
    "        if gdf['geometry'].is_valid.all():\n",
    "            print(f\"All geometries in '{name}' are valid.\")\n",
    "        else:\n",
    "            print(f\"Some geometries in '{name}' are invalid.\")\n",
    "    else:\n",
    "        print(f\"'{name}' does not contain a 'geometry' column.\")"
   ]
  },
  {
   "cell_type": "code",
   "execution_count": 18,
   "id": "a4008606",
   "metadata": {},
   "outputs": [],
   "source": [
    "def calculate_units(row):\n",
    "    \"\"\"\n",
    "    Calculate the estimated number of units in a building based on its square footage and property type.\n",
    "\n",
    "    Parameters:\n",
    "    - row (pd.Series): A pandas Series representing a row of a DataFrame, expected to contain\n",
    "                       the building's property type and its total square footage.\n",
    "\n",
    "    Returns:\n",
    "    - float or None: The estimated number of units in the building if the property type is recognized\n",
    "                     and square footage is available. Returns None if the property type is not recognized\n",
    "                     or square footage is missing.\n",
    "\n",
    "    The function uses predefined average unit areas for different property types to estimate the number of units.\n",
    "    If the property type is not in the predefined list or the square footage is not provided, the function returns None.\n",
    "    \"\"\"\n",
    "    average_unit_areas = {\n",
    "        'Single Family': 2299,\n",
    "        'Multifamily': 1046,\n",
    "        'Condo': 592,\n",
    "        'Apartment': 592,\n",
    "        'Townhouse': 592,\n",
    "        'Manufactured': 2000,\n",
    "        'Land': 2000\n",
    "    }\n",
    "    building_type = row.get('propertyType')\n",
    "    average_area = average_unit_areas.get(building_type, None)\n",
    "    if average_area is not None and 'SQFEET' in row and row['SQFEET'] is not None:\n",
    "        return row['SQFEET'] / average_area\n",
    "    else:\n",
    "        return None"
   ]
  },
  {
   "cell_type": "code",
   "execution_count": 19,
   "id": "fbb99cc3",
   "metadata": {},
   "outputs": [],
   "source": [
    "# Load API Data\n",
    "api_data = pd.read_json('/Users/kd6801/Desktop/Texas_RentCast_data/TX_Apar.json')"
   ]
  },
  {
   "cell_type": "code",
   "execution_count": 20,
   "id": "49b9e220",
   "metadata": {},
   "outputs": [
    {
     "data": {
      "text/plain": [
       "1206"
      ]
     },
     "execution_count": 20,
     "metadata": {},
     "output_type": "execute_result"
    }
   ],
   "source": [
    "len(api_data)"
   ]
  },
  {
   "cell_type": "code",
   "execution_count": 26,
   "id": "f81ae4ad",
   "metadata": {},
   "outputs": [
    {
     "data": {
      "text/plain": [
       "id                  2101-Church-Rear-St,-Galveston,-TX-77550\n",
       "formattedAddress    2101 Church Rear St, Galveston, TX 77550\n",
       "addressLine1                             2101 Church Rear St\n",
       "addressLine2                                            None\n",
       "city                                               Galveston\n",
       "state                                                     TX\n",
       "zipCode                                                77550\n",
       "county                                      Galveston County\n",
       "latitude                                            29.30409\n",
       "longitude                                          -94.79115\n",
       "propertyType                                       Apartment\n",
       "yearBuilt                                             1927.0\n",
       "lastSaleDate                                             NaN\n",
       "squareFootage                                            NaN\n",
       "lotSize                                                  NaN\n",
       "assessorID                                               NaN\n",
       "legalDescription                                         NaN\n",
       "subdivision                                              NaN\n",
       "features                                                 NaN\n",
       "taxAssessments                                           NaN\n",
       "propertyTaxes                                            NaN\n",
       "owner                                                    NaN\n",
       "ownerOccupied                                            NaN\n",
       "bathrooms                                                NaN\n",
       "lastSalePrice                                            NaN\n",
       "bedrooms                                                 NaN\n",
       "Name: 1, dtype: object"
      ]
     },
     "execution_count": 26,
     "metadata": {},
     "output_type": "execute_result"
    }
   ],
   "source": [
    "#api_data.iloc[1]"
   ]
  },
  {
   "cell_type": "code",
   "execution_count": 13,
   "id": "13711817",
   "metadata": {},
   "outputs": [],
   "source": [
    "#api_data.iloc[2]"
   ]
  },
  {
   "cell_type": "code",
   "execution_count": 29,
   "id": "e9ee4ae6",
   "metadata": {},
   "outputs": [
    {
     "ename": "IndexError",
     "evalue": "list index out of range",
     "output_type": "error",
     "traceback": [
      "\u001b[0;31m---------------------------------------------------------------------------\u001b[0m",
      "\u001b[0;31mIndexError\u001b[0m                                Traceback (most recent call last)",
      "Input \u001b[0;32mIn [29]\u001b[0m, in \u001b[0;36m<cell line: 10>\u001b[0;34m()\u001b[0m\n\u001b[1;32m      6\u001b[0m layers \u001b[38;5;241m=\u001b[39m fiona\u001b[38;5;241m.\u001b[39mlistlayers(gdb_path)\n\u001b[1;32m      9\u001b[0m \u001b[38;5;66;03m# Read a specific layer into a GeoDataFrame\u001b[39;00m\n\u001b[0;32m---> 10\u001b[0m gdf \u001b[38;5;241m=\u001b[39m gpd\u001b[38;5;241m.\u001b[39mread_file(gdb_path, layer\u001b[38;5;241m=\u001b[39m\u001b[43mlayers\u001b[49m\u001b[43m[\u001b[49m\u001b[38;5;241;43m0\u001b[39;49m\u001b[43m]\u001b[49m)\n",
      "\u001b[0;31mIndexError\u001b[0m: list index out of range"
     ]
    }
   ],
   "source": [
    "# Load FEMA data\n",
    "# Path to my File Geodatabase\n",
    "gdb_path = '/Users/kd6801/Desktop/Texas-Fema/TX_Structures.gdb'\n",
    "\n",
    "# List all layers in the File Geodatabase\n",
    "layers = fiona.listlayers(gdb_path)\n",
    "\n",
    "\n",
    "# Read a specific layer into a GeoDataFrame\n",
    "gdf = gpd.read_file(gdb_path, layer=layers[0])\n",
    "\n",
    "# The FEMA Data is too large to load, we need to "
   ]
  },
  {
   "cell_type": "code",
   "execution_count": 6,
   "id": "62e80601",
   "metadata": {},
   "outputs": [],
   "source": [
    "# Load building foot-traffic data\n",
    "path_to_Galveston_parquet = '/Users/kd6801/Desktop/foot-traffic/galveston_full_patterns.parquet'\n",
    "foot =  pd.read_parquet(path_to_Galveston_parquet, engine='pyarrow')\n"
   ]
  },
  {
   "cell_type": "code",
   "execution_count": null,
   "id": "f6e988f1",
   "metadata": {},
   "outputs": [],
   "source": [
    "# Data Pre-processing, joining FEMA with API \n",
    "api_data['geometry'] = api_data.apply(lambda row: Point(row['longitude'], row['latitude']), axis=1)\n",
    "gdf_api = gpd.GeoDataFrame(api_data, geometry='geometry')\n",
    "gdf_api.set_crs('EPSG:4326',inplace=True)\n",
    "joined = gpd.sjoin(gdf_api, gdf, how=\"inner\", op='intersects')\n",
    "# Extract 'architectureType' from the 'features' dictionaries into a new column\n",
    "joined = joined.dropna(subset=['HEIGHT','SQFEET','features'])\n",
    "joined['architectureType'] = joined['features'].apply(lambda x: x.get('architectureType', None))\n"
   ]
  },
  {
   "cell_type": "code",
   "execution_count": null,
   "id": "fcf3cd2c",
   "metadata": {},
   "outputs": [],
   "source": [
    "fig, ax = plt.subplots(figsize=(10, 10))\n",
    "\n",
    "# Plot the building footprints\n",
    "joined.plot(ax=ax, color='lightgrey', edgecolor='black', alpha=0.5, label='Building Footprints')\n",
    "\n",
    "# Plot the locations of large apartments\n",
    "large_apartments_gdf.plot(ax=ax, color='cyan', markersize=10, label='Large Apartments')\n",
    "\n",
    "# Create custom patches\n",
    "building_patch = mpatches.Patch(color='lightgrey', label='Building Footprints')\n",
    "apartment_patch = mpatches.Patch(color='cyan', label='Large Apartments')\n",
    "\n",
    "# Add the custom patches to the legend\n",
    "ax.legend(handles=[building_patch, apartment_patch])\n",
    "\n",
    "# Add axis labels\n",
    "ax.set_xlabel('Longitude')\n",
    "ax.set_ylabel('Latitude')\n",
    "\n",
    "# Add a title\n",
    "ax.set_title('Large Residential Buildings Within Building Footprints for Hilo, HI (Using 3000 Threshold)')\n",
    "\n",
    "# Optional: remove the axis for a cleaner look\n",
    "ax.set_axis_off()\n",
    "\n",
    "# Show the plot\n",
    "plt.show()\n"
   ]
  },
  {
   "cell_type": "code",
   "execution_count": null,
   "id": "26787c0d",
   "metadata": {},
   "outputs": [],
   "source": []
  },
  {
   "cell_type": "code",
   "execution_count": null,
   "id": "ee02d11b",
   "metadata": {},
   "outputs": [],
   "source": []
  },
  {
   "cell_type": "code",
   "execution_count": null,
   "id": "e2645866",
   "metadata": {},
   "outputs": [],
   "source": []
  },
  {
   "cell_type": "code",
   "execution_count": null,
   "id": "f8c85858",
   "metadata": {},
   "outputs": [],
   "source": []
  },
  {
   "cell_type": "code",
   "execution_count": null,
   "id": "a593aeb0",
   "metadata": {},
   "outputs": [],
   "source": []
  }
 ],
 "metadata": {
  "kernelspec": {
   "display_name": "Python 3 (ipykernel)",
   "language": "python",
   "name": "python3"
  },
  "language_info": {
   "codemirror_mode": {
    "name": "ipython",
    "version": 3
   },
   "file_extension": ".py",
   "mimetype": "text/x-python",
   "name": "python",
   "nbconvert_exporter": "python",
   "pygments_lexer": "ipython3",
   "version": "3.9.12"
  }
 },
 "nbformat": 4,
 "nbformat_minor": 5
}
